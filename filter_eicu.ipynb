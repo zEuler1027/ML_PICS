{
 "cells": [
  {
   "attachments": {},
   "cell_type": "markdown",
   "metadata": {},
   "source": [
    "# filter_eicu\n"
   ]
  },
  {
   "attachments": {},
   "cell_type": "markdown",
   "metadata": {},
   "source": [
    "## common\n"
   ]
  },
  {
   "cell_type": "code",
   "execution_count": null,
   "metadata": {},
   "outputs": [],
   "source": [
    "import pandas as pd\n",
    "from common_eicu import *\n"
   ]
  },
  {
   "cell_type": "code",
   "execution_count": null,
   "metadata": {},
   "outputs": [],
   "source": [
    "TEST_MODE = False\n",
    "# TEST_MODE = True\n"
   ]
  },
  {
   "attachments": {},
   "cell_type": "markdown",
   "metadata": {},
   "source": [
    "## diagnosis\n"
   ]
  },
  {
   "cell_type": "code",
   "execution_count": null,
   "metadata": {},
   "outputs": [],
   "source": [
    "DIAGNOSIS_USE_COLS = [\n",
    "    KEY_IDENTITY,\n",
    "    KEY_DIAGNOSIS_STRING,\n",
    "]\n",
    "\n",
    "df_diagnosis = pd.read_csv(\n",
    "    DIAGNOSIS_PATH,\n",
    "    nrows=(TEST_ROWS if TEST_MODE else None),\n",
    "    usecols=DIAGNOSIS_USE_COLS,\n",
    ")\n",
    "\n",
    "# filter diagnosis strings\n",
    "diagnosis_mask = df_diagnosis[KEY_DIAGNOSIS_STRING].map(\n",
    "    lambda diagnosis_string: (\n",
    "        SEPSIS_KEYWORD in str(diagnosis_string).lower()\n",
    "    )\n",
    ")\n",
    "df_diagnosis = df_diagnosis[diagnosis_mask].copy()\n",
    "\n",
    "if TEST_MODE:\n",
    "    DIAGNOSIS_OUTPUT_PATH = relative_path('sepsis_eicu_test.csv')\n",
    "else:\n",
    "    DIAGNOSIS_OUTPUT_PATH = relative_path('sepsis_eicu.csv.gz')\n",
    "\n",
    "df_diagnosis.to_csv(\n",
    "    DIAGNOSIS_OUTPUT_PATH,\n",
    "    compression=(None if TEST_MODE else 'gzip'),\n",
    "    index=False,\n",
    ")\n"
   ]
  },
  {
   "attachments": {},
   "cell_type": "markdown",
   "metadata": {},
   "source": [
    "## exam\n"
   ]
  },
  {
   "cell_type": "code",
   "execution_count": null,
   "metadata": {},
   "outputs": [],
   "source": [
    "EXAM_USE_COLS = [\n",
    "    KEY_IDENTITY,\n",
    "    KEY_EXAM_OFFSET,\n",
    "    KEY_EXAM_NAME,\n",
    "    KEY_EXAM_RESULT,\n",
    "]\n",
    "\n",
    "df_exam = pd.read_csv(\n",
    "    EXAM_PATH,\n",
    "    usecols=EXAM_USE_COLS,\n",
    "    nrows=(TEST_ROWS if TEST_MODE else None),\n",
    ")\n",
    "\n",
    "# filter exam items\n",
    "exam_values = {\n",
    "    KEY_EXAM_NAME: EXAM_ITEMS_FULL,\n",
    "}\n",
    "exam_mask = df_exam.isin(exam_values).any(axis='columns')\n",
    "df_exam = df_exam[exam_mask].copy()\n",
    "\n",
    "# transform offset\n",
    "df_exam[KEY_EXAM_OFFSET] = \\\n",
    "    df_exam[KEY_EXAM_OFFSET].map(offset2days)\n",
    "\n",
    "if TEST_MODE:\n",
    "    EXAM_OUTPUT_PATH = relative_path('exam_eicu_filtered_test.csv')\n",
    "else:\n",
    "    EXAM_OUTPUT_PATH = relative_path('exam_eicu_filtered.csv.gz')\n",
    "\n",
    "df_exam.to_csv(\n",
    "    EXAM_OUTPUT_PATH,\n",
    "    compression=(None if TEST_MODE else 'gzip'),\n",
    "    index=False,\n",
    ")\n"
   ]
  },
  {
   "attachments": {},
   "cell_type": "markdown",
   "metadata": {},
   "source": [
    "## lab\n"
   ]
  },
  {
   "cell_type": "code",
   "execution_count": null,
   "metadata": {},
   "outputs": [],
   "source": [
    "LAB_USE_COLS = [\n",
    "    KEY_IDENTITY,\n",
    "    KEY_LAB_OFFSET,\n",
    "    KEY_LAB_NAME,\n",
    "    KEY_LAB_RESULT,\n",
    "]\n",
    "\n",
    "df_lab = pd.read_csv(\n",
    "    LAB_PATH,\n",
    "    nrows=(TEST_ROWS if TEST_MODE else None),\n",
    "    usecols=LAB_USE_COLS,\n",
    ")\n",
    "\n",
    "# filter lab items\n",
    "lab_values = {\n",
    "    KEY_LAB_NAME: LAB_VARIABLES_FULL,\n",
    "}\n",
    "lab_mask = df_lab.isin(lab_values).any(axis='columns')\n",
    "df_lab = df_lab[lab_mask].copy()\n",
    "\n",
    "# transform offset\n",
    "df_lab[KEY_LAB_OFFSET] = \\\n",
    "    df_lab[KEY_LAB_OFFSET].map(offset2days)\n",
    "\n",
    "if TEST_MODE:\n",
    "    LAB_OUTPUT_PATH = relative_path('lab_eicu_filtered_test.csv')\n",
    "else:\n",
    "    LAB_OUTPUT_PATH = relative_path('lab_eicu_filtered.csv.gz')\n",
    "\n",
    "df_lab.to_csv(\n",
    "    LAB_OUTPUT_PATH,\n",
    "    compression=(None if TEST_MODE else 'gzip'),\n",
    "    index=False,\n",
    ")\n"
   ]
  },
  {
   "attachments": {},
   "cell_type": "markdown",
   "metadata": {},
   "source": [
    "## treatment\n"
   ]
  },
  {
   "cell_type": "code",
   "execution_count": null,
   "metadata": {},
   "outputs": [],
   "source": [
    "TREATMENT_USE_COLS = [\n",
    "    KEY_IDENTITY,\n",
    "    KEY_TREATMENT_OFFSET,\n",
    "    KEY_TREATMENT_STRING,\n",
    "]\n",
    "\n",
    "df_treatment = pd.read_csv(\n",
    "    TREATMENT_PATH,\n",
    "    nrows=(TEST_ROWS if TEST_MODE else None),\n",
    "    usecols=TREATMENT_USE_COLS,\n",
    ")\n",
    "\n",
    "# filter treatment strings\n",
    "treatment_mask = df_treatment[KEY_TREATMENT_STRING].map(\n",
    "    lambda treatment_string: any(\n",
    "        keyword in treatment_string\n",
    "        for keyword in TREATMENT_KEYWORDS_FULL\n",
    "    )\n",
    ")\n",
    "df_treatment = df_treatment[treatment_mask].copy()\n",
    "\n",
    "# transform offset\n",
    "df_treatment[KEY_TREATMENT_OFFSET] = \\\n",
    "    df_treatment[KEY_TREATMENT_OFFSET].map(offset2days)\n",
    "\n",
    "if TEST_MODE:\n",
    "    TREATMENT_OUTPUT_PATH = relative_path('treatment_eicu_filtered_test.csv')\n",
    "else:\n",
    "    TREATMENT_OUTPUT_PATH = relative_path('treatment_eicu_filtered.csv.gz')\n",
    "\n",
    "df_treatment.to_csv(\n",
    "    TREATMENT_OUTPUT_PATH,\n",
    "    compression=(None if TEST_MODE else 'gzip'),\n",
    "    index=False,\n",
    ")\n"
   ]
  },
  {
   "attachments": {},
   "cell_type": "markdown",
   "metadata": {},
   "source": [
    "## periodic\n"
   ]
  },
  {
   "cell_type": "code",
   "execution_count": null,
   "metadata": {},
   "outputs": [],
   "source": []
  }
 ],
 "metadata": {
  "kernelspec": {
   "display_name": "Python 3",
   "language": "python",
   "name": "python3"
  },
  "language_info": {
   "name": "python",
   "version": "3.9.2 (tags/v3.9.2:1a79785, Feb 19 2021, 13:44:55) [MSC v.1928 64 bit (AMD64)]"
  },
  "orig_nbformat": 4,
  "vscode": {
   "interpreter": {
    "hash": "f7976576504ac6c456dadd405d7477574ca2a64265ee4724cfbc25daae5f6d94"
   }
  }
 },
 "nbformat": 4,
 "nbformat_minor": 2
}
