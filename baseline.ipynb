{
 "cells": [
  {
   "attachments": {},
   "cell_type": "markdown",
   "metadata": {},
   "source": [
    "# Baseline Characteristics\n"
   ]
  },
  {
   "cell_type": "code",
   "execution_count": 9,
   "metadata": {},
   "outputs": [],
   "source": [
    "from math import sqrt\n",
    "import numpy as np\n",
    "import pandas as pd\n",
    "from sympy.stats import StudentT, P\n",
    "from common_model_eicu import get_full_data\n",
    "from common_eicu import CATEGORICAL_COLUMNS, KEY_IDENTITY, KEY_FLAG"
   ]
  },
  {
   "cell_type": "code",
   "execution_count": 10,
   "metadata": {},
   "outputs": [
    {
     "data": {
      "text/plain": [
       "100308"
      ]
     },
     "execution_count": 10,
     "metadata": {},
     "output_type": "execute_result"
    }
   ],
   "source": [
    "df_data = get_full_data(np.nan)\n",
    "\n",
    "len(df_data)"
   ]
  },
  {
   "cell_type": "code",
   "execution_count": 11,
   "metadata": {},
   "outputs": [
    {
     "data": {
      "text/plain": [
       "17729"
      ]
     },
     "execution_count": 11,
     "metadata": {},
     "output_type": "execute_result"
    }
   ],
   "source": [
    "df_data[KEY_IDENTITY].nunique()"
   ]
  },
  {
   "cell_type": "code",
   "execution_count": 12,
   "metadata": {},
   "outputs": [
    {
     "data": {
      "text/plain": [
       "0    96442\n",
       "1     3866\n",
       "Name: flag, dtype: int64"
      ]
     },
     "execution_count": 12,
     "metadata": {},
     "output_type": "execute_result"
    }
   ],
   "source": [
    "df_data[KEY_FLAG].value_counts()"
   ]
  },
  {
   "cell_type": "code",
   "execution_count": 13,
   "metadata": {},
   "outputs": [
    {
     "data": {
      "text/plain": [
       "0    0.961459\n",
       "1    0.038541\n",
       "Name: flag, dtype: float64"
      ]
     },
     "execution_count": 13,
     "metadata": {},
     "output_type": "execute_result"
    }
   ],
   "source": [
    "df_data[KEY_FLAG].value_counts() / len(df_data)"
   ]
  },
  {
   "cell_type": "code",
   "execution_count": 14,
   "metadata": {},
   "outputs": [],
   "source": [
    "MAX_BMI = 100\n",
    "MIN_BMI = 10\n",
    "\n",
    "df_data.loc[df_data['BMI'] > MAX_BMI, 'BMI'] = MAX_BMI\n",
    "df_data.loc[df_data['BMI'] < MIN_BMI, 'BMI'] = MIN_BMI"
   ]
  },
  {
   "cell_type": "code",
   "execution_count": 29,
   "metadata": {},
   "outputs": [],
   "source": [
    "T_TEST_SAMPLES = 1_000_000\n",
    "\n",
    "def t_test(x: np.ndarray, y: np.ndarray) -> float:\n",
    "    '''\n",
    "    Test H_0: mean(x) = mean(y).\n",
    "\n",
    "    Returns\n",
    "    -------\n",
    "    p -- P(mean(x) == mean(y))\n",
    "    '''\n",
    "    mean_x = x.mean()\n",
    "    mean_y = y.mean()\n",
    "    n_x = len(x)\n",
    "    n_y = len(y)\n",
    "    S2_x = x.var(ddof=1)\n",
    "    S2_y = y.var(ddof=1)\n",
    "    dof = n_x + n_y - 2\n",
    "    S = sqrt(((n_x - 1) * S2_x + (n_y - 1) * S2_y) / dof)\n",
    "    T = (mean_x - mean_y) / S / sqrt(1 / n_x + 1 / n_y)\n",
    "    var = StudentT('var', dof)\n",
    "    try:\n",
    "        p = P(var > T, numsamples=T_TEST_SAMPLES)\n",
    "    except TypeError as error:\n",
    "        print(f'n_x = {n_x}')\n",
    "        print(f'n_y = {n_y}')\n",
    "        print(f'S2_x = {S2_x}')\n",
    "        print(f'S2_y = {S2_y}')\n",
    "        print(f'dof = {dof}')\n",
    "        print(f'S = {S}')\n",
    "        print(f'T = {T}')\n",
    "        raise error\n",
    "    if p > 0.5:\n",
    "        return 2 * (1 - p)\n",
    "    else:\n",
    "        return 2 * p"
   ]
  },
  {
   "cell_type": "code",
   "execution_count": 30,
   "metadata": {},
   "outputs": [],
   "source": [
    "KEY_BASELINE_INDEX = 'baseline_index'\n",
    "KEY_POSITIVE = 'positive'\n",
    "KEY_NEGATIVE = 'negative'\n",
    "KEY_P = 'p'\n",
    "\n",
    "df_positive = df_data.loc[df_data[KEY_FLAG] == 1]\n",
    "df_negative = df_data.loc[df_data[KEY_FLAG] == 0]\n",
    "\n",
    "baseline_records = []\n",
    "\n",
    "for column in df_data.columns:\n",
    "\n",
    "    if column == KEY_FLAG or column == KEY_IDENTITY:\n",
    "        continue\n",
    "\n",
    "    if column in CATEGORICAL_COLUMNS:\n",
    "        baseline_records.append({\n",
    "            KEY_BASELINE_INDEX: column,\n",
    "            KEY_POSITIVE: df_positive[column].mode()[0],\n",
    "            KEY_NEGATIVE: df_negative[column].mode()[0],\n",
    "        })\n",
    "    else:\n",
    "        baseline_records.append({\n",
    "            KEY_BASELINE_INDEX: column,\n",
    "            KEY_POSITIVE: df_positive[column].mean(),\n",
    "            KEY_NEGATIVE: df_negative[column].mean(),\n",
    "        })\n",
    "\n",
    "df_baseline = pd.DataFrame(baseline_records)\n",
    "df_baseline.set_index(KEY_BASELINE_INDEX, inplace=True)\n",
    "\n",
    "df_baseline[KEY_P] = 0.0\n",
    "for baseline_index in df_baseline.index:\n",
    "    value_positive = df_baseline.at[baseline_index, KEY_POSITIVE]\n",
    "    value_negative = df_baseline.at[baseline_index, KEY_NEGATIVE]\n",
    "    if baseline_index in CATEGORICAL_COLUMNS:\n",
    "        df_baseline.at[baseline_index, KEY_P] = \\\n",
    "            1.0 if value_positive == value_negative else 0.0\n",
    "    else:\n",
    "        samples_positive = df_positive[baseline_index] \\\n",
    "            .dropna() \\\n",
    "            .to_numpy()\n",
    "        samples_negative = df_negative[baseline_index] \\\n",
    "            .dropna() \\\n",
    "            .to_numpy()\n",
    "        df_baseline.at[baseline_index, KEY_P] = \\\n",
    "            t_test(samples_positive, samples_negative)"
   ]
  },
  {
   "cell_type": "code",
   "execution_count": 33,
   "metadata": {},
   "outputs": [],
   "source": [
    "df_baseline \\\n",
    "    .sort_values(by=KEY_P, ascending=True) \\\n",
    "    .to_csv('./data/baseline.csv')"
   ]
  }
 ],
 "metadata": {
  "kernelspec": {
   "display_name": "Python 3",
   "language": "python",
   "name": "python3"
  },
  "language_info": {
   "codemirror_mode": {
    "name": "ipython",
    "version": 3
   },
   "file_extension": ".py",
   "mimetype": "text/x-python",
   "name": "python",
   "nbconvert_exporter": "python",
   "pygments_lexer": "ipython3",
   "version": "3.9.2"
  },
  "orig_nbformat": 4
 },
 "nbformat": 4,
 "nbformat_minor": 2
}
