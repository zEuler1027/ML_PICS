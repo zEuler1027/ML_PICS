{
 "cells": [
  {
   "attachments": {},
   "cell_type": "markdown",
   "metadata": {},
   "source": [
    "# Baseline Characteristics\n"
   ]
  },
  {
   "cell_type": "code",
   "execution_count": 1,
   "metadata": {},
   "outputs": [],
   "source": [
    "import pandas as pd\n",
    "from common_model_eicu import get_full_data\n",
    "from common_eicu import CATEGORICAL_COLUMNS, KEY_IDENTITY, KEY_FLAG"
   ]
  },
  {
   "cell_type": "code",
   "execution_count": 2,
   "metadata": {},
   "outputs": [
    {
     "data": {
      "text/plain": [
       "0    96442\n",
       "1     3866\n",
       "Name: flag, dtype: int64"
      ]
     },
     "execution_count": 2,
     "metadata": {},
     "output_type": "execute_result"
    }
   ],
   "source": [
    "df_data = get_full_data()\n",
    "\n",
    "df_data[KEY_FLAG].value_counts()"
   ]
  },
  {
   "cell_type": "code",
   "execution_count": 3,
   "metadata": {},
   "outputs": [],
   "source": [
    "df_positive = df_data.loc[df_data[KEY_FLAG] == 1]\n",
    "df_negative = df_data.loc[df_data[KEY_FLAG] == 0]"
   ]
  },
  {
   "cell_type": "code",
   "execution_count": 4,
   "metadata": {},
   "outputs": [],
   "source": [
    "KEY_BASELINE_INDEX = 'index'\n",
    "KEY_POSITIVE = 'positive'\n",
    "KEY_NEGATIVE = 'negative'\n",
    "\n",
    "baseline_records = []\n",
    "\n",
    "for column in df_data.columns:\n",
    "\n",
    "    if column == KEY_FLAG or column == KEY_IDENTITY:\n",
    "        continue\n",
    "\n",
    "    if column in CATEGORICAL_COLUMNS:\n",
    "\n",
    "        baseline_records.append({\n",
    "            KEY_BASELINE_INDEX: f'mode({column})',\n",
    "            KEY_POSITIVE: df_positive[column].mode()[0],\n",
    "            KEY_NEGATIVE: df_negative[column].mode()[0],\n",
    "        })\n",
    "\n",
    "    else:\n",
    "\n",
    "        baseline_records.append({\n",
    "            KEY_BASELINE_INDEX: f'mean({column})',\n",
    "            KEY_POSITIVE: df_positive[column].mean(),\n",
    "            KEY_NEGATIVE: df_negative[column].mean(),\n",
    "        })\n",
    "\n",
    "        baseline_records.append({\n",
    "            KEY_BASELINE_INDEX: f'std({column})',\n",
    "            KEY_POSITIVE: df_positive[column].std(),\n",
    "            KEY_NEGATIVE: df_negative[column].std(),\n",
    "        })\n",
    "\n",
    "df_baseline = pd.DataFrame(baseline_records)\n",
    "df_baseline.set_index(KEY_BASELINE_INDEX, inplace=True)\n",
    "df_baseline.to_csv('./data/baseline.csv')"
   ]
  }
 ],
 "metadata": {
  "kernelspec": {
   "display_name": "Python 3",
   "language": "python",
   "name": "python3"
  },
  "language_info": {
   "codemirror_mode": {
    "name": "ipython",
    "version": 3
   },
   "file_extension": ".py",
   "mimetype": "text/x-python",
   "name": "python",
   "nbconvert_exporter": "python",
   "pygments_lexer": "ipython3",
   "version": "3.9.2"
  },
  "orig_nbformat": 4
 },
 "nbformat": 4,
 "nbformat_minor": 2
}
