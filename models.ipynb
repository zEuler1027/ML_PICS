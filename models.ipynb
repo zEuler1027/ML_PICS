{
 "cells": [
  {
   "attachments": {},
   "cell_type": "markdown",
   "metadata": {},
   "source": [
    "# Models (sepsis-pics)\n"
   ]
  },
  {
   "attachments": {},
   "cell_type": "markdown",
   "metadata": {},
   "source": [
    "## Common\n"
   ]
  },
  {
   "cell_type": "code",
   "execution_count": 39,
   "metadata": {},
   "outputs": [],
   "source": [
    "import pandas as pd\n",
    "import matplotlib.pyplot as plt\n",
    "from sklearn.metrics import RocCurveDisplay\n",
    "from sklearn.model_selection import StratifiedKFold, cross_val_score\n",
    "from sklearn.pipeline import make_pipeline\n",
    "from sklearn.preprocessing import StandardScaler\n"
   ]
  },
  {
   "cell_type": "code",
   "execution_count": 3,
   "metadata": {},
   "outputs": [],
   "source": [
    "CV_FOLDS = 3\n",
    "cv = StratifiedKFold(n_splits=CV_FOLDS)\n"
   ]
  },
  {
   "cell_type": "code",
   "execution_count": 44,
   "metadata": {},
   "outputs": [],
   "source": [
    "def plot_roc_file(title, input_path):\n",
    "\n",
    "    df_roc = pd.read_csv(input_path, sep='\\t')\n",
    "    ax = plt.subplot()\n",
    "\n",
    "    ax.set_title(title)\n",
    "    ax.set_xlabel('FPR')\n",
    "    ax.set_ylabel('TPR')\n",
    "\n",
    "    t = [0, 1]\n",
    "    ax.plot(t, t, '--', c='lightgray')\n",
    "\n",
    "    x = df_roc['FPR']\n",
    "    y = df_roc['TPR']\n",
    "    ax.plot(x, y, 'b-')\n"
   ]
  },
  {
   "cell_type": "code",
   "execution_count": 48,
   "metadata": {},
   "outputs": [],
   "source": [
    "def sklearn_cv(model, scoring=None):\n",
    "\n",
    "    scores = cross_val_score(\n",
    "        model,\n",
    "        X,\n",
    "        y,\n",
    "        cv=cv,\n",
    "        scoring=scoring,\n",
    "    )\n",
    "\n",
    "    score_name = 'default' if scoring == None else str(scoring)\n",
    "\n",
    "    print(f'>>> CV Result ({score_name})')\n",
    "    print(f'Scores: {scores}')\n",
    "    print(f'  Mean: {scores.mean():.4f}')\n",
    "    print(f'   Std: {scores.std():.4f}')\n"
   ]
  },
  {
   "cell_type": "markdown",
   "metadata": {},
   "source": [
    "## Prepare Data\n"
   ]
  },
  {
   "cell_type": "code",
   "execution_count": 60,
   "metadata": {},
   "outputs": [
    {
     "name": "stdout",
     "output_type": "stream",
     "text": [
      "<class 'pandas.core.frame.DataFrame'>\n",
      "Int64Index: 2193 entries, 242505 to 3351713\n",
      "Data columns (total 16 columns):\n",
      " #   Column       Non-Null Count  Dtype  \n",
      "---  ------       --------------  -----  \n",
      " 0   age          2193 non-null   float64\n",
      " 1   urine        2193 non-null   float64\n",
      " 2   wbc          2193 non-null   float64\n",
      " 3   meanbp       2193 non-null   float64\n",
      " 4   vasopressor  2193 non-null   int64  \n",
      " 5   hr           2193 non-null   float64\n",
      " 6   creatinine   2193 non-null   float64\n",
      " 7   platelet     2193 non-null   float64\n",
      " 8   inr          2193 non-null   float64\n",
      " 9   pt           2193 non-null   float64\n",
      " 10  ptt          2193 non-null   float64\n",
      " 11  lactate      2193 non-null   float64\n",
      " 12  rdw          2193 non-null   float64\n",
      " 13  bilirubin    2193 non-null   float64\n",
      " 14  bicarbonate  2193 non-null   float64\n",
      " 15  pics         2193 non-null   bool   \n",
      "dtypes: bool(1), float64(14), int64(1)\n",
      "memory usage: 276.3 KB\n"
     ]
    }
   ],
   "source": [
    "df_data = pd.read_csv(\n",
    "    './data_eicu_compact_pics.csv',\n",
    "    index_col='patientunitstayid',\n",
    ")\n",
    "\n",
    "# remove entries with -1\n",
    "mask_neg1 = (df_data == -1.0).any(axis='columns')\n",
    "df_data = df_data[~mask_neg1]\n",
    "\n",
    "df_data.info()\n"
   ]
  },
  {
   "cell_type": "code",
   "execution_count": 59,
   "metadata": {},
   "outputs": [],
   "source": [
    "X = df_data.drop(columns=['pics'])\n",
    "y = df_data['pics'] \\\n",
    "    .map(int) \\\n",
    "    .to_numpy() \\\n",
    "    .ravel()\n"
   ]
  },
  {
   "cell_type": "code",
   "execution_count": 56,
   "metadata": {},
   "outputs": [
    {
     "data": {
      "text/html": [
       "<div>\n",
       "<style scoped>\n",
       "    .dataframe tbody tr th:only-of-type {\n",
       "        vertical-align: middle;\n",
       "    }\n",
       "\n",
       "    .dataframe tbody tr th {\n",
       "        vertical-align: top;\n",
       "    }\n",
       "\n",
       "    .dataframe thead th {\n",
       "        text-align: right;\n",
       "    }\n",
       "</style>\n",
       "<table border=\"1\" class=\"dataframe\">\n",
       "  <thead>\n",
       "    <tr style=\"text-align: right;\">\n",
       "      <th></th>\n",
       "      <th>age</th>\n",
       "      <th>urine</th>\n",
       "      <th>wbc</th>\n",
       "      <th>meanbp</th>\n",
       "      <th>vasopressor</th>\n",
       "      <th>hr</th>\n",
       "      <th>creatinine</th>\n",
       "      <th>platelet</th>\n",
       "      <th>inr</th>\n",
       "      <th>pt</th>\n",
       "      <th>ptt</th>\n",
       "      <th>lactate</th>\n",
       "      <th>rdw</th>\n",
       "      <th>bilirubin</th>\n",
       "      <th>bicarbonate</th>\n",
       "    </tr>\n",
       "    <tr>\n",
       "      <th>patientunitstayid</th>\n",
       "      <th></th>\n",
       "      <th></th>\n",
       "      <th></th>\n",
       "      <th></th>\n",
       "      <th></th>\n",
       "      <th></th>\n",
       "      <th></th>\n",
       "      <th></th>\n",
       "      <th></th>\n",
       "      <th></th>\n",
       "      <th></th>\n",
       "      <th></th>\n",
       "      <th></th>\n",
       "      <th></th>\n",
       "      <th></th>\n",
       "    </tr>\n",
       "  </thead>\n",
       "  <tbody>\n",
       "    <tr>\n",
       "      <th>242505</th>\n",
       "      <td>90.0</td>\n",
       "      <td>2189.5488</td>\n",
       "      <td>9.6</td>\n",
       "      <td>55.0</td>\n",
       "      <td>0</td>\n",
       "      <td>95.0</td>\n",
       "      <td>1.385714</td>\n",
       "      <td>155.800000</td>\n",
       "      <td>1.000000</td>\n",
       "      <td>13.900000</td>\n",
       "      <td>38.000000</td>\n",
       "      <td>1.200000</td>\n",
       "      <td>17.580000</td>\n",
       "      <td>0.766667</td>\n",
       "      <td>20.857143</td>\n",
       "    </tr>\n",
       "    <tr>\n",
       "      <th>243629</th>\n",
       "      <td>87.0</td>\n",
       "      <td>1156.2912</td>\n",
       "      <td>7.1</td>\n",
       "      <td>47.0</td>\n",
       "      <td>1</td>\n",
       "      <td>103.0</td>\n",
       "      <td>1.460000</td>\n",
       "      <td>131.250000</td>\n",
       "      <td>1.500000</td>\n",
       "      <td>17.933333</td>\n",
       "      <td>79.900000</td>\n",
       "      <td>1.950000</td>\n",
       "      <td>15.475000</td>\n",
       "      <td>0.800000</td>\n",
       "      <td>23.200000</td>\n",
       "    </tr>\n",
       "    <tr>\n",
       "      <th>244763</th>\n",
       "      <td>47.0</td>\n",
       "      <td>939.6000</td>\n",
       "      <td>2.9</td>\n",
       "      <td>129.0</td>\n",
       "      <td>0</td>\n",
       "      <td>121.0</td>\n",
       "      <td>0.600000</td>\n",
       "      <td>118.666667</td>\n",
       "      <td>1.000000</td>\n",
       "      <td>13.200000</td>\n",
       "      <td>34.000000</td>\n",
       "      <td>1.200000</td>\n",
       "      <td>14.250000</td>\n",
       "      <td>0.500000</td>\n",
       "      <td>27.777778</td>\n",
       "    </tr>\n",
       "    <tr>\n",
       "      <th>245906</th>\n",
       "      <td>73.0</td>\n",
       "      <td>5.0976</td>\n",
       "      <td>23.2</td>\n",
       "      <td>171.0</td>\n",
       "      <td>1</td>\n",
       "      <td>114.0</td>\n",
       "      <td>5.590000</td>\n",
       "      <td>154.900000</td>\n",
       "      <td>1.040000</td>\n",
       "      <td>14.000000</td>\n",
       "      <td>30.400000</td>\n",
       "      <td>2.000000</td>\n",
       "      <td>16.310000</td>\n",
       "      <td>0.200000</td>\n",
       "      <td>23.500000</td>\n",
       "    </tr>\n",
       "    <tr>\n",
       "      <th>246013</th>\n",
       "      <td>66.0</td>\n",
       "      <td>1055.4624</td>\n",
       "      <td>0.6</td>\n",
       "      <td>61.0</td>\n",
       "      <td>0</td>\n",
       "      <td>84.0</td>\n",
       "      <td>1.070000</td>\n",
       "      <td>40.833333</td>\n",
       "      <td>1.040000</td>\n",
       "      <td>14.100000</td>\n",
       "      <td>25.700000</td>\n",
       "      <td>2.525000</td>\n",
       "      <td>17.916667</td>\n",
       "      <td>0.300000</td>\n",
       "      <td>18.800000</td>\n",
       "    </tr>\n",
       "    <tr>\n",
       "      <th>...</th>\n",
       "      <td>...</td>\n",
       "      <td>...</td>\n",
       "      <td>...</td>\n",
       "      <td>...</td>\n",
       "      <td>...</td>\n",
       "      <td>...</td>\n",
       "      <td>...</td>\n",
       "      <td>...</td>\n",
       "      <td>...</td>\n",
       "      <td>...</td>\n",
       "      <td>...</td>\n",
       "      <td>...</td>\n",
       "      <td>...</td>\n",
       "      <td>...</td>\n",
       "      <td>...</td>\n",
       "    </tr>\n",
       "    <tr>\n",
       "      <th>3349260</th>\n",
       "      <td>62.0</td>\n",
       "      <td>2590.4448</td>\n",
       "      <td>12.6</td>\n",
       "      <td>56.0</td>\n",
       "      <td>1</td>\n",
       "      <td>93.0</td>\n",
       "      <td>0.618824</td>\n",
       "      <td>388.142857</td>\n",
       "      <td>1.045000</td>\n",
       "      <td>10.600000</td>\n",
       "      <td>26.000000</td>\n",
       "      <td>1.900000</td>\n",
       "      <td>14.435714</td>\n",
       "      <td>1.850000</td>\n",
       "      <td>29.176471</td>\n",
       "    </tr>\n",
       "    <tr>\n",
       "      <th>3350924</th>\n",
       "      <td>53.0</td>\n",
       "      <td>378.8640</td>\n",
       "      <td>4.9</td>\n",
       "      <td>74.0</td>\n",
       "      <td>0</td>\n",
       "      <td>101.0</td>\n",
       "      <td>0.760714</td>\n",
       "      <td>248.142857</td>\n",
       "      <td>1.115000</td>\n",
       "      <td>11.350000</td>\n",
       "      <td>22.000000</td>\n",
       "      <td>1.366667</td>\n",
       "      <td>14.907143</td>\n",
       "      <td>0.300000</td>\n",
       "      <td>36.214286</td>\n",
       "    </tr>\n",
       "    <tr>\n",
       "      <th>3351255</th>\n",
       "      <td>75.0</td>\n",
       "      <td>80.4384</td>\n",
       "      <td>23.0</td>\n",
       "      <td>42.0</td>\n",
       "      <td>1</td>\n",
       "      <td>86.0</td>\n",
       "      <td>2.520000</td>\n",
       "      <td>63.000000</td>\n",
       "      <td>1.340000</td>\n",
       "      <td>14.400000</td>\n",
       "      <td>42.666667</td>\n",
       "      <td>4.050000</td>\n",
       "      <td>15.400000</td>\n",
       "      <td>0.633333</td>\n",
       "      <td>18.800000</td>\n",
       "    </tr>\n",
       "    <tr>\n",
       "      <th>3351365</th>\n",
       "      <td>72.0</td>\n",
       "      <td>1590.3648</td>\n",
       "      <td>28.5</td>\n",
       "      <td>131.0</td>\n",
       "      <td>1</td>\n",
       "      <td>91.0</td>\n",
       "      <td>2.213077</td>\n",
       "      <td>93.600000</td>\n",
       "      <td>1.752857</td>\n",
       "      <td>17.385714</td>\n",
       "      <td>36.500000</td>\n",
       "      <td>5.500000</td>\n",
       "      <td>14.680000</td>\n",
       "      <td>3.016667</td>\n",
       "      <td>25.384615</td>\n",
       "    </tr>\n",
       "    <tr>\n",
       "      <th>3351713</th>\n",
       "      <td>79.0</td>\n",
       "      <td>857.0880</td>\n",
       "      <td>22.5</td>\n",
       "      <td>40.0</td>\n",
       "      <td>1</td>\n",
       "      <td>107.0</td>\n",
       "      <td>0.986667</td>\n",
       "      <td>428.666667</td>\n",
       "      <td>1.190000</td>\n",
       "      <td>11.950000</td>\n",
       "      <td>24.000000</td>\n",
       "      <td>2.200000</td>\n",
       "      <td>17.533333</td>\n",
       "      <td>0.500000</td>\n",
       "      <td>27.000000</td>\n",
       "    </tr>\n",
       "  </tbody>\n",
       "</table>\n",
       "<p>2193 rows × 15 columns</p>\n",
       "</div>"
      ],
      "text/plain": [
       "                    age      urine   wbc  meanbp  vasopressor     hr  \\\n",
       "patientunitstayid                                                      \n",
       "242505             90.0  2189.5488   9.6    55.0            0   95.0   \n",
       "243629             87.0  1156.2912   7.1    47.0            1  103.0   \n",
       "244763             47.0   939.6000   2.9   129.0            0  121.0   \n",
       "245906             73.0     5.0976  23.2   171.0            1  114.0   \n",
       "246013             66.0  1055.4624   0.6    61.0            0   84.0   \n",
       "...                 ...        ...   ...     ...          ...    ...   \n",
       "3349260            62.0  2590.4448  12.6    56.0            1   93.0   \n",
       "3350924            53.0   378.8640   4.9    74.0            0  101.0   \n",
       "3351255            75.0    80.4384  23.0    42.0            1   86.0   \n",
       "3351365            72.0  1590.3648  28.5   131.0            1   91.0   \n",
       "3351713            79.0   857.0880  22.5    40.0            1  107.0   \n",
       "\n",
       "                   creatinine    platelet       inr         pt        ptt  \\\n",
       "patientunitstayid                                                           \n",
       "242505               1.385714  155.800000  1.000000  13.900000  38.000000   \n",
       "243629               1.460000  131.250000  1.500000  17.933333  79.900000   \n",
       "244763               0.600000  118.666667  1.000000  13.200000  34.000000   \n",
       "245906               5.590000  154.900000  1.040000  14.000000  30.400000   \n",
       "246013               1.070000   40.833333  1.040000  14.100000  25.700000   \n",
       "...                       ...         ...       ...        ...        ...   \n",
       "3349260              0.618824  388.142857  1.045000  10.600000  26.000000   \n",
       "3350924              0.760714  248.142857  1.115000  11.350000  22.000000   \n",
       "3351255              2.520000   63.000000  1.340000  14.400000  42.666667   \n",
       "3351365              2.213077   93.600000  1.752857  17.385714  36.500000   \n",
       "3351713              0.986667  428.666667  1.190000  11.950000  24.000000   \n",
       "\n",
       "                    lactate        rdw  bilirubin  bicarbonate  \n",
       "patientunitstayid                                               \n",
       "242505             1.200000  17.580000   0.766667    20.857143  \n",
       "243629             1.950000  15.475000   0.800000    23.200000  \n",
       "244763             1.200000  14.250000   0.500000    27.777778  \n",
       "245906             2.000000  16.310000   0.200000    23.500000  \n",
       "246013             2.525000  17.916667   0.300000    18.800000  \n",
       "...                     ...        ...        ...          ...  \n",
       "3349260            1.900000  14.435714   1.850000    29.176471  \n",
       "3350924            1.366667  14.907143   0.300000    36.214286  \n",
       "3351255            4.050000  15.400000   0.633333    18.800000  \n",
       "3351365            5.500000  14.680000   3.016667    25.384615  \n",
       "3351713            2.200000  17.533333   0.500000    27.000000  \n",
       "\n",
       "[2193 rows x 15 columns]"
      ]
     },
     "execution_count": 56,
     "metadata": {},
     "output_type": "execute_result"
    }
   ],
   "source": [
    "X\n"
   ]
  },
  {
   "cell_type": "code",
   "execution_count": 84,
   "metadata": {},
   "outputs": [
    {
     "data": {
      "text/plain": [
       "array([0, 0, 0, ..., 0, 0, 0], dtype=int64)"
      ]
     },
     "execution_count": 84,
     "metadata": {},
     "output_type": "execute_result"
    }
   ],
   "source": [
    "y\n"
   ]
  },
  {
   "cell_type": "markdown",
   "metadata": {},
   "source": [
    "## CatBoost\n"
   ]
  },
  {
   "cell_type": "code",
   "execution_count": 21,
   "metadata": {},
   "outputs": [],
   "source": [
    "from catboost import CatBoostClassifier, cv as catboost_cv, \\\n",
    "    Pool as CatboostPool\n",
    "from catboost.utils import get_roc_curve as catboost_roc\n"
   ]
  },
  {
   "cell_type": "code",
   "execution_count": 22,
   "metadata": {},
   "outputs": [],
   "source": [
    "catboost_pool = CatboostPool(X, y)\n"
   ]
  },
  {
   "cell_type": "code",
   "execution_count": 23,
   "metadata": {},
   "outputs": [],
   "source": [
    "catboost_scores = catboost_cv(\n",
    "    catboost_pool,\n",
    "    fold_count=CV_FOLDS,\n",
    "    logging_level='Silent',\n",
    "    params={\n",
    "        'loss_function': 'Logloss',\n",
    "        'verbose': False,\n",
    "        'roc_file': 'roc_catboost.tsv',\n",
    "        'custom_metric': 'AUC',\n",
    "    },\n",
    ")\n"
   ]
  },
  {
   "cell_type": "code",
   "execution_count": 34,
   "metadata": {},
   "outputs": [
    {
     "data": {
      "text/plain": [
       "test-AUC-mean    0.620478\n",
       "test-AUC-std     0.114691\n",
       "Name: 999, dtype: float64"
      ]
     },
     "execution_count": 34,
     "metadata": {},
     "output_type": "execute_result"
    }
   ],
   "source": [
    "catboost_scores.iloc[-1, -2:]\n"
   ]
  },
  {
   "cell_type": "code",
   "execution_count": 37,
   "metadata": {},
   "outputs": [
    {
     "data": {
      "image/png": "[encoded data removed]",
      "text/plain": [
       "<Figure size 432x288 with 1 Axes>"
      ]
     },
     "metadata": {
      "needs_background": "light"
     },
     "output_type": "display_data"
    }
   ],
   "source": [
    "plot_roc_file('CatBoost ROC', './catboost_info/roc_catboost.tsv')\n"
   ]
  },
  {
   "attachments": {},
   "cell_type": "markdown",
   "metadata": {},
   "source": [
    "## MLP\n"
   ]
  },
  {
   "cell_type": "code",
   "execution_count": 55,
   "metadata": {},
   "outputs": [
    {
     "name": "stdout",
     "output_type": "stream",
     "text": [
      ">>> CV Result (roc_auc)\n",
      "Scores: [0.45179063 0.46501377 0.42672176]\n",
      "  Mean: 0.4478\n",
      "   Std: 0.0159\n"
     ]
    }
   ],
   "source": [
    "from sklearn.neural_network import MLPClassifier\n",
    "\n",
    "mlp_model = make_pipeline(\n",
    "    StandardScaler(),\n",
    "    MLPClassifier(\n",
    "        hidden_layer_sizes=(100,),\n",
    "        max_iter=1000,\n",
    "    ),\n",
    ")\n",
    "\n",
    "# sklearn_cv(mlp_model)\n",
    "sklearn_cv(mlp_model, 'roc_auc')\n"
   ]
  },
  {
   "attachments": {},
   "cell_type": "markdown",
   "metadata": {},
   "source": [
    "## Naive Bayes\n"
   ]
  },
  {
   "cell_type": "code",
   "execution_count": 50,
   "metadata": {},
   "outputs": [
    {
     "name": "stdout",
     "output_type": "stream",
     "text": [
      ">>> CV Result (roc_auc)\n",
      "Scores: [0.51928375 0.40909091 0.76460055]\n",
      "  Mean: 0.5643\n",
      "   Std: 0.1486\n"
     ]
    }
   ],
   "source": [
    "from sklearn.naive_bayes import ComplementNB\n",
    "\n",
    "nb_model = ComplementNB()\n",
    "\n",
    "sklearn_cv(nb_model, 'roc_auc')\n"
   ]
  }
 ],
 "metadata": {
  "kernelspec": {
   "display_name": "Python 3.9.2 64-bit",
   "language": "python",
   "name": "python3"
  },
  "language_info": {
   "codemirror_mode": {
    "name": "ipython",
    "version": 3
   },
   "file_extension": ".py",
   "mimetype": "text/x-python",
   "name": "python",
   "nbconvert_exporter": "python",
   "pygments_lexer": "ipython3",
   "version": "3.9.2"
  },
  "orig_nbformat": 4,
  "vscode": {
   "interpreter": {
    "hash": "f7976576504ac6c456dadd405d7477574ca2a64265ee4724cfbc25daae5f6d94"
   }
  }
 },
 "nbformat": 4,
 "nbformat_minor": 2
}
