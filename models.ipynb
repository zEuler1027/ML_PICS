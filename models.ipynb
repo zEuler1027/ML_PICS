{
 "cells": [
  {
   "attachments": {},
   "cell_type": "markdown",
   "metadata": {},
   "source": [
    "# Models (sepsis-pics)\n"
   ]
  },
  {
   "attachments": {},
   "cell_type": "markdown",
   "metadata": {},
   "source": [
    "## Common\n"
   ]
  },
  {
   "cell_type": "code",
   "execution_count": 1,
   "metadata": {},
   "outputs": [],
   "source": [
    "import numpy as np\n",
    "import pandas as pd\n",
    "import matplotlib.pyplot as plt\n",
    "from sklearn.model_selection import StratifiedGroupKFold, cross_validate\n",
    "from sklearn.pipeline import make_pipeline\n",
    "from sklearn.preprocessing import StandardScaler, OrdinalEncoder\n",
    "from common_eicu import KEY_IDENTITY, KEY_FLAG, CATEGORICAL_COLUMNS_FULL\n"
   ]
  },
  {
   "cell_type": "code",
   "execution_count": 2,
   "metadata": {},
   "outputs": [],
   "source": [
    "SEED = 1011\n",
    "SCORING = ['accuracy', 'roc_auc']\n",
    "CV_FOLDS = 10\n",
    "cv = StratifiedGroupKFold(\n",
    "    n_splits=CV_FOLDS,\n",
    "    shuffle=True,\n",
    "    random_state=SEED,\n",
    ")\n"
   ]
  },
  {
   "cell_type": "code",
   "execution_count": 3,
   "metadata": {},
   "outputs": [],
   "source": [
    "MODEL_RESULT_PATH = './data/model_result.csv'\n",
    "\n",
    "# index: 'accuracy mean', 'accuracy std', 'AUC mean', 'AUC std'\n",
    "df_result = pd.read_csv(\n",
    "    MODEL_RESULT_PATH,\n",
    "    index_col='index',\n",
    ")\n",
    "\n",
    "def update_result(name, *, accuracy_mean, accuracy_std, auc_mean, auc_std):\n",
    "    df_result[name] = [accuracy_mean, accuracy_std, auc_mean, auc_std]\n",
    "    df_result.to_csv(MODEL_RESULT_PATH)\n"
   ]
  },
  {
   "cell_type": "code",
   "execution_count": 4,
   "metadata": {},
   "outputs": [],
   "source": [
    "def plot_roc_file(title, input_path, auc_mean, auc_std):\n",
    "\n",
    "    df_roc = pd.read_csv(input_path, sep='\\t')\n",
    "    fig = plt.figure(figsize=(7, 6))\n",
    "    ax = fig.add_subplot()\n",
    "\n",
    "    ax.set_title(title)\n",
    "    ax.set_xlabel('False Positive Rate')\n",
    "    ax.set_ylabel('True Positive Rate')\n",
    "\n",
    "    t = [0, 1]\n",
    "    ax.plot(t, t, '--', c='lightgray', label='chance level (AUC = 0.5)')\n",
    "\n",
    "    x = df_roc['FPR']\n",
    "    y = df_roc['TPR']\n",
    "    label = fr'ROC (AUC = {auc_mean:.2f} $\\pm$ {auc_std:.2f})'\n",
    "    ax.plot(x, y, 'b-', label=label)\n",
    "\n",
    "    ax.legend(loc='lower right')\n"
   ]
  },
  {
   "cell_type": "code",
   "execution_count": 5,
   "metadata": {},
   "outputs": [],
   "source": [
    "def test_sklearn(name, model, encode=False):\n",
    "    '''\n",
    "    Test the given model using sklearn's\n",
    "    cross validation, print the result\n",
    "    and pass it to `update_result`.\n",
    "\n",
    "    Parameters\n",
    "    ----------\n",
    "    name : str\n",
    "        Model name.\n",
    "    model : scikit-learn compact model\n",
    "        The model to test.\n",
    "    encode : False, 'ordinal' or 'dummy', default=False\n",
    "        Category encoding option.\n",
    "        False - No encoding.\n",
    "        'ordinal' - Use ordinal encoder.\n",
    "        'dummy' - Use dummy encoder.\n",
    "    '''\n",
    "\n",
    "    if encode == 'dummy':\n",
    "        X = X_dummy\n",
    "    elif encode == 'ordinal':\n",
    "        X = X_ordinal\n",
    "    else:\n",
    "        X = X_raw\n",
    "\n",
    "    scores = cross_validate(\n",
    "        model,\n",
    "        X,\n",
    "        y,\n",
    "        cv=cv,\n",
    "        scoring=SCORING,\n",
    "        groups=groups,\n",
    "    )\n",
    "\n",
    "    scores_accuracy = scores['test_accuracy']\n",
    "    accuracy_mean = scores_accuracy.mean()\n",
    "    accuracy_std = scores_accuracy.std()\n",
    "    scores_auc = scores['test_roc_auc']\n",
    "    auc_mean = scores_auc.mean()\n",
    "    auc_std = scores_auc.std()\n",
    "    update_result(\n",
    "        name,\n",
    "        accuracy_mean=accuracy_mean,\n",
    "        accuracy_std=accuracy_std,\n",
    "        auc_mean=auc_mean,\n",
    "        auc_std=auc_std,\n",
    "    )\n",
    "\n",
    "    print(f'>>> CV Result ({name})')\n",
    "    print(f'accuracy_mean: {accuracy_mean:.4f}')\n",
    "    print(f'accuracy_std:  {accuracy_std:.4f}')\n",
    "    print(f'auc_mean:      {auc_mean:.4f}')\n",
    "    print(f'auc_std:       {auc_std:.4f}')\n"
   ]
  },
  {
   "cell_type": "markdown",
   "metadata": {},
   "source": [
    "## Prepare Data\n"
   ]
  },
  {
   "cell_type": "code",
   "execution_count": 6,
   "metadata": {},
   "outputs": [],
   "source": [
    "df_data = pd.read_csv('./data/data_eicu_full.csv.gz')\n",
    "\n",
    "# clamp infinite values\n",
    "df_data.replace(np.inf, 9999, inplace=True)\n",
    "\n",
    "# set categorical columns\n",
    "for column_name in CATEGORICAL_COLUMNS_FULL:\n",
    "    df_data[column_name] = df_data[column_name].astype('category')\n"
   ]
  },
  {
   "cell_type": "code",
   "execution_count": 7,
   "metadata": {},
   "outputs": [
    {
     "name": "stdout",
     "output_type": "stream",
     "text": [
      "<class 'pandas.core.frame.DataFrame'>\n",
      "RangeIndex: 100133 entries, 0 to 100132\n",
      "Data columns (total 59 columns):\n",
      " #   Column              Non-Null Count   Dtype   \n",
      "---  ------              --------------   -----   \n",
      " 0   gender              100133 non-null  category\n",
      " 1   age                 100133 non-null  float64 \n",
      " 2   ethnicity           100133 non-null  category\n",
      " 3   offset              100133 non-null  int64   \n",
      " 4   vasopressor         100133 non-null  category\n",
      " 5   heparin             100133 non-null  category\n",
      " 6   urine               100133 non-null  float64 \n",
      " 7   PEEP                100133 non-null  float64 \n",
      " 8   creatinine          100133 non-null  float64 \n",
      " 9   platelet            100133 non-null  float64 \n",
      " 10  INR                 100133 non-null  float64 \n",
      " 11  PT                  100133 non-null  float64 \n",
      " 12  PTT                 100133 non-null  float64 \n",
      " 13  lactate             100133 non-null  float64 \n",
      " 14  RDW                 100133 non-null  float64 \n",
      " 15  total bilirubin     100133 non-null  float64 \n",
      " 16  direct bilirubin    100133 non-null  float64 \n",
      " 17  bicarbonate         100133 non-null  float64 \n",
      " 18  CRP                 100133 non-null  float64 \n",
      " 19  lymph               100133 non-null  float64 \n",
      " 20  albumin             100133 non-null  float64 \n",
      " 21  prealbumin          100133 non-null  float64 \n",
      " 22  WBC                 100133 non-null  float64 \n",
      " 23  total protein       100133 non-null  float64 \n",
      " 24  anion gap           100133 non-null  float64 \n",
      " 25  BUN                 100133 non-null  float64 \n",
      " 26  fibrinogen          100133 non-null  float64 \n",
      " 27  MCH                 100133 non-null  float64 \n",
      " 28  MCHC                100133 non-null  float64 \n",
      " 29  MCV                 100133 non-null  float64 \n",
      " 30  ALT                 100133 non-null  float64 \n",
      " 31  AST                 100133 non-null  float64 \n",
      " 32  RBC                 100133 non-null  float64 \n",
      " 33  pH                  100133 non-null  float64 \n",
      " 34  paO2                100133 non-null  float64 \n",
      " 35  paCO2               100133 non-null  float64 \n",
      " 36  FiO2                100133 non-null  float64 \n",
      " 37  Total CO2           100133 non-null  float64 \n",
      " 38  chloride            100133 non-null  float64 \n",
      " 39  calcium             100133 non-null  float64 \n",
      " 40  potassium           100133 non-null  float64 \n",
      " 41  sodium              100133 non-null  float64 \n",
      " 42  glucose             100133 non-null  float64 \n",
      " 43  Base Excess         100133 non-null  float64 \n",
      " 44  Hct                 100133 non-null  float64 \n",
      " 45  Methemoglobin       100133 non-null  float64 \n",
      " 46  MAP                 100133 non-null  float64 \n",
      " 47  heart rate          100133 non-null  float64 \n",
      " 48  respiration rate    100133 non-null  float64 \n",
      " 49  SpO2                100133 non-null  float64 \n",
      " 50  temperature         100133 non-null  float64 \n",
      " 51  RBC transfusion     100133 non-null  float64 \n",
      " 52  FFP transfusion     100133 non-null  float64 \n",
      " 53  PLT transfusion     100133 non-null  float64 \n",
      " 54  BMI                 100133 non-null  float64 \n",
      " 55  indirect bilirubin  100133 non-null  float64 \n",
      " 56  PaO2/FiO2           100133 non-null  float64 \n",
      " 57  SpO2/FiO2           100133 non-null  float64 \n",
      " 58  ROX index           100133 non-null  float64 \n",
      "dtypes: category(4), float64(54), int64(1)\n",
      "memory usage: 42.4 MB\n"
     ]
    }
   ],
   "source": [
    "X_raw = df_data.drop(columns=[KEY_IDENTITY, KEY_FLAG])\n",
    "X_raw.info()\n"
   ]
  },
  {
   "cell_type": "code",
   "execution_count": 8,
   "metadata": {},
   "outputs": [
    {
     "name": "stdout",
     "output_type": "stream",
     "text": [
      "<class 'pandas.core.frame.DataFrame'>\n",
      "RangeIndex: 100133 entries, 0 to 100132\n",
      "Data columns (total 59 columns):\n",
      " #   Column              Non-Null Count   Dtype  \n",
      "---  ------              --------------   -----  \n",
      " 0   gender              100133 non-null  int32  \n",
      " 1   age                 100133 non-null  float64\n",
      " 2   ethnicity           100133 non-null  int32  \n",
      " 3   offset              100133 non-null  int64  \n",
      " 4   vasopressor         100133 non-null  int32  \n",
      " 5   heparin             100133 non-null  int32  \n",
      " 6   urine               100133 non-null  float64\n",
      " 7   PEEP                100133 non-null  float64\n",
      " 8   creatinine          100133 non-null  float64\n",
      " 9   platelet            100133 non-null  float64\n",
      " 10  INR                 100133 non-null  float64\n",
      " 11  PT                  100133 non-null  float64\n",
      " 12  PTT                 100133 non-null  float64\n",
      " 13  lactate             100133 non-null  float64\n",
      " 14  RDW                 100133 non-null  float64\n",
      " 15  total bilirubin     100133 non-null  float64\n",
      " 16  direct bilirubin    100133 non-null  float64\n",
      " 17  bicarbonate         100133 non-null  float64\n",
      " 18  CRP                 100133 non-null  float64\n",
      " 19  lymph               100133 non-null  float64\n",
      " 20  albumin             100133 non-null  float64\n",
      " 21  prealbumin          100133 non-null  float64\n",
      " 22  WBC                 100133 non-null  float64\n",
      " 23  total protein       100133 non-null  float64\n",
      " 24  anion gap           100133 non-null  float64\n",
      " 25  BUN                 100133 non-null  float64\n",
      " 26  fibrinogen          100133 non-null  float64\n",
      " 27  MCH                 100133 non-null  float64\n",
      " 28  MCHC                100133 non-null  float64\n",
      " 29  MCV                 100133 non-null  float64\n",
      " 30  ALT                 100133 non-null  float64\n",
      " 31  AST                 100133 non-null  float64\n",
      " 32  RBC                 100133 non-null  float64\n",
      " 33  pH                  100133 non-null  float64\n",
      " 34  paO2                100133 non-null  float64\n",
      " 35  paCO2               100133 non-null  float64\n",
      " 36  FiO2                100133 non-null  float64\n",
      " 37  Total CO2           100133 non-null  float64\n",
      " 38  chloride            100133 non-null  float64\n",
      " 39  calcium             100133 non-null  float64\n",
      " 40  potassium           100133 non-null  float64\n",
      " 41  sodium              100133 non-null  float64\n",
      " 42  glucose             100133 non-null  float64\n",
      " 43  Base Excess         100133 non-null  float64\n",
      " 44  Hct                 100133 non-null  float64\n",
      " 45  Methemoglobin       100133 non-null  float64\n",
      " 46  MAP                 100133 non-null  float64\n",
      " 47  heart rate          100133 non-null  float64\n",
      " 48  respiration rate    100133 non-null  float64\n",
      " 49  SpO2                100133 non-null  float64\n",
      " 50  temperature         100133 non-null  float64\n",
      " 51  RBC transfusion     100133 non-null  float64\n",
      " 52  FFP transfusion     100133 non-null  float64\n",
      " 53  PLT transfusion     100133 non-null  float64\n",
      " 54  BMI                 100133 non-null  float64\n",
      " 55  indirect bilirubin  100133 non-null  float64\n",
      " 56  PaO2/FiO2           100133 non-null  float64\n",
      " 57  SpO2/FiO2           100133 non-null  float64\n",
      " 58  ROX index           100133 non-null  float64\n",
      "dtypes: float64(54), int32(4), int64(1)\n",
      "memory usage: 43.5 MB\n"
     ]
    }
   ],
   "source": [
    "ordinal_encoder = OrdinalEncoder(dtype=int)\n",
    "X_ordinal = X_raw.copy()\n",
    "X_ordinal[CATEGORICAL_COLUMNS_FULL] = \\\n",
    "    ordinal_encoder.fit_transform(X_ordinal[CATEGORICAL_COLUMNS_FULL])\n",
    "X_ordinal.info()\n"
   ]
  },
  {
   "cell_type": "code",
   "execution_count": 10,
   "metadata": {},
   "outputs": [
    {
     "name": "stdout",
     "output_type": "stream",
     "text": [
      "<class 'pandas.core.frame.DataFrame'>\n",
      "RangeIndex: 100133 entries, 0 to 100132\n",
      "Data columns (total 68 columns):\n",
      " #   Column                      Non-Null Count   Dtype  \n",
      "---  ------                      --------------   -----  \n",
      " 0   age                         100133 non-null  float64\n",
      " 1   offset                      100133 non-null  int64  \n",
      " 2   urine                       100133 non-null  float64\n",
      " 3   PEEP                        100133 non-null  float64\n",
      " 4   creatinine                  100133 non-null  float64\n",
      " 5   platelet                    100133 non-null  float64\n",
      " 6   INR                         100133 non-null  float64\n",
      " 7   PT                          100133 non-null  float64\n",
      " 8   PTT                         100133 non-null  float64\n",
      " 9   lactate                     100133 non-null  float64\n",
      " 10  RDW                         100133 non-null  float64\n",
      " 11  total bilirubin             100133 non-null  float64\n",
      " 12  direct bilirubin            100133 non-null  float64\n",
      " 13  bicarbonate                 100133 non-null  float64\n",
      " 14  CRP                         100133 non-null  float64\n",
      " 15  lymph                       100133 non-null  float64\n",
      " 16  albumin                     100133 non-null  float64\n",
      " 17  prealbumin                  100133 non-null  float64\n",
      " 18  WBC                         100133 non-null  float64\n",
      " 19  total protein               100133 non-null  float64\n",
      " 20  anion gap                   100133 non-null  float64\n",
      " 21  BUN                         100133 non-null  float64\n",
      " 22  fibrinogen                  100133 non-null  float64\n",
      " 23  MCH                         100133 non-null  float64\n",
      " 24  MCHC                        100133 non-null  float64\n",
      " 25  MCV                         100133 non-null  float64\n",
      " 26  ALT                         100133 non-null  float64\n",
      " 27  AST                         100133 non-null  float64\n",
      " 28  RBC                         100133 non-null  float64\n",
      " 29  pH                          100133 non-null  float64\n",
      " 30  paO2                        100133 non-null  float64\n",
      " 31  paCO2                       100133 non-null  float64\n",
      " 32  FiO2                        100133 non-null  float64\n",
      " 33  Total CO2                   100133 non-null  float64\n",
      " 34  chloride                    100133 non-null  float64\n",
      " 35  calcium                     100133 non-null  float64\n",
      " 36  potassium                   100133 non-null  float64\n",
      " 37  sodium                      100133 non-null  float64\n",
      " 38  glucose                     100133 non-null  float64\n",
      " 39  Base Excess                 100133 non-null  float64\n",
      " 40  Hct                         100133 non-null  float64\n",
      " 41  Methemoglobin               100133 non-null  float64\n",
      " 42  MAP                         100133 non-null  float64\n",
      " 43  heart rate                  100133 non-null  float64\n",
      " 44  respiration rate            100133 non-null  float64\n",
      " 45  SpO2                        100133 non-null  float64\n",
      " 46  temperature                 100133 non-null  float64\n",
      " 47  RBC transfusion             100133 non-null  float64\n",
      " 48  FFP transfusion             100133 non-null  float64\n",
      " 49  PLT transfusion             100133 non-null  float64\n",
      " 50  BMI                         100133 non-null  float64\n",
      " 51  indirect bilirubin          100133 non-null  float64\n",
      " 52  PaO2/FiO2                   100133 non-null  float64\n",
      " 53  SpO2/FiO2                   100133 non-null  float64\n",
      " 54  ROX index                   100133 non-null  float64\n",
      " 55  gender_Female               100133 non-null  uint8  \n",
      " 56  gender_Male                 100133 non-null  uint8  \n",
      " 57  gender_Other                100133 non-null  uint8  \n",
      " 58  ethnicity_African American  100133 non-null  uint8  \n",
      " 59  ethnicity_Asian             100133 non-null  uint8  \n",
      " 60  ethnicity_Caucasian         100133 non-null  uint8  \n",
      " 61  ethnicity_Hispanic          100133 non-null  uint8  \n",
      " 62  ethnicity_Native American   100133 non-null  uint8  \n",
      " 63  ethnicity_Other/Unknown     100133 non-null  uint8  \n",
      " 64  vasopressor_0               100133 non-null  uint8  \n",
      " 65  vasopressor_1               100133 non-null  uint8  \n",
      " 66  heparin_0                   100133 non-null  uint8  \n",
      " 67  heparin_1                   100133 non-null  uint8  \n",
      "dtypes: float64(54), int64(1), uint8(13)\n",
      "memory usage: 43.3 MB\n"
     ]
    }
   ],
   "source": [
    "X_dummy = pd.get_dummies(X_raw)\n",
    "X_dummy.info()\n"
   ]
  },
  {
   "cell_type": "code",
   "execution_count": 11,
   "metadata": {},
   "outputs": [
    {
     "data": {
      "text/plain": [
       "array([0, 0, 0, ..., 0, 0, 0], dtype=int64)"
      ]
     },
     "execution_count": 11,
     "metadata": {},
     "output_type": "execute_result"
    }
   ],
   "source": [
    "y = df_data[KEY_FLAG].ravel()\n",
    "y\n"
   ]
  },
  {
   "cell_type": "code",
   "execution_count": 12,
   "metadata": {},
   "outputs": [
    {
     "data": {
      "text/plain": [
       "array([ 141288,  141288,  141288, ..., 3353251, 3353251, 3353251],\n",
       "      dtype=int64)"
      ]
     },
     "execution_count": 12,
     "metadata": {},
     "output_type": "execute_result"
    }
   ],
   "source": [
    "groups = df_data[KEY_IDENTITY].ravel()\n",
    "groups\n"
   ]
  },
  {
   "attachments": {},
   "cell_type": "markdown",
   "metadata": {},
   "source": [
    "## CatBoost\n"
   ]
  },
  {
   "cell_type": "code",
   "execution_count": 18,
   "metadata": {},
   "outputs": [
    {
     "name": "stdout",
     "output_type": "stream",
     "text": [
      ">>> CV Result (CatBoost)\n",
      "accuracy_mean: 0.9957\n",
      "accuracy_std:  0.0007\n",
      "auc_mean:      0.9957\n",
      "auc_std:       0.0021\n",
      "CPU times: total: 5min 54s\n",
      "Wall time: 4min 28s\n"
     ]
    }
   ],
   "source": [
    "%%time\n",
    "from catboost import CatBoostClassifier\n",
    "\n",
    "catboost_model = CatBoostClassifier(\n",
    "    cat_features=CATEGORICAL_COLUMNS_FULL,\n",
    "    task_type='GPU',\n",
    "    devices='0',\n",
    "    random_state=SEED,\n",
    "    verbose=False,\n",
    ")\n",
    "\n",
    "test_sklearn(\n",
    "    'CatBoost',\n",
    "    catboost_model,\n",
    ")\n"
   ]
  },
  {
   "attachments": {},
   "cell_type": "markdown",
   "metadata": {},
   "source": [
    "## Light Gradient Boosting\n"
   ]
  },
  {
   "cell_type": "code",
   "execution_count": 28,
   "metadata": {},
   "outputs": [
    {
     "name": "stdout",
     "output_type": "stream",
     "text": [
      ">>> CV Result (LightGB)\n",
      "accuracy_mean: 0.9954\n",
      "accuracy_std:  0.0009\n",
      "auc_mean:      0.9960\n",
      "auc_std:       0.0016\n",
      "CPU times: total: 1min 37s\n",
      "Wall time: 18.8 s\n"
     ]
    }
   ],
   "source": [
    "%%time\n",
    "from lightgbm import LGBMClassifier\n",
    "\n",
    "lgb_model = LGBMClassifier(\n",
    "    # Categorical features will be automatically detected.\n",
    "    random_state=SEED,\n",
    ")\n",
    "\n",
    "test_sklearn(\n",
    "    'LightGB',\n",
    "    lgb_model,\n",
    ")\n"
   ]
  },
  {
   "attachments": {},
   "cell_type": "markdown",
   "metadata": {},
   "source": [
    "## Extreme Gradient Boosting\n"
   ]
  },
  {
   "cell_type": "code",
   "execution_count": 61,
   "metadata": {},
   "outputs": [
    {
     "name": "stdout",
     "output_type": "stream",
     "text": [
      ">>> CV Result (XGBoost)\n",
      "accuracy_mean: 0.9952\n",
      "accuracy_std:  0.0008\n",
      "auc_mean:      0.9953\n",
      "auc_std:       0.0018\n",
      "CPU times: total: 13min 48s\n",
      "Wall time: 1min 25s\n"
     ]
    }
   ],
   "source": [
    "%%time\n",
    "from xgboost import XGBClassifier\n",
    "\n",
    "xgboost_model = XGBClassifier(\n",
    "    enable_categorical=True,\n",
    "    tree_method='approx',  # TODO: gpu_hist\n",
    "    # booster='gblinear',\n",
    "    # updater='coord_descent',\n",
    "    # feature_selector='greedy',\n",
    "    random_state=SEED,\n",
    ")\n",
    "\n",
    "test_sklearn(\n",
    "    'XGBoost',\n",
    "    xgboost_model,\n",
    "    # encode='ordinal',\n",
    ")\n"
   ]
  },
  {
   "attachments": {},
   "cell_type": "markdown",
   "metadata": {},
   "source": [
    "## Gradient Boosting\n"
   ]
  },
  {
   "cell_type": "code",
   "execution_count": 18,
   "metadata": {},
   "outputs": [
    {
     "name": "stdout",
     "output_type": "stream",
     "text": [
      ">>> CV Result (GradientBoosting)\n",
      "Scores: [0.98302486 0.98230672 0.98166726]\n",
      "  Mean: 0.9823\n",
      "   Std: 0.0006\n"
     ]
    }
   ],
   "source": [
    "%%time\n",
    "from sklearn.ensemble import GradientBoostingClassifier\n",
    "\n",
    "gradient_boosting_model = GradientBoostingClassifier(\n",
    "    random_state=SEED,\n",
    ")\n",
    "\n",
    "test_sklearn(\n",
    "    'GradientBoosting',\n",
    "    gradient_boosting_model,\n",
    ")\n"
   ]
  },
  {
   "attachments": {},
   "cell_type": "markdown",
   "metadata": {},
   "source": [
    "## Extra Trees\n"
   ]
  },
  {
   "cell_type": "code",
   "execution_count": 19,
   "metadata": {},
   "outputs": [
    {
     "name": "stdout",
     "output_type": "stream",
     "text": [
      ">>> CV Result (ExtraTrees)\n",
      "Scores: [0.98888585 0.99197778 0.98758717]\n",
      "  Mean: 0.9895\n",
      "   Std: 0.0018\n"
     ]
    }
   ],
   "source": [
    "%%time\n",
    "from sklearn.ensemble import ExtraTreesClassifier\n",
    "\n",
    "extra_trees_model = ExtraTreesClassifier(\n",
    "    class_weight='balanced',\n",
    "    random_state=SEED,\n",
    ")\n",
    "\n",
    "test_sklearn(\n",
    "    'ExtraTrees',\n",
    "    extra_trees_model,\n",
    ")\n"
   ]
  },
  {
   "attachments": {},
   "cell_type": "markdown",
   "metadata": {},
   "source": [
    "## Ridge Classifier\n"
   ]
  },
  {
   "cell_type": "code",
   "execution_count": 20,
   "metadata": {},
   "outputs": [
    {
     "name": "stdout",
     "output_type": "stream",
     "text": [
      ">>> CV Result (Ridge)\n",
      "Scores: [0.96213859 0.94504045 0.95426488]\n",
      "  Mean: 0.9538\n",
      "   Std: 0.0070\n"
     ]
    }
   ],
   "source": [
    "%%time\n",
    "from sklearn.linear_model import RidgeClassifier\n",
    "\n",
    "ridge_model = RidgeClassifier(\n",
    "    # class_weight='balanced',  # worse...\n",
    "    random_state=SEED,\n",
    ")\n",
    "\n",
    "test_sklearn(\n",
    "    'Ridge',\n",
    "    ridge_model,\n",
    ")\n"
   ]
  },
  {
   "attachments": {},
   "cell_type": "markdown",
   "metadata": {},
   "source": [
    "## Logistic Regression\n"
   ]
  },
  {
   "cell_type": "code",
   "execution_count": 21,
   "metadata": {},
   "outputs": [
    {
     "name": "stdout",
     "output_type": "stream",
     "text": [
      ">>> CV Result (Logistic)\n",
      "Scores: [0.96343016 0.94545958 0.95443583]\n",
      "  Mean: 0.9544\n",
      "   Std: 0.0073\n"
     ]
    }
   ],
   "source": [
    "%%time\n",
    "from sklearn.linear_model import LogisticRegression\n",
    "\n",
    "logistic_model = LogisticRegression(\n",
    "    solver='newton-cholesky',\n",
    "    # class_weight='balanced',  # worse...\n",
    "    random_state=SEED,\n",
    ")\n",
    "\n",
    "test_sklearn(\n",
    "    'Logistic',\n",
    "    logistic_model,\n",
    ")\n"
   ]
  },
  {
   "attachments": {},
   "cell_type": "markdown",
   "metadata": {},
   "source": [
    "## K-Nearest Neighbors\n"
   ]
  },
  {
   "cell_type": "code",
   "execution_count": 22,
   "metadata": {},
   "outputs": [
    {
     "name": "stdout",
     "output_type": "stream",
     "text": [
      ">>> CV Result (KNeighbors)\n",
      "Scores: [0.86439013 0.85513573 0.85173826]\n",
      "  Mean: 0.8571\n",
      "   Std: 0.0053\n"
     ]
    }
   ],
   "source": [
    "%%time\n",
    "from sklearn.neighbors import KNeighborsClassifier\n",
    "\n",
    "neighbors_model = KNeighborsClassifier()\n",
    "\n",
    "test_sklearn(\n",
    "    'KNeighbors',\n",
    "    neighbors_model,\n",
    ")\n"
   ]
  },
  {
   "attachments": {},
   "cell_type": "markdown",
   "metadata": {},
   "source": [
    "## AdaBoost\n"
   ]
  },
  {
   "cell_type": "code",
   "execution_count": 23,
   "metadata": {},
   "outputs": [
    {
     "name": "stdout",
     "output_type": "stream",
     "text": [
      ">>> CV Result (AdaBoost)\n",
      "Scores: [0.98006773 0.98011872 0.97773297]\n",
      "  Mean: 0.9793\n",
      "   Std: 0.0011\n"
     ]
    }
   ],
   "source": [
    "%%time\n",
    "from sklearn.ensemble import AdaBoostClassifier\n",
    "from sklearn.tree import DecisionTreeClassifier\n",
    "\n",
    "adaboost_model = AdaBoostClassifier(\n",
    "    n_estimators=68,\n",
    "    random_state=SEED,\n",
    ")\n",
    "\n",
    "test_sklearn(\n",
    "    'AdaBoost',\n",
    "    adaboost_model,\n",
    ")\n"
   ]
  },
  {
   "attachments": {},
   "cell_type": "markdown",
   "metadata": {},
   "source": [
    "## Linear Discriminant Analysis\n"
   ]
  },
  {
   "cell_type": "code",
   "execution_count": 24,
   "metadata": {},
   "outputs": [
    {
     "name": "stdout",
     "output_type": "stream",
     "text": [
      ">>> CV Result (LDA)\n",
      "Scores: [0.96213859 0.94504051 0.95426486]\n",
      "  Mean: 0.9538\n",
      "   Std: 0.0070\n"
     ]
    }
   ],
   "source": [
    "%%time\n",
    "from sklearn.discriminant_analysis import LinearDiscriminantAnalysis\n",
    "\n",
    "lda_model = LinearDiscriminantAnalysis()\n",
    "\n",
    "test_sklearn(\n",
    "    'LDA',\n",
    "    lda_model,\n",
    ")\n"
   ]
  },
  {
   "attachments": {},
   "cell_type": "markdown",
   "metadata": {},
   "source": [
    "## MLP\n"
   ]
  },
  {
   "cell_type": "code",
   "execution_count": 25,
   "metadata": {},
   "outputs": [
    {
     "name": "stdout",
     "output_type": "stream",
     "text": [
      ">>> CV Result (MLP)\n",
      "Scores: [0.98022958 0.97303329 0.97407422]\n",
      "  Mean: 0.9758\n",
      "   Std: 0.0032\n"
     ]
    }
   ],
   "source": [
    "%%time\n",
    "from sklearn.neural_network import MLPClassifier\n",
    "\n",
    "mlp_model = make_pipeline(\n",
    "    StandardScaler(),\n",
    "    MLPClassifier(\n",
    "        hidden_layer_sizes=(100,),\n",
    "        max_iter=1000,\n",
    "        random_state=SEED,\n",
    "    ),\n",
    ")\n",
    "\n",
    "test_sklearn(\n",
    "    'MLP',\n",
    "    mlp_model,\n",
    ")\n"
   ]
  },
  {
   "attachments": {},
   "cell_type": "markdown",
   "metadata": {},
   "source": [
    "## Decision Tree\n"
   ]
  },
  {
   "cell_type": "code",
   "execution_count": 26,
   "metadata": {},
   "outputs": [
    {
     "name": "stdout",
     "output_type": "stream",
     "text": [
      ">>> CV Result (DecisionTree)\n",
      "Scores: [0.86135349 0.85845094 0.84053631]\n",
      "  Mean: 0.8534\n",
      "   Std: 0.0092\n"
     ]
    }
   ],
   "source": [
    "%%time\n",
    "from sklearn.tree import DecisionTreeClassifier\n",
    "\n",
    "decision_tree_model = DecisionTreeClassifier(\n",
    "    class_weight='balanced',\n",
    "    random_state=SEED,\n",
    ")\n",
    "\n",
    "test_sklearn(\n",
    "    'DecisionTree',\n",
    "    decision_tree_model,\n",
    ")\n"
   ]
  },
  {
   "attachments": {},
   "cell_type": "markdown",
   "metadata": {},
   "source": [
    "## SVM (With RBF Kernel)\n"
   ]
  },
  {
   "cell_type": "code",
   "execution_count": 27,
   "metadata": {},
   "outputs": [
    {
     "name": "stdout",
     "output_type": "stream",
     "text": [
      ">>> CV Result (SVM)\n",
      "Scores: [0.9721738  0.96024045 0.9611242 ]\n",
      "  Mean: 0.9645\n",
      "   Std: 0.0054\n"
     ]
    }
   ],
   "source": [
    "%%time\n",
    "from sklearn.svm import SVC\n",
    "\n",
    "svm_model = make_pipeline(\n",
    "    StandardScaler(),\n",
    "    SVC(\n",
    "        kernel='rbf',  # default\n",
    "        random_state=SEED,\n",
    "    ),\n",
    ")\n",
    "\n",
    "test_sklearn(\n",
    "    'SVM',\n",
    "    svm_model,\n",
    ")\n"
   ]
  },
  {
   "attachments": {},
   "cell_type": "markdown",
   "metadata": {},
   "source": [
    "## Naive Bayes\n"
   ]
  },
  {
   "cell_type": "code",
   "execution_count": 28,
   "metadata": {},
   "outputs": [
    {
     "ename": "ValueError",
     "evalue": "\nAll the 3 fits failed.\nIt is very likely that your model is misconfigured.\nYou can try to debug the error by setting error_score='raise'.\n\nBelow are more details about the failures:\n--------------------------------------------------------------------------------\n3 fits failed with the following error:\nTraceback (most recent call last):\n  File \"d:\\Program Files\\Python39\\lib\\site-packages\\sklearn\\model_selection\\_validation.py\", line 686, in _fit_and_score\n    estimator.fit(X_train, y_train, **fit_params)\n  File \"d:\\Program Files\\Python39\\lib\\site-packages\\sklearn\\naive_bayes.py\", line 774, in fit\n    self._count(X, Y)\n  File \"d:\\Program Files\\Python39\\lib\\site-packages\\sklearn\\naive_bayes.py\", line 1042, in _count\n    check_non_negative(X, \"ComplementNB (input X)\")\n  File \"d:\\Program Files\\Python39\\lib\\site-packages\\sklearn\\utils\\validation.py\", line 1408, in check_non_negative\n    raise ValueError(\"Negative values in data passed to %s\" % whom)\nValueError: Negative values in data passed to ComplementNB (input X)\n",
     "output_type": "error",
     "traceback": [
      "\u001b[1;31m---------------------------------------------------------------------------\u001b[0m",
      "\u001b[1;31mValueError\u001b[0m                                Traceback (most recent call last)",
      "\u001b[1;32me:\\usr\\ECUST\\大创\\sepsis-pics\\models.ipynb Cell 41\u001b[0m in \u001b[0;36m<module>\u001b[1;34m\u001b[0m\n\u001b[0;32m      <a href='vscode-notebook-cell:/e%3A/usr/ECUST/%E5%A4%A7%E5%88%9B/sepsis-pics/models.ipynb#X61sZmlsZQ%3D%3D?line=0'>1</a>\u001b[0m \u001b[39mfrom\u001b[39;00m \u001b[39msklearn\u001b[39;00m\u001b[39m.\u001b[39;00m\u001b[39mnaive_bayes\u001b[39;00m \u001b[39mimport\u001b[39;00m ComplementNB\n\u001b[0;32m      <a href='vscode-notebook-cell:/e%3A/usr/ECUST/%E5%A4%A7%E5%88%9B/sepsis-pics/models.ipynb#X61sZmlsZQ%3D%3D?line=2'>3</a>\u001b[0m nb_model \u001b[39m=\u001b[39m ComplementNB()\n\u001b[1;32m----> <a href='vscode-notebook-cell:/e%3A/usr/ECUST/%E5%A4%A7%E5%88%9B/sepsis-pics/models.ipynb#X61sZmlsZQ%3D%3D?line=4'>5</a>\u001b[0m test_sklearn(\n\u001b[0;32m      <a href='vscode-notebook-cell:/e%3A/usr/ECUST/%E5%A4%A7%E5%88%9B/sepsis-pics/models.ipynb#X61sZmlsZQ%3D%3D?line=5'>6</a>\u001b[0m     \u001b[39m'\u001b[39;49m\u001b[39mNaiveBayes\u001b[39;49m\u001b[39m'\u001b[39;49m,\n\u001b[0;32m      <a href='vscode-notebook-cell:/e%3A/usr/ECUST/%E5%A4%A7%E5%88%9B/sepsis-pics/models.ipynb#X61sZmlsZQ%3D%3D?line=6'>7</a>\u001b[0m     nb_model,\n\u001b[0;32m      <a href='vscode-notebook-cell:/e%3A/usr/ECUST/%E5%A4%A7%E5%88%9B/sepsis-pics/models.ipynb#X61sZmlsZQ%3D%3D?line=7'>8</a>\u001b[0m )\n",
      "\u001b[1;32me:\\usr\\ECUST\\大创\\sepsis-pics\\models.ipynb Cell 41\u001b[0m in \u001b[0;36mtest_sklearn\u001b[1;34m(name, model)\u001b[0m\n\u001b[0;32m      <a href='vscode-notebook-cell:/e%3A/usr/ECUST/%E5%A4%A7%E5%88%9B/sepsis-pics/models.ipynb#X61sZmlsZQ%3D%3D?line=0'>1</a>\u001b[0m \u001b[39mdef\u001b[39;00m \u001b[39mtest_sklearn\u001b[39m(name, model):\n\u001b[0;32m      <a href='vscode-notebook-cell:/e%3A/usr/ECUST/%E5%A4%A7%E5%88%9B/sepsis-pics/models.ipynb#X61sZmlsZQ%3D%3D?line=1'>2</a>\u001b[0m     \u001b[39m'''\u001b[39;00m\n\u001b[0;32m      <a href='vscode-notebook-cell:/e%3A/usr/ECUST/%E5%A4%A7%E5%88%9B/sepsis-pics/models.ipynb#X61sZmlsZQ%3D%3D?line=2'>3</a>\u001b[0m \u001b[39m    Test the given model using sklearn's\u001b[39;00m\n\u001b[0;32m      <a href='vscode-notebook-cell:/e%3A/usr/ECUST/%E5%A4%A7%E5%88%9B/sepsis-pics/models.ipynb#X61sZmlsZQ%3D%3D?line=3'>4</a>\u001b[0m \u001b[39m    cross validation, print the result\u001b[39;00m\n\u001b[1;32m   (...)\u001b[0m\n\u001b[0;32m     <a href='vscode-notebook-cell:/e%3A/usr/ECUST/%E5%A4%A7%E5%88%9B/sepsis-pics/models.ipynb#X61sZmlsZQ%3D%3D?line=11'>12</a>\u001b[0m \u001b[39m        The model to test.\u001b[39;00m\n\u001b[0;32m     <a href='vscode-notebook-cell:/e%3A/usr/ECUST/%E5%A4%A7%E5%88%9B/sepsis-pics/models.ipynb#X61sZmlsZQ%3D%3D?line=12'>13</a>\u001b[0m \u001b[39m    '''\u001b[39;00m\n\u001b[1;32m---> <a href='vscode-notebook-cell:/e%3A/usr/ECUST/%E5%A4%A7%E5%88%9B/sepsis-pics/models.ipynb#X61sZmlsZQ%3D%3D?line=14'>15</a>\u001b[0m     scores \u001b[39m=\u001b[39m cross_val_score(\n\u001b[0;32m     <a href='vscode-notebook-cell:/e%3A/usr/ECUST/%E5%A4%A7%E5%88%9B/sepsis-pics/models.ipynb#X61sZmlsZQ%3D%3D?line=15'>16</a>\u001b[0m         model,\n\u001b[0;32m     <a href='vscode-notebook-cell:/e%3A/usr/ECUST/%E5%A4%A7%E5%88%9B/sepsis-pics/models.ipynb#X61sZmlsZQ%3D%3D?line=16'>17</a>\u001b[0m         X,\n\u001b[0;32m     <a href='vscode-notebook-cell:/e%3A/usr/ECUST/%E5%A4%A7%E5%88%9B/sepsis-pics/models.ipynb#X61sZmlsZQ%3D%3D?line=17'>18</a>\u001b[0m         y,\n\u001b[0;32m     <a href='vscode-notebook-cell:/e%3A/usr/ECUST/%E5%A4%A7%E5%88%9B/sepsis-pics/models.ipynb#X61sZmlsZQ%3D%3D?line=18'>19</a>\u001b[0m         cv\u001b[39m=\u001b[39;49mcv,\n\u001b[0;32m     <a href='vscode-notebook-cell:/e%3A/usr/ECUST/%E5%A4%A7%E5%88%9B/sepsis-pics/models.ipynb#X61sZmlsZQ%3D%3D?line=19'>20</a>\u001b[0m         scoring\u001b[39m=\u001b[39;49mSCORING,\n\u001b[0;32m     <a href='vscode-notebook-cell:/e%3A/usr/ECUST/%E5%A4%A7%E5%88%9B/sepsis-pics/models.ipynb#X61sZmlsZQ%3D%3D?line=20'>21</a>\u001b[0m     )\n\u001b[0;32m     <a href='vscode-notebook-cell:/e%3A/usr/ECUST/%E5%A4%A7%E5%88%9B/sepsis-pics/models.ipynb#X61sZmlsZQ%3D%3D?line=22'>23</a>\u001b[0m     scores_mean \u001b[39m=\u001b[39m scores\u001b[39m.\u001b[39mmean()\n\u001b[0;32m     <a href='vscode-notebook-cell:/e%3A/usr/ECUST/%E5%A4%A7%E5%88%9B/sepsis-pics/models.ipynb#X61sZmlsZQ%3D%3D?line=23'>24</a>\u001b[0m     scores_std \u001b[39m=\u001b[39m scores\u001b[39m.\u001b[39mstd()\n",
      "File \u001b[1;32md:\\Program Files\\Python39\\lib\\site-packages\\sklearn\\model_selection\\_validation.py:515\u001b[0m, in \u001b[0;36mcross_val_score\u001b[1;34m(estimator, X, y, groups, scoring, cv, n_jobs, verbose, fit_params, pre_dispatch, error_score)\u001b[0m\n\u001b[0;32m    512\u001b[0m \u001b[39m# To ensure multimetric format is not supported\u001b[39;00m\n\u001b[0;32m    513\u001b[0m scorer \u001b[39m=\u001b[39m check_scoring(estimator, scoring\u001b[39m=\u001b[39mscoring)\n\u001b[1;32m--> 515\u001b[0m cv_results \u001b[39m=\u001b[39m cross_validate(\n\u001b[0;32m    516\u001b[0m     estimator\u001b[39m=\u001b[39;49mestimator,\n\u001b[0;32m    517\u001b[0m     X\u001b[39m=\u001b[39;49mX,\n\u001b[0;32m    518\u001b[0m     y\u001b[39m=\u001b[39;49my,\n\u001b[0;32m    519\u001b[0m     groups\u001b[39m=\u001b[39;49mgroups,\n\u001b[0;32m    520\u001b[0m     scoring\u001b[39m=\u001b[39;49m{\u001b[39m\"\u001b[39;49m\u001b[39mscore\u001b[39;49m\u001b[39m\"\u001b[39;49m: scorer},\n\u001b[0;32m    521\u001b[0m     cv\u001b[39m=\u001b[39;49mcv,\n\u001b[0;32m    522\u001b[0m     n_jobs\u001b[39m=\u001b[39;49mn_jobs,\n\u001b[0;32m    523\u001b[0m     verbose\u001b[39m=\u001b[39;49mverbose,\n\u001b[0;32m    524\u001b[0m     fit_params\u001b[39m=\u001b[39;49mfit_params,\n\u001b[0;32m    525\u001b[0m     pre_dispatch\u001b[39m=\u001b[39;49mpre_dispatch,\n\u001b[0;32m    526\u001b[0m     error_score\u001b[39m=\u001b[39;49merror_score,\n\u001b[0;32m    527\u001b[0m )\n\u001b[0;32m    528\u001b[0m \u001b[39mreturn\u001b[39;00m cv_results[\u001b[39m\"\u001b[39m\u001b[39mtest_score\u001b[39m\u001b[39m\"\u001b[39m]\n",
      "File \u001b[1;32md:\\Program Files\\Python39\\lib\\site-packages\\sklearn\\model_selection\\_validation.py:285\u001b[0m, in \u001b[0;36mcross_validate\u001b[1;34m(estimator, X, y, groups, scoring, cv, n_jobs, verbose, fit_params, pre_dispatch, return_train_score, return_estimator, error_score)\u001b[0m\n\u001b[0;32m    265\u001b[0m parallel \u001b[39m=\u001b[39m Parallel(n_jobs\u001b[39m=\u001b[39mn_jobs, verbose\u001b[39m=\u001b[39mverbose, pre_dispatch\u001b[39m=\u001b[39mpre_dispatch)\n\u001b[0;32m    266\u001b[0m results \u001b[39m=\u001b[39m parallel(\n\u001b[0;32m    267\u001b[0m     delayed(_fit_and_score)(\n\u001b[0;32m    268\u001b[0m         clone(estimator),\n\u001b[1;32m   (...)\u001b[0m\n\u001b[0;32m    282\u001b[0m     \u001b[39mfor\u001b[39;00m train, test \u001b[39min\u001b[39;00m cv\u001b[39m.\u001b[39msplit(X, y, groups)\n\u001b[0;32m    283\u001b[0m )\n\u001b[1;32m--> 285\u001b[0m _warn_or_raise_about_fit_failures(results, error_score)\n\u001b[0;32m    287\u001b[0m \u001b[39m# For callabe scoring, the return type is only know after calling. If the\u001b[39;00m\n\u001b[0;32m    288\u001b[0m \u001b[39m# return type is a dictionary, the error scores can now be inserted with\u001b[39;00m\n\u001b[0;32m    289\u001b[0m \u001b[39m# the correct key.\u001b[39;00m\n\u001b[0;32m    290\u001b[0m \u001b[39mif\u001b[39;00m callable(scoring):\n",
      "File \u001b[1;32md:\\Program Files\\Python39\\lib\\site-packages\\sklearn\\model_selection\\_validation.py:367\u001b[0m, in \u001b[0;36m_warn_or_raise_about_fit_failures\u001b[1;34m(results, error_score)\u001b[0m\n\u001b[0;32m    360\u001b[0m \u001b[39mif\u001b[39;00m num_failed_fits \u001b[39m==\u001b[39m num_fits:\n\u001b[0;32m    361\u001b[0m     all_fits_failed_message \u001b[39m=\u001b[39m (\n\u001b[0;32m    362\u001b[0m         \u001b[39mf\u001b[39m\u001b[39m\"\u001b[39m\u001b[39m\\n\u001b[39;00m\u001b[39mAll the \u001b[39m\u001b[39m{\u001b[39;00mnum_fits\u001b[39m}\u001b[39;00m\u001b[39m fits failed.\u001b[39m\u001b[39m\\n\u001b[39;00m\u001b[39m\"\u001b[39m\n\u001b[0;32m    363\u001b[0m         \u001b[39m\"\u001b[39m\u001b[39mIt is very likely that your model is misconfigured.\u001b[39m\u001b[39m\\n\u001b[39;00m\u001b[39m\"\u001b[39m\n\u001b[0;32m    364\u001b[0m         \u001b[39m\"\u001b[39m\u001b[39mYou can try to debug the error by setting error_score=\u001b[39m\u001b[39m'\u001b[39m\u001b[39mraise\u001b[39m\u001b[39m'\u001b[39m\u001b[39m.\u001b[39m\u001b[39m\\n\u001b[39;00m\u001b[39m\\n\u001b[39;00m\u001b[39m\"\u001b[39m\n\u001b[0;32m    365\u001b[0m         \u001b[39mf\u001b[39m\u001b[39m\"\u001b[39m\u001b[39mBelow are more details about the failures:\u001b[39m\u001b[39m\\n\u001b[39;00m\u001b[39m{\u001b[39;00mfit_errors_summary\u001b[39m}\u001b[39;00m\u001b[39m\"\u001b[39m\n\u001b[0;32m    366\u001b[0m     )\n\u001b[1;32m--> 367\u001b[0m     \u001b[39mraise\u001b[39;00m \u001b[39mValueError\u001b[39;00m(all_fits_failed_message)\n\u001b[0;32m    369\u001b[0m \u001b[39melse\u001b[39;00m:\n\u001b[0;32m    370\u001b[0m     some_fits_failed_message \u001b[39m=\u001b[39m (\n\u001b[0;32m    371\u001b[0m         \u001b[39mf\u001b[39m\u001b[39m\"\u001b[39m\u001b[39m\\n\u001b[39;00m\u001b[39m{\u001b[39;00mnum_failed_fits\u001b[39m}\u001b[39;00m\u001b[39m fits failed out of a total of \u001b[39m\u001b[39m{\u001b[39;00mnum_fits\u001b[39m}\u001b[39;00m\u001b[39m.\u001b[39m\u001b[39m\\n\u001b[39;00m\u001b[39m\"\u001b[39m\n\u001b[0;32m    372\u001b[0m         \u001b[39m\"\u001b[39m\u001b[39mThe score on these train-test partitions for these parameters\u001b[39m\u001b[39m\"\u001b[39m\n\u001b[1;32m   (...)\u001b[0m\n\u001b[0;32m    376\u001b[0m         \u001b[39mf\u001b[39m\u001b[39m\"\u001b[39m\u001b[39mBelow are more details about the failures:\u001b[39m\u001b[39m\\n\u001b[39;00m\u001b[39m{\u001b[39;00mfit_errors_summary\u001b[39m}\u001b[39;00m\u001b[39m\"\u001b[39m\n\u001b[0;32m    377\u001b[0m     )\n",
      "\u001b[1;31mValueError\u001b[0m: \nAll the 3 fits failed.\nIt is very likely that your model is misconfigured.\nYou can try to debug the error by setting error_score='raise'.\n\nBelow are more details about the failures:\n--------------------------------------------------------------------------------\n3 fits failed with the following error:\nTraceback (most recent call last):\n  File \"d:\\Program Files\\Python39\\lib\\site-packages\\sklearn\\model_selection\\_validation.py\", line 686, in _fit_and_score\n    estimator.fit(X_train, y_train, **fit_params)\n  File \"d:\\Program Files\\Python39\\lib\\site-packages\\sklearn\\naive_bayes.py\", line 774, in fit\n    self._count(X, Y)\n  File \"d:\\Program Files\\Python39\\lib\\site-packages\\sklearn\\naive_bayes.py\", line 1042, in _count\n    check_non_negative(X, \"ComplementNB (input X)\")\n  File \"d:\\Program Files\\Python39\\lib\\site-packages\\sklearn\\utils\\validation.py\", line 1408, in check_non_negative\n    raise ValueError(\"Negative values in data passed to %s\" % whom)\nValueError: Negative values in data passed to ComplementNB (input X)\n"
     ]
    }
   ],
   "source": [
    "%%time\n",
    "from sklearn.naive_bayes import ComplementNB\n",
    "\n",
    "# TODO: transform data for this\n",
    "nb_model = ComplementNB()\n",
    "\n",
    "test_sklearn(\n",
    "    'NaiveBayes',\n",
    "    nb_model,\n",
    ")\n"
   ]
  },
  {
   "attachments": {},
   "cell_type": "markdown",
   "metadata": {},
   "source": [
    "## Summary\n"
   ]
  },
  {
   "cell_type": "code",
   "execution_count": null,
   "metadata": {},
   "outputs": [
    {
     "data": {
      "text/html": [
       "<style type=\"text/css\">\n",
       "</style>\n",
       "<table id=\"T_913da_\">\n",
       "  <thead>\n",
       "    <tr>\n",
       "      <th class=\"blank level0\" >&nbsp;</th>\n",
       "      <th class=\"col_heading level0 col0\" >AUC mean</th>\n",
       "      <th class=\"col_heading level0 col1\" >AUC std</th>\n",
       "    </tr>\n",
       "  </thead>\n",
       "  <tbody>\n",
       "    <tr>\n",
       "      <th id=\"T_913da_level0_row0\" class=\"row_heading level0 row0\" >AdaBoost</th>\n",
       "      <td id=\"T_913da_row0_col0\" class=\"data row0 col0\" >0.6664</td>\n",
       "      <td id=\"T_913da_row0_col1\" class=\"data row0 col1\" >0.1590</td>\n",
       "    </tr>\n",
       "    <tr>\n",
       "      <th id=\"T_913da_level0_row1\" class=\"row_heading level0 row1\" >XGBoost</th>\n",
       "      <td id=\"T_913da_row1_col0\" class=\"data row1 col0\" >0.6498</td>\n",
       "      <td id=\"T_913da_row1_col1\" class=\"data row1 col1\" >0.0649</td>\n",
       "    </tr>\n",
       "    <tr>\n",
       "      <th id=\"T_913da_level0_row2\" class=\"row_heading level0 row2\" >Logistic</th>\n",
       "      <td id=\"T_913da_row2_col0\" class=\"data row2 col0\" >0.6316</td>\n",
       "      <td id=\"T_913da_row2_col1\" class=\"data row2 col1\" >0.0282</td>\n",
       "    </tr>\n",
       "    <tr>\n",
       "      <th id=\"T_913da_level0_row3\" class=\"row_heading level0 row3\" >CatBoost</th>\n",
       "      <td id=\"T_913da_row3_col0\" class=\"data row3 col0\" >0.6288</td>\n",
       "      <td id=\"T_913da_row3_col1\" class=\"data row3 col1\" >0.0254</td>\n",
       "    </tr>\n",
       "    <tr>\n",
       "      <th id=\"T_913da_level0_row4\" class=\"row_heading level0 row4\" >Ridge</th>\n",
       "      <td id=\"T_913da_row4_col0\" class=\"data row4 col0\" >0.6285</td>\n",
       "      <td id=\"T_913da_row4_col1\" class=\"data row4 col1\" >0.0486</td>\n",
       "    </tr>\n",
       "    <tr>\n",
       "      <th id=\"T_913da_level0_row5\" class=\"row_heading level0 row5\" >LDA</th>\n",
       "      <td id=\"T_913da_row5_col0\" class=\"data row5 col0\" >0.6282</td>\n",
       "      <td id=\"T_913da_row5_col1\" class=\"data row5 col1\" >0.0488</td>\n",
       "    </tr>\n",
       "    <tr>\n",
       "      <th id=\"T_913da_level0_row6\" class=\"row_heading level0 row6\" >NaiveBayes</th>\n",
       "      <td id=\"T_913da_row6_col0\" class=\"data row6 col0\" >0.5370</td>\n",
       "      <td id=\"T_913da_row6_col1\" class=\"data row6 col1\" >0.0647</td>\n",
       "    </tr>\n",
       "    <tr>\n",
       "      <th id=\"T_913da_level0_row7\" class=\"row_heading level0 row7\" >GradientBoosting</th>\n",
       "      <td id=\"T_913da_row7_col0\" class=\"data row7 col0\" >0.5268</td>\n",
       "      <td id=\"T_913da_row7_col1\" class=\"data row7 col1\" >0.0852</td>\n",
       "    </tr>\n",
       "    <tr>\n",
       "      <th id=\"T_913da_level0_row8\" class=\"row_heading level0 row8\" >ExtraTrees</th>\n",
       "      <td id=\"T_913da_row8_col0\" class=\"data row8 col0\" >0.5208</td>\n",
       "      <td id=\"T_913da_row8_col1\" class=\"data row8 col1\" >0.0599</td>\n",
       "    </tr>\n",
       "    <tr>\n",
       "      <th id=\"T_913da_level0_row9\" class=\"row_heading level0 row9\" >LightGB</th>\n",
       "      <td id=\"T_913da_row9_col0\" class=\"data row9 col0\" >0.5205</td>\n",
       "      <td id=\"T_913da_row9_col1\" class=\"data row9 col1\" >0.0358</td>\n",
       "    </tr>\n",
       "    <tr>\n",
       "      <th id=\"T_913da_level0_row10\" class=\"row_heading level0 row10\" >MLP</th>\n",
       "      <td id=\"T_913da_row10_col0\" class=\"data row10 col0\" >0.5166</td>\n",
       "      <td id=\"T_913da_row10_col1\" class=\"data row10 col1\" >0.0590</td>\n",
       "    </tr>\n",
       "    <tr>\n",
       "      <th id=\"T_913da_level0_row11\" class=\"row_heading level0 row11\" >DecisionTree</th>\n",
       "      <td id=\"T_913da_row11_col0\" class=\"data row11 col0\" >0.4947</td>\n",
       "      <td id=\"T_913da_row11_col1\" class=\"data row11 col1\" >0.0009</td>\n",
       "    </tr>\n",
       "    <tr>\n",
       "      <th id=\"T_913da_level0_row12\" class=\"row_heading level0 row12\" >KNeighbors</th>\n",
       "      <td id=\"T_913da_row12_col0\" class=\"data row12 col0\" >0.4826</td>\n",
       "      <td id=\"T_913da_row12_col1\" class=\"data row12 col1\" >0.0056</td>\n",
       "    </tr>\n",
       "    <tr>\n",
       "      <th id=\"T_913da_level0_row13\" class=\"row_heading level0 row13\" >SVM</th>\n",
       "      <td id=\"T_913da_row13_col0\" class=\"data row13 col0\" >0.4017</td>\n",
       "      <td id=\"T_913da_row13_col1\" class=\"data row13 col1\" >0.0925</td>\n",
       "    </tr>\n",
       "  </tbody>\n",
       "</table>\n"
      ],
      "text/plain": [
       "<pandas.io.formats.style.Styler at 0x1d0894c4e80>"
      ]
     },
     "execution_count": 27,
     "metadata": {},
     "output_type": "execute_result"
    }
   ],
   "source": [
    "df_summary = df_result.T.sort_values(\n",
    "    by=['accuracy mean', 'AUC mean'],\n",
    "    ascending=False,\n",
    ")\n",
    "\n",
    "df_summary.style.format('{:.4f}')\n"
   ]
  },
  {
   "cell_type": "code",
   "execution_count": null,
   "metadata": {},
   "outputs": [
    {
     "data": {
      "image/png": "[encoded data removed]",
      "text/plain": [
       "<Figure size 1920x720 with 1 Axes>"
      ]
     },
     "metadata": {
      "needs_background": "light"
     },
     "output_type": "display_data"
    }
   ],
   "source": [
    "fig_summary = plt.figure(figsize=(16, 6), dpi=120)\n",
    "ax_summary = fig_summary.add_subplot()\n",
    "\n",
    "df_summary['AUC mean'].plot.bar(\n",
    "    yerr=df_summary['AUC std'],\n",
    "    ax=ax_summary,\n",
    "    capsize=4,\n",
    "    ylim=[0, 1],\n",
    "    yticks=np.linspace(0, 1, 11),\n",
    ")\n",
    "\n",
    "ax_summary.set_ylabel('AUC mean')\n",
    "ax_summary.grid(axis='y', ls='--', lw=1, alpha=0.6)\n",
    "\n",
    "# adjust x labels\n",
    "for label in ax_summary.get_xticklabels():\n",
    "    label.set_rotation(45)\n"
   ]
  }
 ],
 "metadata": {
  "kernelspec": {
   "display_name": "Python 3.9.2 64-bit",
   "language": "python",
   "name": "python3"
  },
  "language_info": {
   "codemirror_mode": {
    "name": "ipython",
    "version": 3
   },
   "file_extension": ".py",
   "mimetype": "text/x-python",
   "name": "python",
   "nbconvert_exporter": "python",
   "pygments_lexer": "ipython3",
   "version": "3.9.2"
  },
  "orig_nbformat": 4,
  "vscode": {
   "interpreter": {
    "hash": "f7976576504ac6c456dadd405d7477574ca2a64265ee4724cfbc25daae5f6d94"
   }
  }
 },
 "nbformat": 4,
 "nbformat_minor": 2
}
