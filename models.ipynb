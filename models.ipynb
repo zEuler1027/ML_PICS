{
 "cells": [
  {
   "attachments": {},
   "cell_type": "markdown",
   "metadata": {},
   "source": [
    "# Models (sepsis-pics)\n"
   ]
  },
  {
   "attachments": {},
   "cell_type": "markdown",
   "metadata": {},
   "source": [
    "## Common\n"
   ]
  },
  {
   "cell_type": "code",
   "execution_count": 1,
   "metadata": {},
   "outputs": [],
   "source": [
    "import pandas as pd\n",
    "import matplotlib.pyplot as plt\n"
   ]
  },
  {
   "cell_type": "code",
   "execution_count": 2,
   "metadata": {},
   "outputs": [],
   "source": [
    "def plot_roc(input_path):\n",
    "\n",
    "    df_roc = pd.read_csv(input_path, sep='\\t')\n",
    "    ax = plt.subplot()\n",
    "\n",
    "    ax.set_title('CatBoost ROC')\n",
    "    ax.set_xlabel('FPR')\n",
    "    ax.set_ylabel('TPR')\n",
    "\n",
    "    t = [0, 1]\n",
    "    ax.plot(t, t, '--', c='lightgray')\n",
    "\n",
    "    x = df_roc['FPR']\n",
    "    y = df_roc['TPR']\n",
    "    ax.plot(x, y, 'b-')\n"
   ]
  },
  {
   "cell_type": "markdown",
   "metadata": {},
   "source": [
    "## Prepare Data\n"
   ]
  },
  {
   "cell_type": "code",
   "execution_count": 3,
   "metadata": {},
   "outputs": [],
   "source": [
    "df_data = pd.read_csv(\n",
    "    './data_eicu_compact_pics.csv',\n",
    "    index_col='patientunitstayid',\n",
    ")\n",
    "\n",
    "y_labels = ['pics']\n",
    "X = df_data.drop(columns=y_labels)\n",
    "y = df_data[y_labels]\n"
   ]
  },
  {
   "cell_type": "code",
   "execution_count": 4,
   "metadata": {},
   "outputs": [
    {
     "name": "stdout",
     "output_type": "stream",
     "text": [
      "<class 'pandas.core.frame.DataFrame'>\n",
      "Int64Index: 4524 entries, 141297 to 3353251\n",
      "Data columns (total 16 columns):\n",
      " #   Column       Non-Null Count  Dtype  \n",
      "---  ------       --------------  -----  \n",
      " 0   age          4524 non-null   float64\n",
      " 1   urine        4524 non-null   float64\n",
      " 2   wbc          4524 non-null   float64\n",
      " 3   meanbp       4524 non-null   float64\n",
      " 4   vasopressor  4524 non-null   int64  \n",
      " 5   hr           4524 non-null   float64\n",
      " 6   creatinine   4524 non-null   float64\n",
      " 7   platelet     4524 non-null   float64\n",
      " 8   inr          4524 non-null   float64\n",
      " 9   pt           4524 non-null   float64\n",
      " 10  ptt          4524 non-null   float64\n",
      " 11  lactate      4524 non-null   float64\n",
      " 12  rdw          4524 non-null   float64\n",
      " 13  bilirubin    4524 non-null   float64\n",
      " 14  bicarbonate  4524 non-null   float64\n",
      " 15  pics         4524 non-null   bool   \n",
      "dtypes: bool(1), float64(14), int64(1)\n",
      "memory usage: 569.9 KB\n"
     ]
    }
   ],
   "source": [
    "df_data.info()\n"
   ]
  },
  {
   "cell_type": "code",
   "execution_count": 5,
   "metadata": {},
   "outputs": [
    {
     "data": {
      "text/html": [
       "<div>\n",
       "<style scoped>\n",
       "    .dataframe tbody tr th:only-of-type {\n",
       "        vertical-align: middle;\n",
       "    }\n",
       "\n",
       "    .dataframe tbody tr th {\n",
       "        vertical-align: top;\n",
       "    }\n",
       "\n",
       "    .dataframe thead th {\n",
       "        text-align: right;\n",
       "    }\n",
       "</style>\n",
       "<table border=\"1\" class=\"dataframe\">\n",
       "  <thead>\n",
       "    <tr style=\"text-align: right;\">\n",
       "      <th></th>\n",
       "      <th>age</th>\n",
       "      <th>urine</th>\n",
       "      <th>wbc</th>\n",
       "      <th>meanbp</th>\n",
       "      <th>vasopressor</th>\n",
       "      <th>hr</th>\n",
       "      <th>creatinine</th>\n",
       "      <th>platelet</th>\n",
       "      <th>inr</th>\n",
       "      <th>pt</th>\n",
       "      <th>ptt</th>\n",
       "      <th>lactate</th>\n",
       "      <th>rdw</th>\n",
       "      <th>bilirubin</th>\n",
       "      <th>bicarbonate</th>\n",
       "    </tr>\n",
       "    <tr>\n",
       "      <th>patientunitstayid</th>\n",
       "      <th></th>\n",
       "      <th></th>\n",
       "      <th></th>\n",
       "      <th></th>\n",
       "      <th></th>\n",
       "      <th></th>\n",
       "      <th></th>\n",
       "      <th></th>\n",
       "      <th></th>\n",
       "      <th></th>\n",
       "      <th></th>\n",
       "      <th></th>\n",
       "      <th></th>\n",
       "      <th></th>\n",
       "      <th></th>\n",
       "    </tr>\n",
       "  </thead>\n",
       "  <tbody>\n",
       "    <tr>\n",
       "      <th>141297</th>\n",
       "      <td>63.0</td>\n",
       "      <td>-1.0</td>\n",
       "      <td>17.3</td>\n",
       "      <td>177.0</td>\n",
       "      <td>0</td>\n",
       "      <td>135.0</td>\n",
       "      <td>5.413333</td>\n",
       "      <td>440.000000</td>\n",
       "      <td>2.15000</td>\n",
       "      <td>23.650000</td>\n",
       "      <td>28.0</td>\n",
       "      <td>9.25</td>\n",
       "      <td>20.066667</td>\n",
       "      <td>0.7</td>\n",
       "      <td>23.000000</td>\n",
       "    </tr>\n",
       "    <tr>\n",
       "      <th>141432</th>\n",
       "      <td>75.0</td>\n",
       "      <td>-1.0</td>\n",
       "      <td>9.8</td>\n",
       "      <td>48.0</td>\n",
       "      <td>0</td>\n",
       "      <td>76.0</td>\n",
       "      <td>0.965000</td>\n",
       "      <td>227.000000</td>\n",
       "      <td>2.00000</td>\n",
       "      <td>22.200000</td>\n",
       "      <td>31.0</td>\n",
       "      <td>2.00</td>\n",
       "      <td>13.100000</td>\n",
       "      <td>0.7</td>\n",
       "      <td>31.000000</td>\n",
       "    </tr>\n",
       "    <tr>\n",
       "      <th>143578</th>\n",
       "      <td>65.0</td>\n",
       "      <td>-1.0</td>\n",
       "      <td>16.0</td>\n",
       "      <td>48.0</td>\n",
       "      <td>0</td>\n",
       "      <td>64.0</td>\n",
       "      <td>4.326129</td>\n",
       "      <td>165.290323</td>\n",
       "      <td>1.82069</td>\n",
       "      <td>19.327586</td>\n",
       "      <td>53.6</td>\n",
       "      <td>1.50</td>\n",
       "      <td>17.135484</td>\n",
       "      <td>0.4</td>\n",
       "      <td>28.307692</td>\n",
       "    </tr>\n",
       "    <tr>\n",
       "      <th>143897</th>\n",
       "      <td>57.0</td>\n",
       "      <td>-1.0</td>\n",
       "      <td>-1.0</td>\n",
       "      <td>131.0</td>\n",
       "      <td>0</td>\n",
       "      <td>86.0</td>\n",
       "      <td>4.448333</td>\n",
       "      <td>136.714286</td>\n",
       "      <td>0.90000</td>\n",
       "      <td>9.900000</td>\n",
       "      <td>25.0</td>\n",
       "      <td>1.60</td>\n",
       "      <td>17.257143</td>\n",
       "      <td>0.4</td>\n",
       "      <td>25.166667</td>\n",
       "    </tr>\n",
       "    <tr>\n",
       "      <th>144034</th>\n",
       "      <td>38.0</td>\n",
       "      <td>-1.0</td>\n",
       "      <td>22.9</td>\n",
       "      <td>68.0</td>\n",
       "      <td>0</td>\n",
       "      <td>98.0</td>\n",
       "      <td>0.803846</td>\n",
       "      <td>390.909091</td>\n",
       "      <td>0.90000</td>\n",
       "      <td>9.400000</td>\n",
       "      <td>30.0</td>\n",
       "      <td>2.20</td>\n",
       "      <td>13.709091</td>\n",
       "      <td>0.5</td>\n",
       "      <td>28.416667</td>\n",
       "    </tr>\n",
       "  </tbody>\n",
       "</table>\n",
       "</div>"
      ],
      "text/plain": [
       "                    age  urine   wbc  meanbp  vasopressor     hr  creatinine  \\\n",
       "patientunitstayid                                                              \n",
       "141297             63.0   -1.0  17.3   177.0            0  135.0    5.413333   \n",
       "141432             75.0   -1.0   9.8    48.0            0   76.0    0.965000   \n",
       "143578             65.0   -1.0  16.0    48.0            0   64.0    4.326129   \n",
       "143897             57.0   -1.0  -1.0   131.0            0   86.0    4.448333   \n",
       "144034             38.0   -1.0  22.9    68.0            0   98.0    0.803846   \n",
       "\n",
       "                     platelet      inr         pt   ptt  lactate        rdw  \\\n",
       "patientunitstayid                                                             \n",
       "141297             440.000000  2.15000  23.650000  28.0     9.25  20.066667   \n",
       "141432             227.000000  2.00000  22.200000  31.0     2.00  13.100000   \n",
       "143578             165.290323  1.82069  19.327586  53.6     1.50  17.135484   \n",
       "143897             136.714286  0.90000   9.900000  25.0     1.60  17.257143   \n",
       "144034             390.909091  0.90000   9.400000  30.0     2.20  13.709091   \n",
       "\n",
       "                   bilirubin  bicarbonate  \n",
       "patientunitstayid                          \n",
       "141297                   0.7    23.000000  \n",
       "141432                   0.7    31.000000  \n",
       "143578                   0.4    28.307692  \n",
       "143897                   0.4    25.166667  \n",
       "144034                   0.5    28.416667  "
      ]
     },
     "execution_count": 5,
     "metadata": {},
     "output_type": "execute_result"
    }
   ],
   "source": [
    "X.head(5)\n"
   ]
  },
  {
   "cell_type": "code",
   "execution_count": 6,
   "metadata": {},
   "outputs": [
    {
     "data": {
      "text/html": [
       "<div>\n",
       "<style scoped>\n",
       "    .dataframe tbody tr th:only-of-type {\n",
       "        vertical-align: middle;\n",
       "    }\n",
       "\n",
       "    .dataframe tbody tr th {\n",
       "        vertical-align: top;\n",
       "    }\n",
       "\n",
       "    .dataframe thead th {\n",
       "        text-align: right;\n",
       "    }\n",
       "</style>\n",
       "<table border=\"1\" class=\"dataframe\">\n",
       "  <thead>\n",
       "    <tr style=\"text-align: right;\">\n",
       "      <th></th>\n",
       "      <th>pics</th>\n",
       "    </tr>\n",
       "    <tr>\n",
       "      <th>patientunitstayid</th>\n",
       "      <th></th>\n",
       "    </tr>\n",
       "  </thead>\n",
       "  <tbody>\n",
       "    <tr>\n",
       "      <th>141297</th>\n",
       "      <td>False</td>\n",
       "    </tr>\n",
       "    <tr>\n",
       "      <th>141432</th>\n",
       "      <td>False</td>\n",
       "    </tr>\n",
       "    <tr>\n",
       "      <th>143578</th>\n",
       "      <td>False</td>\n",
       "    </tr>\n",
       "    <tr>\n",
       "      <th>143897</th>\n",
       "      <td>False</td>\n",
       "    </tr>\n",
       "    <tr>\n",
       "      <th>144034</th>\n",
       "      <td>False</td>\n",
       "    </tr>\n",
       "  </tbody>\n",
       "</table>\n",
       "</div>"
      ],
      "text/plain": [
       "                    pics\n",
       "patientunitstayid       \n",
       "141297             False\n",
       "141432             False\n",
       "143578             False\n",
       "143897             False\n",
       "144034             False"
      ]
     },
     "execution_count": 6,
     "metadata": {},
     "output_type": "execute_result"
    }
   ],
   "source": [
    "y.head(5)\n"
   ]
  },
  {
   "cell_type": "markdown",
   "metadata": {},
   "source": [
    "## CatBoost\n"
   ]
  },
  {
   "cell_type": "code",
   "execution_count": 7,
   "metadata": {},
   "outputs": [],
   "source": [
    "from catboost import CatBoostClassifier, cv as catboost_cv, \\\n",
    "    Pool as CatboostPool\n",
    "from catboost.utils import get_roc_curve as catboost_roc\n"
   ]
  },
  {
   "cell_type": "code",
   "execution_count": 8,
   "metadata": {},
   "outputs": [],
   "source": [
    "catboost_pool = CatboostPool(X, y)\n"
   ]
  },
  {
   "cell_type": "code",
   "execution_count": 9,
   "metadata": {},
   "outputs": [
    {
     "data": {
      "application/vnd.jupyter.widget-view+json": {
       "model_id": "90450a6cee3f4fd985a9a743a4ed0f0d",
       "version_major": 2,
       "version_minor": 0
      },
      "text/plain": [
       "MetricVisualizer(layout=Layout(align_self='stretch', height='500px'))"
      ]
     },
     "metadata": {},
     "output_type": "display_data"
    },
    {
     "data": {
      "text/plain": [
       "<catboost.core.CatBoostClassifier at 0x2a2bec22eb0>"
      ]
     },
     "execution_count": 9,
     "metadata": {},
     "output_type": "execute_result"
    }
   ],
   "source": [
    "catboost_model = CatBoostClassifier(\n",
    "    # task_type='GPU',\n",
    "    # devices='0',  # GPU ID\n",
    "    verbose=False,\n",
    ")\n",
    "\n",
    "catboost_model.fit(\n",
    "    X,\n",
    "    y,\n",
    "    plot=True,\n",
    ")\n"
   ]
  },
  {
   "cell_type": "code",
   "execution_count": 9,
   "metadata": {},
   "outputs": [],
   "source": [
    "catboost_scores = catboost_cv(\n",
    "    catboost_pool,\n",
    "    fold_count=3,\n",
    "    logging_level='Silent',\n",
    "    params={\n",
    "        'loss_function': 'Logloss',\n",
    "        'verbose': False,\n",
    "        'roc_file': 'roc_catboost.tsv',\n",
    "        'custom_metric': 'AUC',\n",
    "    },\n",
    ")\n"
   ]
  },
  {
   "cell_type": "code",
   "execution_count": 10,
   "metadata": {},
   "outputs": [
    {
     "data": {
      "text/plain": [
       "iterations            999.000000\n",
       "test-Logloss-mean       0.626249\n",
       "test-Logloss-std        0.001920\n",
       "train-Logloss-mean      0.625900\n",
       "train-Logloss-std       0.003127\n",
       "test-AUC-mean           0.681432\n",
       "test-AUC-std            0.080935\n",
       "Name: max, dtype: float64"
      ]
     },
     "execution_count": 10,
     "metadata": {},
     "output_type": "execute_result"
    }
   ],
   "source": [
    "catboost_scores.describe().iloc[-1, :]\n"
   ]
  },
  {
   "cell_type": "code",
   "execution_count": 11,
   "metadata": {},
   "outputs": [
    {
     "data": {
      "image/png": "[encoded data removed]",
      "text/plain": [
       "<Figure size 432x288 with 1 Axes>"
      ]
     },
     "metadata": {
      "needs_background": "light"
     },
     "output_type": "display_data"
    }
   ],
   "source": [
    "plot_roc('./catboost_info/roc_catboost.tsv')\n"
   ]
  }
 ],
 "metadata": {
  "kernelspec": {
   "display_name": "Python 3.9.2 64-bit",
   "language": "python",
   "name": "python3"
  },
  "language_info": {
   "codemirror_mode": {
    "name": "ipython",
    "version": 3
   },
   "file_extension": ".py",
   "mimetype": "text/x-python",
   "name": "python",
   "nbconvert_exporter": "python",
   "pygments_lexer": "ipython3",
   "version": "3.9.2 (tags/v3.9.2:1a79785, Feb 19 2021, 13:44:55) [MSC v.1928 64 bit (AMD64)]"
  },
  "orig_nbformat": 4,
  "vscode": {
   "interpreter": {
    "hash": "f7976576504ac6c456dadd405d7477574ca2a64265ee4724cfbc25daae5f6d94"
   }
  }
 },
 "nbformat": 4,
 "nbformat_minor": 2
}
