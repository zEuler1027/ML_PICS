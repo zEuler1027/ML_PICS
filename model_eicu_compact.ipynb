{
 "cells": [
  {
   "attachments": {},
   "cell_type": "markdown",
   "metadata": {},
   "source": [
    "## model_eicu_compact\n"
   ]
  },
  {
   "attachments": {},
   "cell_type": "markdown",
   "metadata": {},
   "source": [
    "## Prepare\n"
   ]
  },
  {
   "cell_type": "code",
   "execution_count": 12,
   "metadata": {},
   "outputs": [],
   "source": [
    "import pandas as pd\n",
    "import numpy as np\n",
    "import matplotlib.pyplot as plt\n",
    "from catboost import CatBoostClassifier\n",
    "from sklearn.model_selection import cross_validate\n",
    "from common_eicu import KEY_IDENTITY, KEY_OFFSET, \\\n",
    "    KEY_FLAG, CATEGORICAL_COLUMNS\n",
    "from common_model import SEED, SCORING, cv\n"
   ]
  },
  {
   "cell_type": "code",
   "execution_count": 7,
   "metadata": {},
   "outputs": [],
   "source": [
    "COMPACT_COLUMNS = [\n",
    "    KEY_OFFSET,\n",
    "    'albumin',\n",
    "    'lymph',\n",
    "    'heart rate',\n",
    "    'respiration rate',\n",
    "    'total protein',\n",
    "    'pH',\n",
    "    'creatinine',\n",
    "    'Hct',\n",
    "    'ROX index',\n",
    "    'calcium',\n",
    "    'AST',\n",
    "    'WBC',\n",
    "    'platelet',\n",
    "    'potassium',\n",
    "]\n"
   ]
  },
  {
   "cell_type": "code",
   "execution_count": 8,
   "metadata": {},
   "outputs": [],
   "source": [
    "df_data = pd.read_csv('./data/data_eicu_full.csv.gz')\n",
    "\n",
    "# clamp infinite values\n",
    "df_data.replace(np.inf, 9999, inplace=True)\n",
    "\n",
    "# set categorical columns\n",
    "for column_name in CATEGORICAL_COLUMNS:\n",
    "    df_data[column_name] = df_data[column_name].astype('category')\n",
    "\n",
    "X_raw = df_data[COMPACT_COLUMNS]\n",
    "y = df_data[KEY_FLAG].ravel()\n",
    "groups = df_data[KEY_IDENTITY].ravel()\n"
   ]
  },
  {
   "cell_type": "code",
   "execution_count": 15,
   "metadata": {},
   "outputs": [],
   "source": [
    "def test_model(model, X):\n",
    "\n",
    "    cv_scores = cross_validate(\n",
    "        model,\n",
    "        X,\n",
    "        y,\n",
    "        cv=cv,\n",
    "        scoring=SCORING,\n",
    "        groups=groups,\n",
    "    )\n",
    "\n",
    "    cv_scores_accuracy = cv_scores['test_accuracy']\n",
    "    cv_accuracy_mean = cv_scores_accuracy.mean()\n",
    "    cv_accuracy_std = cv_scores_accuracy.std()\n",
    "    cv_scores_auc = cv_scores['test_roc_auc']\n",
    "    cv_auc_mean = cv_scores_auc.mean()\n",
    "    cv_auc_std = cv_scores_auc.std()\n",
    "\n",
    "    print(f'>>> CV Result')\n",
    "    print(f'accuracy_mean: {cv_accuracy_mean:.4f}')\n",
    "    print(f'accuracy_std:  {cv_accuracy_std:.4f}')\n",
    "    print(f'auc_mean:      {cv_auc_mean:.4f}')\n",
    "    print(f'auc_std:       {cv_auc_std:.4f}')\n"
   ]
  },
  {
   "attachments": {},
   "cell_type": "markdown",
   "metadata": {},
   "source": [
    "## CatBoost\n"
   ]
  },
  {
   "cell_type": "code",
   "execution_count": 18,
   "metadata": {},
   "outputs": [],
   "source": [
    "catboost_model = CatBoostClassifier(\n",
    "    cat_features=list(\n",
    "        filter(\n",
    "            lambda col: col in COMPACT_COLUMNS,\n",
    "            CATEGORICAL_COLUMNS,\n",
    "        )\n",
    "    ),\n",
    "    task_type='GPU',\n",
    "    devices='0',\n",
    "    random_state=SEED,\n",
    "    verbose=False,\n",
    ")\n"
   ]
  },
  {
   "cell_type": "code",
   "execution_count": 19,
   "metadata": {},
   "outputs": [
    {
     "name": "stdout",
     "output_type": "stream",
     "text": [
      ">>> CV Result\n",
      "accuracy_mean: 0.9602\n",
      "accuracy_std:  0.0056\n",
      "auc_mean:      0.9003\n",
      "auc_std:       0.0113\n"
     ]
    }
   ],
   "source": [
    "test_model(catboost_model, X_raw)\n"
   ]
  }
 ],
 "metadata": {
  "kernelspec": {
   "display_name": "Python 3",
   "language": "python",
   "name": "python3"
  },
  "language_info": {
   "codemirror_mode": {
    "name": "ipython",
    "version": 3
   },
   "file_extension": ".py",
   "mimetype": "text/x-python",
   "name": "python",
   "nbconvert_exporter": "python",
   "pygments_lexer": "ipython3",
   "version": "3.9.2"
  },
  "orig_nbformat": 4,
  "vscode": {
   "interpreter": {
    "hash": "f7976576504ac6c456dadd405d7477574ca2a64265ee4724cfbc25daae5f6d94"
   }
  }
 },
 "nbformat": 4,
 "nbformat_minor": 2
}
