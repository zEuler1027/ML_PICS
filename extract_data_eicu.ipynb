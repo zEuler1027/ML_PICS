{
 "cells": [
  {
   "attachments": {},
   "cell_type": "markdown",
   "metadata": {},
   "source": [
    "# extract_data_eicu\n"
   ]
  },
  {
   "attachments": {},
   "cell_type": "markdown",
   "metadata": {},
   "source": [
    "## Prepare\n"
   ]
  },
  {
   "cell_type": "code",
   "execution_count": 1,
   "metadata": {},
   "outputs": [],
   "source": [
    "from functools import reduce\n",
    "import json\n",
    "import pandas as pd\n",
    "import numpy as np\n",
    "from common_eicu import *\n",
    "from math import isnan\n"
   ]
  },
  {
   "cell_type": "code",
   "execution_count": 2,
   "metadata": {},
   "outputs": [],
   "source": [
    "TEST_ROWS = 50_000\n",
    "\n",
    "COMPACT_MODE = False\n",
    "# COMPACT_MODE = True\n",
    "\n",
    "TEST_MODE = False\n",
    "# TEST_MODE = True\n",
    "\n",
    "# COMPRESS_OUTPUT = False\n",
    "COMPRESS_OUTPUT = True\n"
   ]
  },
  {
   "cell_type": "code",
   "execution_count": 3,
   "metadata": {},
   "outputs": [],
   "source": [
    "if COMPACT_MODE:\n",
    "    NON_TEMPORAL_COLUMNS = NON_TEMPORAL_COLUMNS_COMPACT\n",
    "    LAB_VARIABLES = LAB_VARIABLES_COMPACT\n",
    "    EXAM_ITEMS = EXAM_ITEMS_COMPACT\n",
    "    TREATMENT_KEYWORDS = TREATMENT_KEYWORDS_COMPACT\n",
    "    CATEGORICAL_COLUMNS = CATEGORICAL_COLUMNS_COMPACT\n",
    "    CONDITION_ONLY_COLUMNS = CONDITION_ONLY_COLUMNS_COMPACT\n",
    "    APERIODIC_COLUMNS = APERIODIC_COLUMNS_COMPACT\n",
    "    PERIODIC_COLUMNS = PERIODIC_COLUMNS_COMPACT\n",
    "    CUMULATIVE_COLUMNS = CUMULATIVE_COLUMNS_COMPACT\n",
    "else:\n",
    "    NON_TEMPORAL_COLUMNS = NON_TEMPORAL_COLUMNS_FULL\n",
    "    LAB_VARIABLES = LAB_VARIABLES_FULL\n",
    "    EXAM_ITEMS = EXAM_ITEMS_FULL\n",
    "    TREATMENT_KEYWORDS = TREATMENT_KEYWORDS_FULL\n",
    "    CATEGORICAL_COLUMNS = CATEGORICAL_COLUMNS_FULL\n",
    "    CONDITION_ONLY_COLUMNS = CONDITION_ONLY_COLUMNS_FULL\n",
    "    APERIODIC_COLUMNS = APERIODIC_COLUMNS_FULL\n",
    "    PERIODIC_COLUMNS = PERIODIC_COLUMNS_FULL\n",
    "    CUMULATIVE_COLUMNS = CUMULATIVE_COLUMNS_FULL\n"
   ]
  },
  {
   "attachments": {},
   "cell_type": "markdown",
   "metadata": {},
   "source": [
    "## Non-Temporal Data\n"
   ]
  },
  {
   "cell_type": "code",
   "execution_count": 4,
   "metadata": {},
   "outputs": [],
   "source": [
    "# generate the map of non-temporal data sources\n",
    "data_sources = {}\n",
    "with open(CATALOGUE_PATH, 'r') as catalogue_file:\n",
    "    catalogue = json.load(catalogue_file)\n",
    "    for column_name in NON_TEMPORAL_COLUMNS:\n",
    "        if not column_name in catalogue:\n",
    "            raise Exception(\n",
    "                f'Cannot find column \"{column_name}\" in catalogue!'\n",
    "            )\n",
    "        file_path = catalogue[column_name]\n",
    "        if file_path in data_sources:\n",
    "            data_sources[file_path].append(column_name)\n",
    "        else:\n",
    "            data_sources[file_path] = [column_name]\n"
   ]
  },
  {
   "cell_type": "code",
   "execution_count": 5,
   "metadata": {},
   "outputs": [],
   "source": [
    "# collect non-temporal data frames\n",
    "data_frames = []\n",
    "for input_path, column_names in data_sources.items():\n",
    "    usecols = [KEY_IDENTITY, *column_names]\n",
    "    data_frame = pd.read_csv(\n",
    "        input_path,\n",
    "        usecols=usecols,\n",
    "        index_col=KEY_IDENTITY,\n",
    "    )\n",
    "    data_frame.columns = map(\n",
    "        map_column_name,\n",
    "        data_frame.columns,\n",
    "    )\n",
    "    data_frames.append(data_frame)\n"
   ]
  },
  {
   "cell_type": "code",
   "execution_count": 6,
   "metadata": {},
   "outputs": [],
   "source": [
    "def map_age(age):\n",
    "    if age != age:\n",
    "        return age\n",
    "    elif age == '> 89':\n",
    "        return 90\n",
    "    else:\n",
    "        return int(age)\n"
   ]
  },
  {
   "cell_type": "code",
   "execution_count": 29,
   "metadata": {},
   "outputs": [],
   "source": [
    "def map_gender(gender):\n",
    "    if gender == 'Female':\n",
    "        return 'Female'\n",
    "    elif gender == 'Male':\n",
    "        return 'Male'\n",
    "    else:\n",
    "        return 'Other'\n"
   ]
  },
  {
   "cell_type": "code",
   "execution_count": 30,
   "metadata": {},
   "outputs": [
    {
     "name": "stdout",
     "output_type": "stream",
     "text": [
      "<class 'pandas.core.frame.DataFrame'>\n",
      "Int64Index: 200859 entries, 141168 to 3353263\n",
      "Data columns (total 4 columns):\n",
      " #   Column     Non-Null Count   Dtype  \n",
      "---  ------     --------------   -----  \n",
      " 0   gender     200859 non-null  object \n",
      " 1   age        200764 non-null  float64\n",
      " 2   ethnicity  198569 non-null  object \n",
      " 3   height     196644 non-null  float64\n",
      "dtypes: float64(2), object(2)\n",
      "memory usage: 7.7+ MB\n"
     ]
    }
   ],
   "source": [
    "# join non-temporal data frames\n",
    "df_non_temporal = pd.concat(\n",
    "    data_frames,\n",
    "    axis='columns',\n",
    "    join='outer',\n",
    ")\n",
    "\n",
    "# fix some columns\n",
    "df_non_temporal['age'] = df_non_temporal['age'].map(map_age)\n",
    "df_non_temporal['gender'] = df_non_temporal['gender'].map(map_gender)\n",
    "\n",
    "df_non_temporal.info()\n"
   ]
  },
  {
   "attachments": {},
   "cell_type": "markdown",
   "metadata": {},
   "source": [
    "## Init Temporal Data\n"
   ]
  },
  {
   "cell_type": "code",
   "execution_count": 9,
   "metadata": {},
   "outputs": [
    {
     "data": {
      "text/plain": [
       "200859"
      ]
     },
     "execution_count": 9,
     "metadata": {},
     "output_type": "execute_result"
    }
   ],
   "source": [
    "# identity -> { raw_col -> { 'offsets': [], 'values': []  } }\n",
    "temporal_data = {}\n",
    "\n",
    "# init indices\n",
    "for index in df_non_temporal.index:\n",
    "    temporal_data[index] = {}\n",
    "\n",
    "len(temporal_data)\n"
   ]
  },
  {
   "attachments": {},
   "cell_type": "markdown",
   "metadata": {},
   "source": [
    "## Filter Diagnosis\n"
   ]
  },
  {
   "cell_type": "code",
   "execution_count": 10,
   "metadata": {},
   "outputs": [
    {
     "name": "stdout",
     "output_type": "stream",
     "text": [
      "100%\n"
     ]
    }
   ],
   "source": [
    "df_sepsis = pd.read_csv(\n",
    "    relative_path('./data/sepsis_eicu.csv.gz'),\n",
    "    usecols=[KEY_IDENTITY, KEY_DIAGNOSIS_STRING],\n",
    "    nrows=(TEST_ROWS if TEST_MODE else None),\n",
    ")\n",
    "\n",
    "non_sepsis = set(temporal_data.keys())\n",
    "diagnosis_iterator = SimpleProgress(df_sepsis.index)\n",
    "for index in diagnosis_iterator:\n",
    "    identity = df_sepsis.at[index, KEY_IDENTITY]\n",
    "    non_sepsis.discard(identity)\n",
    "\n",
    "for identity in non_sepsis:\n",
    "    del temporal_data[identity]\n"
   ]
  },
  {
   "cell_type": "code",
   "execution_count": 11,
   "metadata": {},
   "outputs": [
    {
     "data": {
      "text/plain": [
       "23479"
      ]
     },
     "execution_count": 11,
     "metadata": {},
     "output_type": "execute_result"
    }
   ],
   "source": [
    "len(temporal_data)\n"
   ]
  },
  {
   "attachments": {},
   "cell_type": "markdown",
   "metadata": {},
   "source": [
    "## Treatment Info\n"
   ]
  },
  {
   "cell_type": "code",
   "execution_count": 12,
   "metadata": {},
   "outputs": [
    {
     "name": "stdout",
     "output_type": "stream",
     "text": [
      "100%\n"
     ]
    }
   ],
   "source": [
    "df_treatment = pd.read_csv(\n",
    "    relative_path('./data/treatment_eicu_filtered.csv.gz'),\n",
    "    nrows=(TEST_ROWS if TEST_MODE else None),\n",
    ")\n",
    "\n",
    "# init treatment columns in temporal_data\n",
    "for record in temporal_data.values():\n",
    "    for keyword in TREATMENT_KEYWORDS:\n",
    "        record[keyword] = {\n",
    "            'offsets': [],\n",
    "            'values': [],\n",
    "        }\n",
    "\n",
    "# collect treatment info\n",
    "treatment_iterator = SimpleProgress(df_treatment.index)\n",
    "for index in treatment_iterator:\n",
    "    identity = df_treatment.at[index, KEY_IDENTITY]\n",
    "    if not identity in temporal_data:\n",
    "        continue\n",
    "    record = temporal_data[identity]\n",
    "    raw_value = df_treatment.at[index, KEY_TREATMENT_STRING]\n",
    "    treatment_string = str(raw_value).lower()\n",
    "    for keyword in TREATMENT_KEYWORDS:\n",
    "        if not keyword in treatment_string:\n",
    "            continue\n",
    "        offset = df_treatment.at[index, KEY_TREATMENT_OFFSET]\n",
    "        store = record[keyword]\n",
    "        store['offsets'].append(offset)\n",
    "        store['values'].append(1)\n"
   ]
  },
  {
   "attachments": {},
   "cell_type": "markdown",
   "metadata": {},
   "source": [
    "## Exam Items\n"
   ]
  },
  {
   "cell_type": "code",
   "execution_count": 13,
   "metadata": {},
   "outputs": [
    {
     "name": "stdout",
     "output_type": "stream",
     "text": [
      "100%\n"
     ]
    }
   ],
   "source": [
    "df_exam = pd.read_csv(\n",
    "    relative_path('./data/exam_eicu_filtered.csv.gz'),\n",
    "    nrows=(TEST_ROWS if TEST_MODE else None),\n",
    ")\n",
    "\n",
    "# init exam columns in temporal_data\n",
    "for record in temporal_data.values():\n",
    "    for item_name in EXAM_ITEMS:\n",
    "        record[item_name] = {\n",
    "            'offsets': [],\n",
    "            'values': [],\n",
    "        }\n",
    "\n",
    "# collect exam items\n",
    "exam_iterator = SimpleProgress(df_exam.index)\n",
    "for index in exam_iterator:\n",
    "    identity = df_exam.at[index, KEY_IDENTITY]\n",
    "    if not identity in temporal_data:\n",
    "        continue\n",
    "    item_name = df_exam.at[index, KEY_EXAM_NAME]\n",
    "    if not item_name in EXAM_ITEMS:\n",
    "        continue\n",
    "    offset = df_exam.at[index, KEY_EXAM_OFFSET]\n",
    "    value = df_exam.at[index, KEY_EXAM_RESULT]\n",
    "    record = temporal_data[identity]\n",
    "    store = record[item_name]\n",
    "    store['offsets'].append(offset)\n",
    "    store['values'].append(value)\n"
   ]
  },
  {
   "attachments": {},
   "cell_type": "markdown",
   "metadata": {},
   "source": [
    "## Lab Variables\n"
   ]
  },
  {
   "cell_type": "code",
   "execution_count": 14,
   "metadata": {},
   "outputs": [
    {
     "name": "stdout",
     "output_type": "stream",
     "text": [
      "100%\n"
     ]
    }
   ],
   "source": [
    "df_lab = pd.read_csv(\n",
    "    relative_path('./data/lab_eicu_filtered.csv.gz'),\n",
    "    nrows=(TEST_ROWS if TEST_MODE else None),\n",
    ")\n",
    "\n",
    "# init lab columns in temporal_data\n",
    "for record in temporal_data.values():\n",
    "    for var_name in LAB_VARIABLES:\n",
    "        record[var_name] = {\n",
    "            'offsets': [],\n",
    "            'values': [],\n",
    "        }\n",
    "\n",
    "# collect lab variables\n",
    "lab_iterator = SimpleProgress(df_lab.index)\n",
    "for index in lab_iterator:\n",
    "    identity = df_lab.at[index, KEY_IDENTITY]\n",
    "    if not identity in temporal_data:\n",
    "        continue\n",
    "    var_name = df_lab.at[index, KEY_LAB_NAME]\n",
    "    if not var_name in LAB_VARIABLES:\n",
    "        continue\n",
    "    offset = df_lab.at[index, KEY_LAB_OFFSET]\n",
    "    value = df_lab.at[index, KEY_LAB_RESULT]\n",
    "    record = temporal_data[identity]\n",
    "    store = record[var_name]\n",
    "    store['offsets'].append(offset)\n",
    "    store['values'].append(value)\n"
   ]
  },
  {
   "attachments": {},
   "cell_type": "markdown",
   "metadata": {},
   "source": [
    "## Aperiodic Data\n"
   ]
  },
  {
   "cell_type": "code",
   "execution_count": 15,
   "metadata": {},
   "outputs": [
    {
     "name": "stdout",
     "output_type": "stream",
     "text": [
      "100%\n"
     ]
    }
   ],
   "source": [
    "df_aperiodic = pd.read_csv(\n",
    "    relative_path('./data/aperiodic_eicu_filtered.csv.gz'),\n",
    "    nrows=(TEST_ROWS if TEST_MODE else None),\n",
    ")\n",
    "\n",
    "# init aperiodic columns in temporal_data\n",
    "for record in temporal_data.values():\n",
    "    for name in APERIODIC_COLUMNS:\n",
    "        record[name] = {\n",
    "            'offsets': [],\n",
    "            'values': [],\n",
    "        }\n",
    "\n",
    "# collect aperiodic columns\n",
    "aperiodic_iterator = SimpleProgress(df_aperiodic.index)\n",
    "for index in aperiodic_iterator:\n",
    "    identity = df_aperiodic.at[index, KEY_IDENTITY]\n",
    "    if not identity in temporal_data:\n",
    "        continue\n",
    "    offset = df_aperiodic.at[index, KEY_APERIODIC_OFFSET]\n",
    "    record = temporal_data[identity]\n",
    "    for name in APERIODIC_COLUMNS:\n",
    "        value = df_aperiodic.at[index, name]\n",
    "        store = record[name]\n",
    "        store['offsets'].append(offset)\n",
    "        store['values'].append(value)\n"
   ]
  },
  {
   "attachments": {},
   "cell_type": "markdown",
   "metadata": {},
   "source": [
    "## Periodic Data\n"
   ]
  },
  {
   "cell_type": "code",
   "execution_count": 16,
   "metadata": {},
   "outputs": [
    {
     "name": "stdout",
     "output_type": "stream",
     "text": [
      "100%\n"
     ]
    }
   ],
   "source": [
    "df_periodic = pd.read_csv(\n",
    "    relative_path('./data/periodic_eicu_filtered.csv.gz'),\n",
    "    nrows=(TEST_ROWS if TEST_MODE else None),\n",
    ")\n",
    "\n",
    "# init periodic columns in temporal_data\n",
    "for record in temporal_data.values():\n",
    "    for name in PERIODIC_COLUMNS:\n",
    "        record[name] = {\n",
    "            'offsets': [],\n",
    "            'values': [],\n",
    "        }\n",
    "\n",
    "# collect periodic columns\n",
    "periodic_iterator = SimpleProgress(df_periodic.index)\n",
    "for index in periodic_iterator:\n",
    "    identity = df_periodic.at[index, KEY_IDENTITY]\n",
    "    if not identity in temporal_data:\n",
    "        continue\n",
    "    offset = df_periodic.at[index, KEY_PERIODIC_OFFSET]\n",
    "    record = temporal_data[identity]\n",
    "    for name in PERIODIC_COLUMNS:\n",
    "        value = df_periodic.at[index, name]\n",
    "        store = record[name]\n",
    "        store['offsets'].append(offset)\n",
    "        store['values'].append(value)\n"
   ]
  },
  {
   "attachments": {},
   "cell_type": "markdown",
   "metadata": {},
   "source": [
    "## Join Temporal Data\n"
   ]
  },
  {
   "cell_type": "code",
   "execution_count": 17,
   "metadata": {},
   "outputs": [
    {
     "name": "stdout",
     "output_type": "stream",
     "text": [
      "100%\n"
     ]
    }
   ],
   "source": [
    "# construct temporal data rows\n",
    "\n",
    "raw_temporal_columns = [\n",
    "    KEY_IDENTITY,\n",
    "    KEY_OFFSET,\n",
    "    *TREATMENT_KEYWORDS,\n",
    "    *EXAM_ITEMS,\n",
    "    *LAB_VARIABLES,\n",
    "    *APERIODIC_COLUMNS,\n",
    "    *PERIODIC_COLUMNS,\n",
    "]\n",
    "\n",
    "temporal_data_rows = []\n",
    "temporal_data_iterator = SimpleProgress(temporal_data.items())\n",
    "for identity, record in temporal_data_iterator:\n",
    "\n",
    "    stores = record.values()\n",
    "    all_offsets = [store['offsets'] for store in stores]\n",
    "\n",
    "    offset_begin = max(\n",
    "        min(offsets) if len(offsets) > 0 else MIN_OFFSET\n",
    "        for offsets in all_offsets\n",
    "    )\n",
    "    offset_end = max(\n",
    "        max(offsets) if len(offsets) > 0 else MIN_OFFSET\n",
    "        for offsets in all_offsets\n",
    "    )\n",
    "    if offset_begin < MIN_OFFSET:\n",
    "        offset_begin = MIN_OFFSET\n",
    "\n",
    "    for offset in range(offset_begin, offset_end + 1):\n",
    "        row = []\n",
    "\n",
    "        for column_name in raw_temporal_columns:\n",
    "\n",
    "            if column_name == KEY_IDENTITY:\n",
    "                row.append(identity)\n",
    "                continue\n",
    "            elif column_name == KEY_OFFSET:\n",
    "                row.append(offset)\n",
    "                continue\n",
    "\n",
    "            store = record[column_name]\n",
    "            offsets = store['offsets']\n",
    "            values = store['values']\n",
    "            count = len(offsets)\n",
    "\n",
    "            indices = list(\n",
    "                filter(\n",
    "                    lambda i: offsets[i] == offset,\n",
    "                    range(count)\n",
    "                )\n",
    "            )\n",
    "            if len(indices) == 0:\n",
    "                if len(offsets) > 0 and offsets[-1] < offset:\n",
    "                    row.append(values[-1])\n",
    "                else:\n",
    "                    row.append(pd.NA)\n",
    "            else:\n",
    "                selected_values = list(values[i] for i in indices)\n",
    "                if column_name in CUMULATIVE_COLUMNS:\n",
    "                    value = np.sum(selected_values)\n",
    "                else:\n",
    "                    value = np.mean(selected_values)\n",
    "                row.append(value)\n",
    "\n",
    "        temporal_data_rows.append(row)\n"
   ]
  },
  {
   "cell_type": "code",
   "execution_count": 18,
   "metadata": {},
   "outputs": [
    {
     "name": "stdout",
     "output_type": "stream",
     "text": [
      "<class 'pandas.core.frame.DataFrame'>\n",
      "RangeIndex: 123719 entries, 0 to 123718\n",
      "Data columns (total 49 columns):\n",
      " #   Column             Non-Null Count   Dtype  \n",
      "---  ------             --------------   -----  \n",
      " 0   patientunitstayid  123719 non-null  int64  \n",
      " 1   offset             123719 non-null  int64  \n",
      " 2   vasopressor        123719 non-null  float64\n",
      " 3   heparin            123719 non-null  float64\n",
      " 4   weight             50410 non-null   object \n",
      " 5   urine              41429 non-null   object \n",
      " 6   PEEP               33017 non-null   object \n",
      " 7   creatinine         120013 non-null  object \n",
      " 8   platelet           118623 non-null  object \n",
      " 9   INR                93614 non-null   object \n",
      " 10  PT                 91403 non-null   object \n",
      " 11  PTT                74695 non-null   object \n",
      " 12  lactate            95795 non-null   object \n",
      " 13  RDW                111829 non-null  object \n",
      " 14  total bilirubin    104693 non-null  object \n",
      " 15  direct bilirubin   42185 non-null   object \n",
      " 16  bicarbonate        112595 non-null  object \n",
      " 17  CRP                10351 non-null   object \n",
      " 18  lymph              101460 non-null  object \n",
      " 19  albumin            108313 non-null  object \n",
      " 20  prealbumin         17773 non-null   object \n",
      " 21  WBC                119310 non-null  object \n",
      " 22  total protein      106900 non-null  object \n",
      " 23  anion gap          100261 non-null  object \n",
      " 24  BUN                120071 non-null  object \n",
      " 25  fibrinogen         19013 non-null   object \n",
      " 26  MCH                112464 non-null  object \n",
      " 27  MCHC               116648 non-null  object \n",
      " 28  MCV                116490 non-null  object \n",
      " 29  ALT (SGPT)         106228 non-null  object \n",
      " 30  AST (SGOT)         107303 non-null  object \n",
      " 31  RBC                118932 non-null  object \n",
      " 32  pH                 83029 non-null   object \n",
      " 33  paO2               82615 non-null   object \n",
      " 34  paCO2              81216 non-null   object \n",
      " 35  FiO2               75607 non-null   object \n",
      " 36  Total CO2          35901 non-null   object \n",
      " 37  chloride           120215 non-null  object \n",
      " 38  calcium            119404 non-null  object \n",
      " 39  potassium          120469 non-null  object \n",
      " 40  sodium             120238 non-null  object \n",
      " 41  glucose            119960 non-null  object \n",
      " 42  Base Excess        70135 non-null   object \n",
      " 43  Hct                119700 non-null  object \n",
      " 44  MAP                120096 non-null  object \n",
      " 45  heart rate         122350 non-null  object \n",
      " 46  respiration rate   112056 non-null  object \n",
      " 47  SpO2               120122 non-null  object \n",
      " 48  temperature        13069 non-null   object \n",
      "dtypes: float64(2), int64(2), object(45)\n",
      "memory usage: 46.3+ MB\n"
     ]
    }
   ],
   "source": [
    "df_temporal = pd.DataFrame(\n",
    "    temporal_data_rows,\n",
    "    columns=map(\n",
    "        map_column_name,\n",
    "        raw_temporal_columns,\n",
    "    ),\n",
    ")\n",
    "\n",
    "# fill NAs in treatment columns with zeros\n",
    "for keyword in TREATMENT_KEYWORDS:\n",
    "    column_name = map_column_name(keyword)\n",
    "    df_temporal[column_name].fillna(0, inplace=True)\n",
    "\n",
    "# fill other NAs\n",
    "df_temporal.groupby(KEY_IDENTITY, sort=False).ffill()\n",
    "df_temporal.groupby(KEY_IDENTITY, sort=False).bfill()\n",
    "\n",
    "df_temporal.info()\n"
   ]
  },
  {
   "attachments": {},
   "cell_type": "markdown",
   "metadata": {},
   "source": [
    "## Construct Output\n"
   ]
  },
  {
   "cell_type": "code",
   "execution_count": 55,
   "metadata": {},
   "outputs": [
    {
     "name": "stdout",
     "output_type": "stream",
     "text": [
      "<class 'pandas.core.frame.DataFrame'>\n",
      "Int64Index: 123719 entries, 0 to 123718\n",
      "Data columns (total 53 columns):\n",
      " #   Column             Non-Null Count   Dtype  \n",
      "---  ------             --------------   -----  \n",
      " 0   patientunitstayid  123719 non-null  int64  \n",
      " 1   gender             123719 non-null  object \n",
      " 2   age                123719 non-null  float64\n",
      " 3   ethnicity          123072 non-null  object \n",
      " 4   height             123026 non-null  float64\n",
      " 5   offset             123719 non-null  int64  \n",
      " 6   vasopressor        123719 non-null  float64\n",
      " 7   heparin            123719 non-null  float64\n",
      " 8   weight             50410 non-null   object \n",
      " 9   urine              41429 non-null   object \n",
      " 10  PEEP               33017 non-null   object \n",
      " 11  creatinine         120013 non-null  object \n",
      " 12  platelet           118623 non-null  object \n",
      " 13  INR                93614 non-null   object \n",
      " 14  PT                 91403 non-null   object \n",
      " 15  PTT                74695 non-null   object \n",
      " 16  lactate            95795 non-null   object \n",
      " 17  RDW                111829 non-null  object \n",
      " 18  total bilirubin    104693 non-null  object \n",
      " 19  direct bilirubin   42185 non-null   object \n",
      " 20  bicarbonate        112595 non-null  object \n",
      " 21  CRP                10351 non-null   object \n",
      " 22  lymph              101460 non-null  object \n",
      " 23  albumin            108313 non-null  object \n",
      " 24  prealbumin         17773 non-null   object \n",
      " 25  WBC                119310 non-null  object \n",
      " 26  total protein      106900 non-null  object \n",
      " 27  anion gap          100261 non-null  object \n",
      " 28  BUN                120071 non-null  object \n",
      " 29  fibrinogen         19013 non-null   object \n",
      " 30  MCH                112464 non-null  object \n",
      " 31  MCHC               116648 non-null  object \n",
      " 32  MCV                116490 non-null  object \n",
      " 33  ALT (SGPT)         106228 non-null  object \n",
      " 34  AST (SGOT)         107303 non-null  object \n",
      " 35  RBC                118932 non-null  object \n",
      " 36  pH                 83029 non-null   object \n",
      " 37  paO2               82615 non-null   object \n",
      " 38  paCO2              81216 non-null   object \n",
      " 39  FiO2               75607 non-null   object \n",
      " 40  Total CO2          35901 non-null   object \n",
      " 41  chloride           120215 non-null  object \n",
      " 42  calcium            119404 non-null  object \n",
      " 43  potassium          120469 non-null  object \n",
      " 44  sodium             120238 non-null  object \n",
      " 45  glucose            119960 non-null  object \n",
      " 46  Base Excess        70135 non-null   object \n",
      " 47  Hct                119700 non-null  object \n",
      " 48  MAP                120096 non-null  object \n",
      " 49  heart rate         122350 non-null  object \n",
      " 50  respiration rate   112056 non-null  object \n",
      " 51  SpO2               120122 non-null  object \n",
      " 52  temperature        13069 non-null   object \n",
      "dtypes: float64(4), int64(2), object(47)\n",
      "memory usage: 51.0+ MB\n"
     ]
    }
   ],
   "source": [
    "df_output = pd.merge(\n",
    "    df_non_temporal,\n",
    "    df_temporal,\n",
    "    on=KEY_IDENTITY,\n",
    ")\n",
    "df_output.info()\n"
   ]
  },
  {
   "cell_type": "code",
   "execution_count": 56,
   "metadata": {},
   "outputs": [
    {
     "name": "stdout",
     "output_type": "stream",
     "text": [
      "<class 'pandas.core.frame.DataFrame'>\n",
      "Int64Index: 123719 entries, 0 to 123718\n",
      "Data columns (total 53 columns):\n",
      " #   Column             Non-Null Count   Dtype  \n",
      "---  ------             --------------   -----  \n",
      " 0   patientunitstayid  123719 non-null  int64  \n",
      " 1   gender             123719 non-null  object \n",
      " 2   age                123719 non-null  float64\n",
      " 3   ethnicity          123719 non-null  object \n",
      " 4   height             123719 non-null  float64\n",
      " 5   offset             123719 non-null  int64  \n",
      " 6   vasopressor        123719 non-null  int32  \n",
      " 7   heparin            123719 non-null  int32  \n",
      " 8   weight             123719 non-null  float64\n",
      " 9   urine              123719 non-null  float64\n",
      " 10  PEEP               123719 non-null  float64\n",
      " 11  creatinine         123719 non-null  float64\n",
      " 12  platelet           123719 non-null  float64\n",
      " 13  INR                123719 non-null  float64\n",
      " 14  PT                 123719 non-null  float64\n",
      " 15  PTT                123719 non-null  float64\n",
      " 16  lactate            123719 non-null  float64\n",
      " 17  RDW                123719 non-null  float64\n",
      " 18  total bilirubin    123719 non-null  float64\n",
      " 19  direct bilirubin   123719 non-null  float64\n",
      " 20  bicarbonate        123719 non-null  float64\n",
      " 21  CRP                123719 non-null  float64\n",
      " 22  lymph              123719 non-null  float64\n",
      " 23  albumin            123719 non-null  float64\n",
      " 24  prealbumin         123719 non-null  float64\n",
      " 25  WBC                123719 non-null  float64\n",
      " 26  total protein      123719 non-null  float64\n",
      " 27  anion gap          123719 non-null  float64\n",
      " 28  BUN                123719 non-null  float64\n",
      " 29  fibrinogen         123719 non-null  float64\n",
      " 30  MCH                123719 non-null  float64\n",
      " 31  MCHC               123719 non-null  float64\n",
      " 32  MCV                123719 non-null  float64\n",
      " 33  ALT (SGPT)         123719 non-null  float64\n",
      " 34  AST (SGOT)         123719 non-null  float64\n",
      " 35  RBC                123719 non-null  float64\n",
      " 36  pH                 123719 non-null  float64\n",
      " 37  paO2               123719 non-null  float64\n",
      " 38  paCO2              123719 non-null  float64\n",
      " 39  FiO2               123719 non-null  float64\n",
      " 40  Total CO2          123719 non-null  float64\n",
      " 41  chloride           123719 non-null  float64\n",
      " 42  calcium            123719 non-null  float64\n",
      " 43  potassium          123719 non-null  float64\n",
      " 44  sodium             123719 non-null  float64\n",
      " 45  glucose            123719 non-null  float64\n",
      " 46  Base Excess        123719 non-null  float64\n",
      " 47  Hct                123719 non-null  float64\n",
      " 48  MAP                123719 non-null  float64\n",
      " 49  heart rate         123719 non-null  float64\n",
      " 50  respiration rate   123719 non-null  float64\n",
      " 51  SpO2               123719 non-null  float64\n",
      " 52  temperature        123719 non-null  float64\n",
      "dtypes: float64(47), int32(2), int64(2), object(2)\n",
      "memory usage: 50.0+ MB\n"
     ]
    }
   ],
   "source": [
    "# fix types\n",
    "df_output['vasopressor'] = df_output['vasopressor'].astype('int')\n",
    "df_output['heparin'] = df_output['heparin'].astype('int')\n",
    "\n",
    "# fill NAs in non-categorical columns with means\n",
    "df_output.fillna(\n",
    "    df_output.drop(columns=CATEGORICAL_COLUMNS).mean(),\n",
    "    inplace=True,\n",
    ")\n",
    "\n",
    "# and those in categorical columns with mode values\n",
    "df_output.fillna(\n",
    "    df_output[CATEGORICAL_COLUMNS].mode().iloc[0, :],\n",
    "    inplace=True,\n",
    ")\n",
    "\n",
    "df_output.info()\n"
   ]
  },
  {
   "attachments": {},
   "cell_type": "markdown",
   "metadata": {},
   "source": [
    "## Post Processing\n"
   ]
  },
  {
   "cell_type": "code",
   "execution_count": 57,
   "metadata": {},
   "outputs": [],
   "source": [
    "def post_process_compact(df):\n",
    "    pass\n"
   ]
  },
  {
   "cell_type": "code",
   "execution_count": 58,
   "metadata": {},
   "outputs": [],
   "source": [
    "def post_process_full(df):\n",
    "\n",
    "    post_process_compact(df)\n",
    "\n",
    "    df['BMI'] = df['weight'] / (df['height'] / 100) ** 2\n",
    "    df.drop(columns=['weight', 'height'], inplace=True)\n",
    "\n",
    "    # TODO: is this the right formula?\n",
    "    df['indirect bilirubin'] = df['total bilirubin'] - df['direct bilirubin']\n",
    "\n",
    "    df['PaO2/FiO2'] = df['paO2'] / df['FiO2']\n",
    "\n",
    "    df['SpO2/FiO2'] = df['SpO2'] / df['FiO2']\n",
    "\n",
    "    df['ROX index'] = df['SpO2/FiO2'] / df['respiration rate']\n"
   ]
  },
  {
   "cell_type": "code",
   "execution_count": 59,
   "metadata": {},
   "outputs": [],
   "source": [
    "if COMPACT_MODE:\n",
    "    post_process_compact(df_output)\n",
    "else:\n",
    "    post_process_full(df_output)\n"
   ]
  },
  {
   "cell_type": "code",
   "execution_count": 60,
   "metadata": {},
   "outputs": [
    {
     "name": "stdout",
     "output_type": "stream",
     "text": [
      "<class 'pandas.core.frame.DataFrame'>\n",
      "Int64Index: 123719 entries, 0 to 123718\n",
      "Data columns (total 56 columns):\n",
      " #   Column              Non-Null Count   Dtype  \n",
      "---  ------              --------------   -----  \n",
      " 0   patientunitstayid   123719 non-null  int64  \n",
      " 1   gender              123719 non-null  object \n",
      " 2   age                 123719 non-null  float64\n",
      " 3   ethnicity           123719 non-null  object \n",
      " 4   offset              123719 non-null  int64  \n",
      " 5   vasopressor         123719 non-null  int32  \n",
      " 6   heparin             123719 non-null  int32  \n",
      " 7   urine               123719 non-null  float64\n",
      " 8   PEEP                123719 non-null  float64\n",
      " 9   creatinine          123719 non-null  float64\n",
      " 10  platelet            123719 non-null  float64\n",
      " 11  INR                 123719 non-null  float64\n",
      " 12  PT                  123719 non-null  float64\n",
      " 13  PTT                 123719 non-null  float64\n",
      " 14  lactate             123719 non-null  float64\n",
      " 15  RDW                 123719 non-null  float64\n",
      " 16  total bilirubin     123719 non-null  float64\n",
      " 17  direct bilirubin    123719 non-null  float64\n",
      " 18  bicarbonate         123719 non-null  float64\n",
      " 19  CRP                 123719 non-null  float64\n",
      " 20  lymph               123719 non-null  float64\n",
      " 21  albumin             123719 non-null  float64\n",
      " 22  prealbumin          123719 non-null  float64\n",
      " 23  WBC                 123719 non-null  float64\n",
      " 24  total protein       123719 non-null  float64\n",
      " 25  anion gap           123719 non-null  float64\n",
      " 26  BUN                 123719 non-null  float64\n",
      " 27  fibrinogen          123719 non-null  float64\n",
      " 28  MCH                 123719 non-null  float64\n",
      " 29  MCHC                123719 non-null  float64\n",
      " 30  MCV                 123719 non-null  float64\n",
      " 31  ALT (SGPT)          123719 non-null  float64\n",
      " 32  AST (SGOT)          123719 non-null  float64\n",
      " 33  RBC                 123719 non-null  float64\n",
      " 34  pH                  123719 non-null  float64\n",
      " 35  paO2                123719 non-null  float64\n",
      " 36  paCO2               123719 non-null  float64\n",
      " 37  FiO2                123719 non-null  float64\n",
      " 38  Total CO2           123719 non-null  float64\n",
      " 39  chloride            123719 non-null  float64\n",
      " 40  calcium             123719 non-null  float64\n",
      " 41  potassium           123719 non-null  float64\n",
      " 42  sodium              123719 non-null  float64\n",
      " 43  glucose             123719 non-null  float64\n",
      " 44  Base Excess         123719 non-null  float64\n",
      " 45  Hct                 123719 non-null  float64\n",
      " 46  MAP                 123719 non-null  float64\n",
      " 47  heart rate          123719 non-null  float64\n",
      " 48  respiration rate    123719 non-null  float64\n",
      " 49  SpO2                123719 non-null  float64\n",
      " 50  temperature         123719 non-null  float64\n",
      " 51  BMI                 123719 non-null  float64\n",
      " 52  indirect bilirubin  123719 non-null  float64\n",
      " 53  PaO2/FiO2           123718 non-null  float64\n",
      " 54  SpO2/FiO2           123719 non-null  float64\n",
      " 55  ROX index           123719 non-null  float64\n",
      "dtypes: float64(50), int32(2), int64(2), object(2)\n",
      "memory usage: 52.9+ MB\n"
     ]
    }
   ],
   "source": [
    "df_output.info()\n"
   ]
  },
  {
   "attachments": {},
   "cell_type": "markdown",
   "metadata": {},
   "source": [
    "## Check PICS\n"
   ]
  },
  {
   "cell_type": "code",
   "execution_count": 61,
   "metadata": {},
   "outputs": [],
   "source": [
    "def check_pics(index):\n",
    "    return all(\n",
    "        indicator(df_output.at[index, col])\n",
    "        for col, indicator in PICS_CONDITIONS.items()\n",
    "    )\n"
   ]
  },
  {
   "cell_type": "code",
   "execution_count": 62,
   "metadata": {},
   "outputs": [
    {
     "name": "stdout",
     "output_type": "stream",
     "text": [
      "100%\n"
     ]
    }
   ],
   "source": [
    "# Compute PICS flags:\n",
    "# `FLAG_POSITIVE` if all PICS conditions\n",
    "# are fulfilled today or yesterday;\n",
    "# `FLAG_NEGATIVE` otherwise.\n",
    "\n",
    "df_output[KEY_FLAG] = FLAG_NEGATIVE  # init\n",
    "\n",
    "last_identity = None\n",
    "last_index = None\n",
    "output_iterator = SimpleProgress(df_output.index)\n",
    "for current_index in output_iterator:\n",
    "\n",
    "    current_identity = df_output.at[current_index, KEY_IDENTITY]\n",
    "\n",
    "    if check_pics(current_index):\n",
    "        df_output.at[current_index, KEY_FLAG] = FLAG_POSITIVE\n",
    "        if last_identity == current_identity:\n",
    "            df_output.at[last_index, KEY_FLAG] = FLAG_POSITIVE\n",
    "\n",
    "    if (\n",
    "        last_identity != current_identity\n",
    "        and last_index != None\n",
    "        and df_output.at[last_index, KEY_FLAG] != FLAG_POSITIVE\n",
    "    ):\n",
    "        df_output.at[last_index, KEY_FLAG] = pd.NA\n",
    "\n",
    "    last_identity = current_identity\n",
    "    last_index = current_index\n"
   ]
  },
  {
   "cell_type": "code",
   "execution_count": 63,
   "metadata": {},
   "outputs": [
    {
     "name": "stdout",
     "output_type": "stream",
     "text": [
      "<class 'pandas.core.frame.DataFrame'>\n",
      "Int64Index: 100649 entries, 1 to 123718\n",
      "Data columns (total 57 columns):\n",
      " #   Column              Non-Null Count   Dtype  \n",
      "---  ------              --------------   -----  \n",
      " 0   patientunitstayid   100649 non-null  int64  \n",
      " 1   gender              100649 non-null  object \n",
      " 2   age                 100649 non-null  float64\n",
      " 3   ethnicity           100649 non-null  object \n",
      " 4   offset              100649 non-null  int64  \n",
      " 5   vasopressor         100649 non-null  int32  \n",
      " 6   heparin             100649 non-null  int32  \n",
      " 7   urine               100649 non-null  float64\n",
      " 8   PEEP                100649 non-null  float64\n",
      " 9   creatinine          100649 non-null  float64\n",
      " 10  platelet            100649 non-null  float64\n",
      " 11  INR                 100649 non-null  float64\n",
      " 12  PT                  100649 non-null  float64\n",
      " 13  PTT                 100649 non-null  float64\n",
      " 14  lactate             100649 non-null  float64\n",
      " 15  RDW                 100649 non-null  float64\n",
      " 16  total bilirubin     100649 non-null  float64\n",
      " 17  direct bilirubin    100649 non-null  float64\n",
      " 18  bicarbonate         100649 non-null  float64\n",
      " 19  CRP                 100649 non-null  float64\n",
      " 20  lymph               100649 non-null  float64\n",
      " 21  albumin             100649 non-null  float64\n",
      " 22  prealbumin          100649 non-null  float64\n",
      " 23  WBC                 100649 non-null  float64\n",
      " 24  total protein       100649 non-null  float64\n",
      " 25  anion gap           100649 non-null  float64\n",
      " 26  BUN                 100649 non-null  float64\n",
      " 27  fibrinogen          100649 non-null  float64\n",
      " 28  MCH                 100649 non-null  float64\n",
      " 29  MCHC                100649 non-null  float64\n",
      " 30  MCV                 100649 non-null  float64\n",
      " 31  ALT (SGPT)          100649 non-null  float64\n",
      " 32  AST (SGOT)          100649 non-null  float64\n",
      " 33  RBC                 100649 non-null  float64\n",
      " 34  pH                  100649 non-null  float64\n",
      " 35  paO2                100649 non-null  float64\n",
      " 36  paCO2               100649 non-null  float64\n",
      " 37  FiO2                100649 non-null  float64\n",
      " 38  Total CO2           100649 non-null  float64\n",
      " 39  chloride            100649 non-null  float64\n",
      " 40  calcium             100649 non-null  float64\n",
      " 41  potassium           100649 non-null  float64\n",
      " 42  sodium              100649 non-null  float64\n",
      " 43  glucose             100649 non-null  float64\n",
      " 44  Base Excess         100649 non-null  float64\n",
      " 45  Hct                 100649 non-null  float64\n",
      " 46  MAP                 100649 non-null  float64\n",
      " 47  heart rate          100649 non-null  float64\n",
      " 48  respiration rate    100649 non-null  float64\n",
      " 49  SpO2                100649 non-null  float64\n",
      " 50  temperature         100649 non-null  float64\n",
      " 51  BMI                 100649 non-null  float64\n",
      " 52  indirect bilirubin  100649 non-null  float64\n",
      " 53  PaO2/FiO2           100649 non-null  float64\n",
      " 54  SpO2/FiO2           100649 non-null  float64\n",
      " 55  ROX index           100649 non-null  float64\n",
      " 56  flag                100649 non-null  object \n",
      "dtypes: float64(50), int32(2), int64(2), object(3)\n",
      "memory usage: 43.8+ MB\n"
     ]
    }
   ],
   "source": [
    "# remove extra columns\n",
    "df_output.drop(\n",
    "    columns=CONDITION_ONLY_COLUMNS,\n",
    "    inplace=True,\n",
    ")\n",
    "\n",
    "# remove NA flags\n",
    "df_output.dropna(inplace=True)\n",
    "\n",
    "df_output.info()\n"
   ]
  },
  {
   "attachments": {},
   "cell_type": "markdown",
   "metadata": {},
   "source": [
    "## Output\n"
   ]
  },
  {
   "cell_type": "code",
   "execution_count": 64,
   "metadata": {},
   "outputs": [],
   "source": [
    "OUTPUT_PATH = relative_path(\n",
    "    './data/data_eicu_'\n",
    "    + ('compact' if COMPACT_MODE else 'full')\n",
    "    + ('_test' if TEST_MODE else '')\n",
    "    + '.csv'\n",
    "    + ('.gz' if COMPRESS_OUTPUT else '')\n",
    ")\n",
    "\n",
    "df_output.to_csv(\n",
    "    OUTPUT_PATH,\n",
    "    index=False,\n",
    "    compression=('gzip' if COMPRESS_OUTPUT else None),\n",
    ")\n"
   ]
  }
 ],
 "metadata": {
  "kernelspec": {
   "display_name": "Python 3",
   "language": "python",
   "name": "python3"
  },
  "language_info": {
   "codemirror_mode": {
    "name": "ipython",
    "version": 3
   },
   "file_extension": ".py",
   "mimetype": "text/x-python",
   "name": "python",
   "nbconvert_exporter": "python",
   "pygments_lexer": "ipython3",
   "version": "3.9.2"
  },
  "orig_nbformat": 4,
  "vscode": {
   "interpreter": {
    "hash": "f7976576504ac6c456dadd405d7477574ca2a64265ee4724cfbc25daae5f6d94"
   }
  }
 },
 "nbformat": 4,
 "nbformat_minor": 2
}
