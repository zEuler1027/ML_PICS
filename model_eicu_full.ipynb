{
    "cells": [
        {
            "attachments": {},
            "cell_type": "markdown",
            "metadata": {},
            "source": [
                "# Models (sepsis-pics)\n"
            ]
        },
        {
            "attachments": {},
            "cell_type": "markdown",
            "metadata": {},
            "source": [
                "## Common\n"
            ]
        },
        {
            "cell_type": "code",
            "execution_count": 41,
            "metadata": {},
            "outputs": [],
            "source": [
                "import numpy as np\n",
                "import pandas as pd\n",
                "import matplotlib.pyplot as plt\n",
                "from sklearn.model_selection import cross_validate\n",
                "from sklearn.pipeline import make_pipeline\n",
                "from sklearn.preprocessing import StandardScaler, MinMaxScaler, OrdinalEncoder\n",
                "from common_eicu import KEY_IDENTITY, KEY_FLAG, CATEGORICAL_COLUMNS\n",
                "from common_model import SEED, SCORING, cv\n"
            ]
        },
        {
            "cell_type": "code",
            "execution_count": 50,
            "metadata": {},
            "outputs": [
                {
                    "name": "stdout",
                    "output_type": "stream",
                    "text": [
                        "Index         Accuracy Mean  Accuracy Std  AUC Mean   AUC Std\n",
                        "CatBoost           0.995700      0.000700  0.995700  0.002100\n",
                        "LightGB            0.995264      0.001002  0.996036  0.001771\n",
                        "XGBoost            0.995069      0.000750  0.995147  0.001838\n",
                        "HistGB             0.994180      0.001242  0.995606  0.002084\n",
                        "AdaBoost           0.992804      0.002055  0.994584  0.002278\n",
                        "DecisionTree       0.990253      0.001654  0.948244  0.007490\n",
                        "MLP                0.982250      0.003155  0.974170  0.007848\n",
                        "SVM                0.972904      0.004621  0.955998  0.005210\n",
                        "Logistic           0.965833      0.006287  0.954735  0.005334\n",
                        "ExtraTrees         0.961367      0.006078  0.977292  0.004562\n",
                        "NaiveBayes         0.961367      0.006078  0.690024  0.064777\n",
                        "Ridge              0.961338      0.006027  0.952407  0.008768\n",
                        "LDA                0.960990      0.007581  0.952406  0.008767\n",
                        "KNN                0.950666      0.006280  0.539846  0.017137\n"
                    ]
                }
            ],
            "source": [
                "MODEL_RESULT_PATH = './data/model_result.csv'\n",
                "\n",
                "# index: 'Accuracy Mean', 'Accuracy Std', 'AUC Mean', 'AUC Std'\n",
                "df_result = pd.read_csv(\n",
                "    MODEL_RESULT_PATH,\n",
                "    index_col='Index',\n",
                ")\n",
                "print(\n",
                "    df_result.T.sort_values(\n",
                "        by=['Accuracy Mean', 'AUC Mean'],\n",
                "        ascending=False,\n",
                "    )\n",
                ")\n",
                "\n",
                "def update_result(name, *, accuracy_mean, accuracy_std, auc_mean, auc_std):\n",
                "    df_result[name] = [accuracy_mean, accuracy_std, auc_mean, auc_std]\n"
            ]
        },
        {
            "cell_type": "code",
            "execution_count": 43,
            "metadata": {},
            "outputs": [],
            "source": [
                "def plot_roc_file(title, input_path, auc_mean, auc_std):\n",
                "\n",
                "    df_roc = pd.read_csv(input_path, sep='\\t')\n",
                "    fig = plt.figure(figsize=(7, 6))\n",
                "    ax = fig.add_subplot()\n",
                "\n",
                "    ax.set_title(title)\n",
                "    ax.set_xlabel('False Positive Rate')\n",
                "    ax.set_ylabel('True Positive Rate')\n",
                "\n",
                "    t = [0, 1]\n",
                "    ax.plot(t, t, '--', c='lightgray', label='chance level (AUC = 0.5)')\n",
                "\n",
                "    x = df_roc['FPR']\n",
                "    y = df_roc['TPR']\n",
                "    label = fr'ROC (AUC = {auc_mean:.2f} $\\pm$ {auc_std:.2f})'\n",
                "    ax.plot(x, y, 'b-', label=label)\n",
                "\n",
                "    ax.legend(loc='lower right')\n"
            ]
        },
        {
            "cell_type": "code",
            "execution_count": 44,
            "metadata": {},
            "outputs": [],
            "source": [
                "def test_sklearn(name, model, *, encode=False, n_jobs=None):\n",
                "    '''\n",
                "    Test the given model using sklearn's\n",
                "    cross validation, print the result\n",
                "    and pass it to `update_result`.\n",
                "\n",
                "    Parameters\n",
                "    ----------\n",
                "    name : str\n",
                "        Model name.\n",
                "    model : scikit-learn compact model\n",
                "        The model to test.\n",
                "    encode : False, 'ordinal' or 'dummy', default=False\n",
                "        Category encoding option.\n",
                "        False - No encoding.\n",
                "        'ordinal' - Use ordinal encoder.\n",
                "        'dummy' - Use dummy encoder.\n",
                "    n_jobs : int or None, default=None\n",
                "        Number of jobs to run in parallel.\n",
                "    '''\n",
                "\n",
                "    if encode == 'dummy':\n",
                "        X = X_dummy\n",
                "    elif encode == 'ordinal':\n",
                "        X = X_ordinal\n",
                "    else:\n",
                "        X = X_raw\n",
                "\n",
                "    scores = cross_validate(\n",
                "        model,\n",
                "        X,\n",
                "        y,\n",
                "        cv=cv,\n",
                "        scoring=SCORING,\n",
                "        groups=groups,\n",
                "        n_jobs=n_jobs,\n",
                "    )\n",
                "\n",
                "    scores_accuracy = scores['test_accuracy']\n",
                "    accuracy_mean = scores_accuracy.mean()\n",
                "    accuracy_std = scores_accuracy.std()\n",
                "    scores_auc = scores['test_roc_auc']\n",
                "    auc_mean = scores_auc.mean()\n",
                "    auc_std = scores_auc.std()\n",
                "    update_result(\n",
                "        name,\n",
                "        accuracy_mean=accuracy_mean,\n",
                "        accuracy_std=accuracy_std,\n",
                "        auc_mean=auc_mean,\n",
                "        auc_std=auc_std,\n",
                "    )\n",
                "\n",
                "    print(f'>>> CV Result ({name})')\n",
                "    print(f'accuracy_mean: {accuracy_mean:.4f}')\n",
                "    print(f'accuracy_std:  {accuracy_std:.4f}')\n",
                "    print(f'auc_mean:      {auc_mean:.4f}')\n",
                "    print(f'auc_std:       {auc_std:.4f}')\n"
            ]
        },
        {
            "cell_type": "markdown",
            "metadata": {},
            "source": [
                "## Prepare Data\n"
            ]
        },
        {
            "cell_type": "code",
            "execution_count": 5,
            "metadata": {},
            "outputs": [],
            "source": [
                "df_data = pd.read_csv('./data/data_eicu_full.csv.gz')\n",
                "\n",
                "# clamp infinite values\n",
                "df_data.replace(np.inf, 9999, inplace=True)\n",
                "\n",
                "# set categorical columns\n",
                "for column_name in CATEGORICAL_COLUMNS:\n",
                "    df_data[column_name] = df_data[column_name].astype('category')\n"
            ]
        },
        {
            "cell_type": "code",
            "execution_count": 6,
            "metadata": {},
            "outputs": [
                {
                    "name": "stdout",
                    "output_type": "stream",
                    "text": [
                        "<class 'pandas.core.frame.DataFrame'>\n",
                        "RangeIndex: 100133 entries, 0 to 100132\n",
                        "Data columns (total 60 columns):\n",
                        " #   Column              Non-Null Count   Dtype   \n",
                        "---  ------              --------------   -----   \n",
                        " 0   gender              100133 non-null  category\n",
                        " 1   age                 100133 non-null  float64 \n",
                        " 2   ethnicity           100133 non-null  category\n",
                        " 3   Apache-IV           100133 non-null  float64 \n",
                        " 4   offset              100133 non-null  int64   \n",
                        " 5   vasopressor         100133 non-null  category\n",
                        " 6   heparin             100133 non-null  category\n",
                        " 7   urine               100133 non-null  float64 \n",
                        " 8   PEEP                100133 non-null  float64 \n",
                        " 9   creatinine          100133 non-null  float64 \n",
                        " 10  platelet            100133 non-null  float64 \n",
                        " 11  INR                 100133 non-null  float64 \n",
                        " 12  PT                  100133 non-null  float64 \n",
                        " 13  PTT                 100133 non-null  float64 \n",
                        " 14  lactate             100133 non-null  float64 \n",
                        " 15  RDW                 100133 non-null  float64 \n",
                        " 16  total bilirubin     100133 non-null  float64 \n",
                        " 17  direct bilirubin    100133 non-null  float64 \n",
                        " 18  bicarbonate         100133 non-null  float64 \n",
                        " 19  CRP                 100133 non-null  float64 \n",
                        " 20  lymph               100133 non-null  float64 \n",
                        " 21  albumin             100133 non-null  float64 \n",
                        " 22  prealbumin          100133 non-null  float64 \n",
                        " 23  WBC                 100133 non-null  float64 \n",
                        " 24  total protein       100133 non-null  float64 \n",
                        " 25  anion gap           100133 non-null  float64 \n",
                        " 26  BUN                 100133 non-null  float64 \n",
                        " 27  fibrinogen          100133 non-null  float64 \n",
                        " 28  MCH                 100133 non-null  float64 \n",
                        " 29  MCHC                100133 non-null  float64 \n",
                        " 30  MCV                 100133 non-null  float64 \n",
                        " 31  ALT                 100133 non-null  float64 \n",
                        " 32  AST                 100133 non-null  float64 \n",
                        " 33  RBC                 100133 non-null  float64 \n",
                        " 34  pH                  100133 non-null  float64 \n",
                        " 35  paO2                100133 non-null  float64 \n",
                        " 36  paCO2               100133 non-null  float64 \n",
                        " 37  FiO2                100133 non-null  float64 \n",
                        " 38  Total CO2           100133 non-null  float64 \n",
                        " 39  chloride            100133 non-null  float64 \n",
                        " 40  calcium             100133 non-null  float64 \n",
                        " 41  potassium           100133 non-null  float64 \n",
                        " 42  sodium              100133 non-null  float64 \n",
                        " 43  glucose             100133 non-null  float64 \n",
                        " 44  Base Excess         100133 non-null  float64 \n",
                        " 45  Hct                 100133 non-null  float64 \n",
                        " 46  Methemoglobin       100133 non-null  float64 \n",
                        " 47  MAP                 100133 non-null  float64 \n",
                        " 48  heart rate          100133 non-null  float64 \n",
                        " 49  respiration rate    100133 non-null  float64 \n",
                        " 50  SpO2                100133 non-null  float64 \n",
                        " 51  temperature         100133 non-null  float64 \n",
                        " 52  RBC transfusion     100133 non-null  float64 \n",
                        " 53  FFP transfusion     100133 non-null  float64 \n",
                        " 54  PLT transfusion     100133 non-null  float64 \n",
                        " 55  BMI                 100133 non-null  float64 \n",
                        " 56  indirect bilirubin  100133 non-null  float64 \n",
                        " 57  PaO2/FiO2           100133 non-null  float64 \n",
                        " 58  SpO2/FiO2           100133 non-null  float64 \n",
                        " 59  ROX index           100133 non-null  float64 \n",
                        "dtypes: category(4), float64(55), int64(1)\n",
                        "memory usage: 43.2 MB\n"
                    ]
                }
            ],
            "source": [
                "X_raw = df_data.drop(columns=[KEY_IDENTITY, KEY_FLAG])\n",
                "X_raw.info()\n"
            ]
        },
        {
            "cell_type": "code",
            "execution_count": 20,
            "metadata": {},
            "outputs": [
                {
                    "name": "stdout",
                    "output_type": "stream",
                    "text": [
                        "<class 'pandas.core.frame.DataFrame'>\n",
                        "RangeIndex: 100133 entries, 0 to 100132\n",
                        "Data columns (total 60 columns):\n",
                        " #   Column              Non-Null Count   Dtype  \n",
                        "---  ------              --------------   -----  \n",
                        " 0   gender              100133 non-null  uint8  \n",
                        " 1   age                 100133 non-null  float64\n",
                        " 2   ethnicity           100133 non-null  uint8  \n",
                        " 3   Apache-IV           100133 non-null  float64\n",
                        " 4   offset              100133 non-null  int64  \n",
                        " 5   vasopressor         100133 non-null  uint8  \n",
                        " 6   heparin             100133 non-null  uint8  \n",
                        " 7   urine               100133 non-null  float64\n",
                        " 8   PEEP                100133 non-null  float64\n",
                        " 9   creatinine          100133 non-null  float64\n",
                        " 10  platelet            100133 non-null  float64\n",
                        " 11  INR                 100133 non-null  float64\n",
                        " 12  PT                  100133 non-null  float64\n",
                        " 13  PTT                 100133 non-null  float64\n",
                        " 14  lactate             100133 non-null  float64\n",
                        " 15  RDW                 100133 non-null  float64\n",
                        " 16  total bilirubin     100133 non-null  float64\n",
                        " 17  direct bilirubin    100133 non-null  float64\n",
                        " 18  bicarbonate         100133 non-null  float64\n",
                        " 19  CRP                 100133 non-null  float64\n",
                        " 20  lymph               100133 non-null  float64\n",
                        " 21  albumin             100133 non-null  float64\n",
                        " 22  prealbumin          100133 non-null  float64\n",
                        " 23  WBC                 100133 non-null  float64\n",
                        " 24  total protein       100133 non-null  float64\n",
                        " 25  anion gap           100133 non-null  float64\n",
                        " 26  BUN                 100133 non-null  float64\n",
                        " 27  fibrinogen          100133 non-null  float64\n",
                        " 28  MCH                 100133 non-null  float64\n",
                        " 29  MCHC                100133 non-null  float64\n",
                        " 30  MCV                 100133 non-null  float64\n",
                        " 31  ALT                 100133 non-null  float64\n",
                        " 32  AST                 100133 non-null  float64\n",
                        " 33  RBC                 100133 non-null  float64\n",
                        " 34  pH                  100133 non-null  float64\n",
                        " 35  paO2                100133 non-null  float64\n",
                        " 36  paCO2               100133 non-null  float64\n",
                        " 37  FiO2                100133 non-null  float64\n",
                        " 38  Total CO2           100133 non-null  float64\n",
                        " 39  chloride            100133 non-null  float64\n",
                        " 40  calcium             100133 non-null  float64\n",
                        " 41  potassium           100133 non-null  float64\n",
                        " 42  sodium              100133 non-null  float64\n",
                        " 43  glucose             100133 non-null  float64\n",
                        " 44  Base Excess         100133 non-null  float64\n",
                        " 45  Hct                 100133 non-null  float64\n",
                        " 46  Methemoglobin       100133 non-null  float64\n",
                        " 47  MAP                 100133 non-null  float64\n",
                        " 48  heart rate          100133 non-null  float64\n",
                        " 49  respiration rate    100133 non-null  float64\n",
                        " 50  SpO2                100133 non-null  float64\n",
                        " 51  temperature         100133 non-null  float64\n",
                        " 52  RBC transfusion     100133 non-null  float64\n",
                        " 53  FFP transfusion     100133 non-null  float64\n",
                        " 54  PLT transfusion     100133 non-null  float64\n",
                        " 55  BMI                 100133 non-null  float64\n",
                        " 56  indirect bilirubin  100133 non-null  float64\n",
                        " 57  PaO2/FiO2           100133 non-null  float64\n",
                        " 58  SpO2/FiO2           100133 non-null  float64\n",
                        " 59  ROX index           100133 non-null  float64\n",
                        "dtypes: float64(55), int64(1), uint8(4)\n",
                        "memory usage: 43.2 MB\n"
                    ]
                }
            ],
            "source": [
                "ordinal_encoder = OrdinalEncoder(\n",
                "    dtype=np.uint8,\n",
                ")\n",
                "X_ordinal = X_raw.copy()\n",
                "X_ordinal[CATEGORICAL_COLUMNS] = \\\n",
                "    ordinal_encoder.fit_transform(X_ordinal[CATEGORICAL_COLUMNS])\n",
                "X_ordinal.info()\n"
            ]
        },
        {
            "cell_type": "code",
            "execution_count": 7,
            "metadata": {},
            "outputs": [
                {
                    "name": "stdout",
                    "output_type": "stream",
                    "text": [
                        "<class 'pandas.core.frame.DataFrame'>\n",
                        "RangeIndex: 100133 entries, 0 to 100132\n",
                        "Data columns (total 69 columns):\n",
                        " #   Column                      Non-Null Count   Dtype  \n",
                        "---  ------                      --------------   -----  \n",
                        " 0   age                         100133 non-null  float64\n",
                        " 1   Apache-IV                   100133 non-null  float64\n",
                        " 2   offset                      100133 non-null  int64  \n",
                        " 3   urine                       100133 non-null  float64\n",
                        " 4   PEEP                        100133 non-null  float64\n",
                        " 5   creatinine                  100133 non-null  float64\n",
                        " 6   platelet                    100133 non-null  float64\n",
                        " 7   INR                         100133 non-null  float64\n",
                        " 8   PT                          100133 non-null  float64\n",
                        " 9   PTT                         100133 non-null  float64\n",
                        " 10  lactate                     100133 non-null  float64\n",
                        " 11  RDW                         100133 non-null  float64\n",
                        " 12  total bilirubin             100133 non-null  float64\n",
                        " 13  direct bilirubin            100133 non-null  float64\n",
                        " 14  bicarbonate                 100133 non-null  float64\n",
                        " 15  CRP                         100133 non-null  float64\n",
                        " 16  lymph                       100133 non-null  float64\n",
                        " 17  albumin                     100133 non-null  float64\n",
                        " 18  prealbumin                  100133 non-null  float64\n",
                        " 19  WBC                         100133 non-null  float64\n",
                        " 20  total protein               100133 non-null  float64\n",
                        " 21  anion gap                   100133 non-null  float64\n",
                        " 22  BUN                         100133 non-null  float64\n",
                        " 23  fibrinogen                  100133 non-null  float64\n",
                        " 24  MCH                         100133 non-null  float64\n",
                        " 25  MCHC                        100133 non-null  float64\n",
                        " 26  MCV                         100133 non-null  float64\n",
                        " 27  ALT                         100133 non-null  float64\n",
                        " 28  AST                         100133 non-null  float64\n",
                        " 29  RBC                         100133 non-null  float64\n",
                        " 30  pH                          100133 non-null  float64\n",
                        " 31  paO2                        100133 non-null  float64\n",
                        " 32  paCO2                       100133 non-null  float64\n",
                        " 33  FiO2                        100133 non-null  float64\n",
                        " 34  Total CO2                   100133 non-null  float64\n",
                        " 35  chloride                    100133 non-null  float64\n",
                        " 36  calcium                     100133 non-null  float64\n",
                        " 37  potassium                   100133 non-null  float64\n",
                        " 38  sodium                      100133 non-null  float64\n",
                        " 39  glucose                     100133 non-null  float64\n",
                        " 40  Base Excess                 100133 non-null  float64\n",
                        " 41  Hct                         100133 non-null  float64\n",
                        " 42  Methemoglobin               100133 non-null  float64\n",
                        " 43  MAP                         100133 non-null  float64\n",
                        " 44  heart rate                  100133 non-null  float64\n",
                        " 45  respiration rate            100133 non-null  float64\n",
                        " 46  SpO2                        100133 non-null  float64\n",
                        " 47  temperature                 100133 non-null  float64\n",
                        " 48  RBC transfusion             100133 non-null  float64\n",
                        " 49  FFP transfusion             100133 non-null  float64\n",
                        " 50  PLT transfusion             100133 non-null  float64\n",
                        " 51  BMI                         100133 non-null  float64\n",
                        " 52  indirect bilirubin          100133 non-null  float64\n",
                        " 53  PaO2/FiO2                   100133 non-null  float64\n",
                        " 54  SpO2/FiO2                   100133 non-null  float64\n",
                        " 55  ROX index                   100133 non-null  float64\n",
                        " 56  gender_Female               100133 non-null  uint8  \n",
                        " 57  gender_Male                 100133 non-null  uint8  \n",
                        " 58  gender_Other                100133 non-null  uint8  \n",
                        " 59  ethnicity_African American  100133 non-null  uint8  \n",
                        " 60  ethnicity_Asian             100133 non-null  uint8  \n",
                        " 61  ethnicity_Caucasian         100133 non-null  uint8  \n",
                        " 62  ethnicity_Hispanic          100133 non-null  uint8  \n",
                        " 63  ethnicity_Native American   100133 non-null  uint8  \n",
                        " 64  ethnicity_Other/Unknown     100133 non-null  uint8  \n",
                        " 65  vasopressor_0               100133 non-null  uint8  \n",
                        " 66  vasopressor_1               100133 non-null  uint8  \n",
                        " 67  heparin_0                   100133 non-null  uint8  \n",
                        " 68  heparin_1                   100133 non-null  uint8  \n",
                        "dtypes: float64(55), int64(1), uint8(13)\n",
                        "memory usage: 44.0 MB\n"
                    ]
                }
            ],
            "source": [
                "X_dummy = pd.get_dummies(X_raw)\n",
                "X_dummy.info()\n"
            ]
        },
        {
            "cell_type": "code",
            "execution_count": 8,
            "metadata": {},
            "outputs": [
                {
                    "data": {
                        "text/plain": [
                            "array([0, 0, 0, ..., 0, 0, 0], dtype=int64)"
                        ]
                    },
                    "execution_count": 8,
                    "metadata": {},
                    "output_type": "execute_result"
                }
            ],
            "source": [
                "y = df_data[KEY_FLAG].ravel()\n",
                "y\n"
            ]
        },
        {
            "cell_type": "code",
            "execution_count": 9,
            "metadata": {},
            "outputs": [
                {
                    "data": {
                        "text/plain": [
                            "array([ 141288,  141288,  141288, ..., 3353251, 3353251, 3353251],\n",
                            "      dtype=int64)"
                        ]
                    },
                    "execution_count": 9,
                    "metadata": {},
                    "output_type": "execute_result"
                }
            ],
            "source": [
                "groups = df_data[KEY_IDENTITY].ravel()\n",
                "groups\n"
            ]
        },
        {
            "attachments": {},
            "cell_type": "markdown",
            "metadata": {},
            "source": [
                "## CatBoost\n"
            ]
        },
        {
            "cell_type": "code",
            "execution_count": 11,
            "metadata": {},
            "outputs": [
                {
                    "name": "stdout",
                    "output_type": "stream",
                    "text": [
                        ">>> CV Result (CatBoost)\n",
                        "accuracy_mean: 0.9956\n",
                        "accuracy_std:  0.0009\n",
                        "auc_mean:      0.9956\n",
                        "auc_std:       0.0022\n",
                        "CPU times: total: 6min 5s\n",
                        "Wall time: 4min 39s\n"
                    ]
                }
            ],
            "source": [
                "%%time\n",
                "from catboost import CatBoostClassifier\n",
                "\n",
                "catboost_model = CatBoostClassifier(\n",
                "    cat_features=CATEGORICAL_COLUMNS,\n",
                "    task_type='GPU',\n",
                "    devices='0',\n",
                "    random_state=SEED,\n",
                "    verbose=False,\n",
                ")\n",
                "\n",
                "test_sklearn(\n",
                "    'CatBoost',\n",
                "    catboost_model,\n",
                ")\n"
            ]
        },
        {
            "attachments": {},
            "cell_type": "markdown",
            "metadata": {},
            "source": [
                "## Light Gradient Boosting\n"
            ]
        },
        {
            "cell_type": "code",
            "execution_count": 14,
            "metadata": {},
            "outputs": [
                {
                    "name": "stdout",
                    "output_type": "stream",
                    "text": [
                        ">>> CV Result (LightGB)\n",
                        "accuracy_mean: 0.9953\n",
                        "accuracy_std:  0.0010\n",
                        "auc_mean:      0.9960\n",
                        "auc_std:       0.0018\n",
                        "CPU times: total: 1min 37s\n",
                        "Wall time: 19.4 s\n"
                    ]
                }
            ],
            "source": [
                "%%time\n",
                "from lightgbm import LGBMClassifier\n",
                "\n",
                "lgb_model = LGBMClassifier(\n",
                "    # Categorical features will be automatically detected.\n",
                "    random_state=SEED,\n",
                ")\n",
                "\n",
                "test_sklearn(\n",
                "    'LightGB',\n",
                "    lgb_model,\n",
                ")\n"
            ]
        },
        {
            "attachments": {},
            "cell_type": "markdown",
            "metadata": {},
            "source": [
                "## Extreme Gradient Boosting\n"
            ]
        },
        {
            "cell_type": "code",
            "execution_count": 15,
            "metadata": {},
            "outputs": [
                {
                    "name": "stdout",
                    "output_type": "stream",
                    "text": [
                        ">>> CV Result (XGBoost)\n",
                        "accuracy_mean: 0.9951\n",
                        "accuracy_std:  0.0008\n",
                        "auc_mean:      0.9951\n",
                        "auc_std:       0.0018\n",
                        "CPU times: total: 1min 5s\n",
                        "Wall time: 22.3 s\n"
                    ]
                }
            ],
            "source": [
                "%%time\n",
                "from xgboost import XGBClassifier\n",
                "\n",
                "xgboost_model = XGBClassifier(\n",
                "    enable_categorical=True,\n",
                "    tree_method='gpu_hist',\n",
                "    random_state=SEED,\n",
                ")\n",
                "\n",
                "test_sklearn(\n",
                "    'XGBoost',\n",
                "    xgboost_model,\n",
                ")\n"
            ]
        },
        {
            "attachments": {},
            "cell_type": "markdown",
            "metadata": {},
            "source": [
                "## Hist Gradient Boosting\n"
            ]
        },
        {
            "cell_type": "code",
            "execution_count": 21,
            "metadata": {},
            "outputs": [
                {
                    "name": "stdout",
                    "output_type": "stream",
                    "text": [
                        ">>> CV Result (HistGradientBoosting)\n",
                        "accuracy_mean: 0.9942\n",
                        "accuracy_std:  0.0012\n",
                        "auc_mean:      0.9956\n",
                        "auc_std:       0.0021\n",
                        "CPU times: total: 2min 36s\n",
                        "Wall time: 28.7 s\n"
                    ]
                }
            ],
            "source": [
                "%%time\n",
                "from sklearn.ensemble import HistGradientBoostingClassifier\n",
                "\n",
                "histGB_model = HistGradientBoostingClassifier(\n",
                "    random_state=SEED,\n",
                "    categorical_features=CATEGORICAL_COLUMNS,\n",
                ")\n",
                "\n",
                "test_sklearn(\n",
                "    'HistGB',\n",
                "    histGB_model,\n",
                "    encode='ordinal',\n",
                ")\n"
            ]
        },
        {
            "attachments": {},
            "cell_type": "markdown",
            "metadata": {},
            "source": [
                "## Extra Trees\n"
            ]
        },
        {
            "cell_type": "code",
            "execution_count": 22,
            "metadata": {},
            "outputs": [
                {
                    "name": "stdout",
                    "output_type": "stream",
                    "text": [
                        ">>> CV Result (ExtraTrees)\n",
                        "accuracy_mean: 0.9614\n",
                        "accuracy_std:  0.0061\n",
                        "auc_mean:      0.9773\n",
                        "auc_std:       0.0046\n",
                        "CPU times: total: 22.3 s\n",
                        "Wall time: 43.1 s\n"
                    ]
                }
            ],
            "source": [
                "%%time\n",
                "from sklearn.ensemble import ExtraTreesClassifier\n",
                "\n",
                "extra_trees_model = ExtraTreesClassifier(\n",
                "    class_weight='balanced',\n",
                "    random_state=SEED,\n",
                "    n_jobs=-1,  # use all processors\n",
                ")\n",
                "\n",
                "test_sklearn(\n",
                "    'ExtraTrees',\n",
                "    extra_trees_model,\n",
                "    encode='dummy',\n",
                ")\n"
            ]
        },
        {
            "attachments": {},
            "cell_type": "markdown",
            "metadata": {},
            "source": [
                "## Ridge Classifier\n"
            ]
        },
        {
            "cell_type": "code",
            "execution_count": 23,
            "metadata": {},
            "outputs": [
                {
                    "name": "stdout",
                    "output_type": "stream",
                    "text": [
                        ">>> CV Result (Ridge)\n",
                        "accuracy_mean: 0.9613\n",
                        "accuracy_std:  0.0060\n",
                        "auc_mean:      0.9524\n",
                        "auc_std:       0.0088\n",
                        "CPU times: total: 13.8 s\n",
                        "Wall time: 12.5 s\n"
                    ]
                }
            ],
            "source": [
                "%%time\n",
                "from sklearn.linear_model import RidgeClassifier\n",
                "\n",
                "ridge_model = RidgeClassifier(\n",
                "    # class_weight='balanced',  # worse...\n",
                "    random_state=SEED,\n",
                ")\n",
                "\n",
                "test_sklearn(\n",
                "    'Ridge',\n",
                "    ridge_model,\n",
                "    encode='dummy',\n",
                ")\n"
            ]
        },
        {
            "attachments": {},
            "cell_type": "markdown",
            "metadata": {},
            "source": [
                "## Logistic Regression\n"
            ]
        },
        {
            "cell_type": "code",
            "execution_count": 24,
            "metadata": {},
            "outputs": [
                {
                    "name": "stdout",
                    "output_type": "stream",
                    "text": [
                        ">>> CV Result (Logistic)\n",
                        "accuracy_mean: 0.9658\n",
                        "accuracy_std:  0.0063\n",
                        "auc_mean:      0.9547\n",
                        "auc_std:       0.0053\n",
                        "CPU times: total: 11.8 s\n",
                        "Wall time: 26.9 s\n"
                    ]
                }
            ],
            "source": [
                "%%time\n",
                "from sklearn.linear_model import LogisticRegression\n",
                "\n",
                "logistic_model = LogisticRegression(\n",
                "    solver='newton-cholesky',\n",
                "    # class_weight='balanced',  # worse...\n",
                "    random_state=SEED,\n",
                "    n_jobs=-1,  # use all processors\n",
                ")\n",
                "\n",
                "test_sklearn(\n",
                "    'Logistic',\n",
                "    logistic_model,\n",
                "    encode='dummy',\n",
                ")\n"
            ]
        },
        {
            "attachments": {},
            "cell_type": "markdown",
            "metadata": {},
            "source": [
                "## K-Nearest Neighbors\n"
            ]
        },
        {
            "cell_type": "code",
            "execution_count": 25,
            "metadata": {},
            "outputs": [
                {
                    "name": "stdout",
                    "output_type": "stream",
                    "text": [
                        ">>> CV Result (KNN)\n",
                        "accuracy_mean: 0.9507\n",
                        "accuracy_std:  0.0063\n",
                        "auc_mean:      0.5398\n",
                        "auc_std:       0.0171\n",
                        "CPU times: total: 8min 57s\n",
                        "Wall time: 1min\n"
                    ]
                }
            ],
            "source": [
                "%%time\n",
                "from sklearn.neighbors import KNeighborsClassifier\n",
                "\n",
                "KNN_model = KNeighborsClassifier(\n",
                "    n_jobs=-1,  # use all processors\n",
                ")\n",
                "\n",
                "test_sklearn(\n",
                "    'KNN',\n",
                "    KNN_model,\n",
                "    encode='dummy',\n",
                ")\n"
            ]
        },
        {
            "attachments": {},
            "cell_type": "markdown",
            "metadata": {},
            "source": [
                "## AdaBoost\n"
            ]
        },
        {
            "cell_type": "code",
            "execution_count": 27,
            "metadata": {},
            "outputs": [
                {
                    "name": "stdout",
                    "output_type": "stream",
                    "text": [
                        ">>> CV Result (AdaBoost)\n",
                        "accuracy_mean: 0.9928\n",
                        "accuracy_std:  0.0021\n",
                        "auc_mean:      0.9946\n",
                        "auc_std:       0.0023\n",
                        "CPU times: total: 10.9 s\n",
                        "Wall time: 35.2 s\n"
                    ]
                }
            ],
            "source": [
                "%%time\n",
                "from sklearn.ensemble import AdaBoostClassifier\n",
                "from sklearn.tree import DecisionTreeClassifier\n",
                "\n",
                "adaboost_model = AdaBoostClassifier(\n",
                "    random_state=SEED,\n",
                ")\n",
                "\n",
                "test_sklearn(\n",
                "    'AdaBoost',\n",
                "    adaboost_model,\n",
                "    encode='dummy',\n",
                "    n_jobs=-1,\n",
                ")\n"
            ]
        },
        {
            "attachments": {},
            "cell_type": "markdown",
            "metadata": {},
            "source": [
                "## Linear Discriminant Analysis\n"
            ]
        },
        {
            "cell_type": "code",
            "execution_count": 29,
            "metadata": {},
            "outputs": [
                {
                    "name": "stdout",
                    "output_type": "stream",
                    "text": [
                        ">>> CV Result (LDA)\n",
                        "accuracy_mean: 0.9610\n",
                        "accuracy_std:  0.0076\n",
                        "auc_mean:      0.9524\n",
                        "auc_std:       0.0088\n",
                        "CPU times: total: 10.9 s\n",
                        "Wall time: 17.1 s\n"
                    ]
                }
            ],
            "source": [
                "%%time\n",
                "from sklearn.discriminant_analysis import LinearDiscriminantAnalysis\n",
                "\n",
                "lda_model = LinearDiscriminantAnalysis()\n",
                "\n",
                "test_sklearn(\n",
                "    'LDA',\n",
                "    lda_model,\n",
                "    encode='dummy',\n",
                "    n_jobs=-1,\n",
                ")\n"
            ]
        },
        {
            "attachments": {},
            "cell_type": "markdown",
            "metadata": {},
            "source": [
                "## MLP\n"
            ]
        },
        {
            "cell_type": "code",
            "execution_count": 36,
            "metadata": {},
            "outputs": [
                {
                    "name": "stdout",
                    "output_type": "stream",
                    "text": [
                        ">>> CV Result (MLP)\n",
                        "accuracy_mean: 0.9822\n",
                        "accuracy_std:  0.0032\n",
                        "auc_mean:      0.9742\n",
                        "auc_std:       0.0078\n",
                        "CPU times: total: 11 s\n",
                        "Wall time: 47.3 s\n"
                    ]
                }
            ],
            "source": [
                "%%time\n",
                "from sklearn.neural_network import MLPClassifier\n",
                "\n",
                "mlp_model = make_pipeline(\n",
                "    StandardScaler(),\n",
                "    MLPClassifier(\n",
                "        hidden_layer_sizes=(100,),\n",
                "        early_stopping=True,\n",
                "        max_iter=1000,\n",
                "        random_state=SEED,\n",
                "    ),\n",
                ")\n",
                "\n",
                "test_sklearn(\n",
                "    'MLP',\n",
                "    mlp_model,\n",
                "    encode='dummy',\n",
                "    n_jobs=-1,\n",
                ")\n"
            ]
        },
        {
            "attachments": {},
            "cell_type": "markdown",
            "metadata": {},
            "source": [
                "## Decision Tree\n"
            ]
        },
        {
            "cell_type": "code",
            "execution_count": 30,
            "metadata": {},
            "outputs": [
                {
                    "name": "stdout",
                    "output_type": "stream",
                    "text": [
                        ">>> CV Result (DecisionTree)\n",
                        "accuracy_mean: 0.9903\n",
                        "accuracy_std:  0.0017\n",
                        "auc_mean:      0.9482\n",
                        "auc_std:       0.0075\n",
                        "CPU times: total: 10.9 s\n",
                        "Wall time: 14.3 s\n"
                    ]
                }
            ],
            "source": [
                "%%time\n",
                "from sklearn.tree import DecisionTreeClassifier\n",
                "\n",
                "decision_tree_model = DecisionTreeClassifier(\n",
                "    class_weight='balanced',\n",
                "    random_state=SEED,\n",
                ")\n",
                "\n",
                "test_sklearn(\n",
                "    'DecisionTree',\n",
                "    decision_tree_model,\n",
                "    encode='dummy',\n",
                "    n_jobs=-1,\n",
                ")\n"
            ]
        },
        {
            "attachments": {},
            "cell_type": "markdown",
            "metadata": {},
            "source": [
                "## SVM (With RBF Kernel)\n"
            ]
        },
        {
            "cell_type": "code",
            "execution_count": 37,
            "metadata": {},
            "outputs": [
                {
                    "name": "stdout",
                    "output_type": "stream",
                    "text": [
                        ">>> CV Result (SVM)\n",
                        "accuracy_mean: 0.9729\n",
                        "accuracy_std:  0.0046\n",
                        "auc_mean:      0.9560\n",
                        "auc_std:       0.0052\n",
                        "CPU times: total: 11 s\n",
                        "Wall time: 4min\n"
                    ]
                }
            ],
            "source": [
                "%%time\n",
                "from sklearn.svm import SVC\n",
                "\n",
                "svm_model = make_pipeline(\n",
                "    StandardScaler(),\n",
                "    SVC(\n",
                "        kernel='rbf',  # default\n",
                "        random_state=SEED,\n",
                "    ),\n",
                ")\n",
                "\n",
                "test_sklearn(\n",
                "    'SVM',\n",
                "    svm_model,\n",
                "    encode='dummy',\n",
                "    n_jobs=-1,\n",
                ")\n"
            ]
        },
        {
            "attachments": {},
            "cell_type": "markdown",
            "metadata": {},
            "source": [
                "## Naive Bayes\n"
            ]
        },
        {
            "cell_type": "code",
            "execution_count": 31,
            "metadata": {},
            "outputs": [
                {
                    "name": "stdout",
                    "output_type": "stream",
                    "text": [
                        ">>> CV Result (NaiveBayes)\n",
                        "accuracy_mean: 0.9614\n",
                        "accuracy_std:  0.0061\n",
                        "auc_mean:      0.6900\n",
                        "auc_std:       0.0648\n",
                        "CPU times: total: 10.9 s\n",
                        "Wall time: 11.6 s\n"
                    ]
                }
            ],
            "source": [
                "%%time\n",
                "from sklearn.naive_bayes import MultinomialNB\n",
                "\n",
                "nb_model = make_pipeline(\n",
                "    MinMaxScaler(),\n",
                "    MultinomialNB(),\n",
                ")\n",
                "\n",
                "test_sklearn(\n",
                "    'NaiveBayes',\n",
                "    nb_model,\n",
                "    encode='dummy',\n",
                "    n_jobs=-1,\n",
                ")\n"
            ]
        },
        {
            "attachments": {},
            "cell_type": "markdown",
            "metadata": {},
            "source": [
                "## Save Result\n"
            ]
        },
        {
            "cell_type": "code",
            "execution_count": 39,
            "metadata": {},
            "outputs": [],
            "source": [
                "df_result.to_csv(MODEL_RESULT_PATH)\n"
            ]
        },
        {
            "attachments": {},
            "cell_type": "markdown",
            "metadata": {},
            "source": [
                "## Summary\n"
            ]
        },
        {
            "cell_type": "code",
            "execution_count": 51,
            "metadata": {},
            "outputs": [
                {
                    "data": {
                        "text/html": [
                            "<style type=\"text/css\">\n",
                            "</style>\n",
                            "<table id=\"T_8169c_\">\n",
                            "  <thead>\n",
                            "    <tr>\n",
                            "      <th class=\"index_name level0\" ></th>\n",
                            "      <th class=\"col_heading level0 col0\" >Accuracy Mean</th>\n",
                            "      <th class=\"col_heading level0 col1\" >Accuracy Std</th>\n",
                            "      <th class=\"col_heading level0 col2\" >AUC Mean</th>\n",
                            "      <th class=\"col_heading level0 col3\" >AUC Std</th>\n",
                            "    </tr>\n",
                            "    <tr>\n",
                            "      <th class=\"index_name level0\" >Model Name</th>\n",
                            "      <th class=\"blank col0\" >&nbsp;</th>\n",
                            "      <th class=\"blank col1\" >&nbsp;</th>\n",
                            "      <th class=\"blank col2\" >&nbsp;</th>\n",
                            "      <th class=\"blank col3\" >&nbsp;</th>\n",
                            "    </tr>\n",
                            "  </thead>\n",
                            "  <tbody>\n",
                            "    <tr>\n",
                            "      <th id=\"T_8169c_level0_row0\" class=\"row_heading level0 row0\" >CatBoost</th>\n",
                            "      <td id=\"T_8169c_row0_col0\" class=\"data row0 col0\" >0.9957</td>\n",
                            "      <td id=\"T_8169c_row0_col1\" class=\"data row0 col1\" >0.0007</td>\n",
                            "      <td id=\"T_8169c_row0_col2\" class=\"data row0 col2\" >0.9957</td>\n",
                            "      <td id=\"T_8169c_row0_col3\" class=\"data row0 col3\" >0.0021</td>\n",
                            "    </tr>\n",
                            "    <tr>\n",
                            "      <th id=\"T_8169c_level0_row1\" class=\"row_heading level0 row1\" >LightGB</th>\n",
                            "      <td id=\"T_8169c_row1_col0\" class=\"data row1 col0\" >0.9953</td>\n",
                            "      <td id=\"T_8169c_row1_col1\" class=\"data row1 col1\" >0.0010</td>\n",
                            "      <td id=\"T_8169c_row1_col2\" class=\"data row1 col2\" >0.9960</td>\n",
                            "      <td id=\"T_8169c_row1_col3\" class=\"data row1 col3\" >0.0018</td>\n",
                            "    </tr>\n",
                            "    <tr>\n",
                            "      <th id=\"T_8169c_level0_row2\" class=\"row_heading level0 row2\" >XGBoost</th>\n",
                            "      <td id=\"T_8169c_row2_col0\" class=\"data row2 col0\" >0.9951</td>\n",
                            "      <td id=\"T_8169c_row2_col1\" class=\"data row2 col1\" >0.0008</td>\n",
                            "      <td id=\"T_8169c_row2_col2\" class=\"data row2 col2\" >0.9951</td>\n",
                            "      <td id=\"T_8169c_row2_col3\" class=\"data row2 col3\" >0.0018</td>\n",
                            "    </tr>\n",
                            "    <tr>\n",
                            "      <th id=\"T_8169c_level0_row3\" class=\"row_heading level0 row3\" >HistGB</th>\n",
                            "      <td id=\"T_8169c_row3_col0\" class=\"data row3 col0\" >0.9942</td>\n",
                            "      <td id=\"T_8169c_row3_col1\" class=\"data row3 col1\" >0.0012</td>\n",
                            "      <td id=\"T_8169c_row3_col2\" class=\"data row3 col2\" >0.9956</td>\n",
                            "      <td id=\"T_8169c_row3_col3\" class=\"data row3 col3\" >0.0021</td>\n",
                            "    </tr>\n",
                            "    <tr>\n",
                            "      <th id=\"T_8169c_level0_row4\" class=\"row_heading level0 row4\" >AdaBoost</th>\n",
                            "      <td id=\"T_8169c_row4_col0\" class=\"data row4 col0\" >0.9928</td>\n",
                            "      <td id=\"T_8169c_row4_col1\" class=\"data row4 col1\" >0.0021</td>\n",
                            "      <td id=\"T_8169c_row4_col2\" class=\"data row4 col2\" >0.9946</td>\n",
                            "      <td id=\"T_8169c_row4_col3\" class=\"data row4 col3\" >0.0023</td>\n",
                            "    </tr>\n",
                            "    <tr>\n",
                            "      <th id=\"T_8169c_level0_row5\" class=\"row_heading level0 row5\" >DecisionTree</th>\n",
                            "      <td id=\"T_8169c_row5_col0\" class=\"data row5 col0\" >0.9903</td>\n",
                            "      <td id=\"T_8169c_row5_col1\" class=\"data row5 col1\" >0.0017</td>\n",
                            "      <td id=\"T_8169c_row5_col2\" class=\"data row5 col2\" >0.9482</td>\n",
                            "      <td id=\"T_8169c_row5_col3\" class=\"data row5 col3\" >0.0075</td>\n",
                            "    </tr>\n",
                            "    <tr>\n",
                            "      <th id=\"T_8169c_level0_row6\" class=\"row_heading level0 row6\" >MLP</th>\n",
                            "      <td id=\"T_8169c_row6_col0\" class=\"data row6 col0\" >0.9822</td>\n",
                            "      <td id=\"T_8169c_row6_col1\" class=\"data row6 col1\" >0.0032</td>\n",
                            "      <td id=\"T_8169c_row6_col2\" class=\"data row6 col2\" >0.9742</td>\n",
                            "      <td id=\"T_8169c_row6_col3\" class=\"data row6 col3\" >0.0078</td>\n",
                            "    </tr>\n",
                            "    <tr>\n",
                            "      <th id=\"T_8169c_level0_row7\" class=\"row_heading level0 row7\" >SVM</th>\n",
                            "      <td id=\"T_8169c_row7_col0\" class=\"data row7 col0\" >0.9729</td>\n",
                            "      <td id=\"T_8169c_row7_col1\" class=\"data row7 col1\" >0.0046</td>\n",
                            "      <td id=\"T_8169c_row7_col2\" class=\"data row7 col2\" >0.9560</td>\n",
                            "      <td id=\"T_8169c_row7_col3\" class=\"data row7 col3\" >0.0052</td>\n",
                            "    </tr>\n",
                            "    <tr>\n",
                            "      <th id=\"T_8169c_level0_row8\" class=\"row_heading level0 row8\" >Logistic</th>\n",
                            "      <td id=\"T_8169c_row8_col0\" class=\"data row8 col0\" >0.9658</td>\n",
                            "      <td id=\"T_8169c_row8_col1\" class=\"data row8 col1\" >0.0063</td>\n",
                            "      <td id=\"T_8169c_row8_col2\" class=\"data row8 col2\" >0.9547</td>\n",
                            "      <td id=\"T_8169c_row8_col3\" class=\"data row8 col3\" >0.0053</td>\n",
                            "    </tr>\n",
                            "    <tr>\n",
                            "      <th id=\"T_8169c_level0_row9\" class=\"row_heading level0 row9\" >ExtraTrees</th>\n",
                            "      <td id=\"T_8169c_row9_col0\" class=\"data row9 col0\" >0.9614</td>\n",
                            "      <td id=\"T_8169c_row9_col1\" class=\"data row9 col1\" >0.0061</td>\n",
                            "      <td id=\"T_8169c_row9_col2\" class=\"data row9 col2\" >0.9773</td>\n",
                            "      <td id=\"T_8169c_row9_col3\" class=\"data row9 col3\" >0.0046</td>\n",
                            "    </tr>\n",
                            "    <tr>\n",
                            "      <th id=\"T_8169c_level0_row10\" class=\"row_heading level0 row10\" >NaiveBayes</th>\n",
                            "      <td id=\"T_8169c_row10_col0\" class=\"data row10 col0\" >0.9614</td>\n",
                            "      <td id=\"T_8169c_row10_col1\" class=\"data row10 col1\" >0.0061</td>\n",
                            "      <td id=\"T_8169c_row10_col2\" class=\"data row10 col2\" >0.6900</td>\n",
                            "      <td id=\"T_8169c_row10_col3\" class=\"data row10 col3\" >0.0648</td>\n",
                            "    </tr>\n",
                            "    <tr>\n",
                            "      <th id=\"T_8169c_level0_row11\" class=\"row_heading level0 row11\" >Ridge</th>\n",
                            "      <td id=\"T_8169c_row11_col0\" class=\"data row11 col0\" >0.9613</td>\n",
                            "      <td id=\"T_8169c_row11_col1\" class=\"data row11 col1\" >0.0060</td>\n",
                            "      <td id=\"T_8169c_row11_col2\" class=\"data row11 col2\" >0.9524</td>\n",
                            "      <td id=\"T_8169c_row11_col3\" class=\"data row11 col3\" >0.0088</td>\n",
                            "    </tr>\n",
                            "    <tr>\n",
                            "      <th id=\"T_8169c_level0_row12\" class=\"row_heading level0 row12\" >LDA</th>\n",
                            "      <td id=\"T_8169c_row12_col0\" class=\"data row12 col0\" >0.9610</td>\n",
                            "      <td id=\"T_8169c_row12_col1\" class=\"data row12 col1\" >0.0076</td>\n",
                            "      <td id=\"T_8169c_row12_col2\" class=\"data row12 col2\" >0.9524</td>\n",
                            "      <td id=\"T_8169c_row12_col3\" class=\"data row12 col3\" >0.0088</td>\n",
                            "    </tr>\n",
                            "    <tr>\n",
                            "      <th id=\"T_8169c_level0_row13\" class=\"row_heading level0 row13\" >KNN</th>\n",
                            "      <td id=\"T_8169c_row13_col0\" class=\"data row13 col0\" >0.9507</td>\n",
                            "      <td id=\"T_8169c_row13_col1\" class=\"data row13 col1\" >0.0063</td>\n",
                            "      <td id=\"T_8169c_row13_col2\" class=\"data row13 col2\" >0.5398</td>\n",
                            "      <td id=\"T_8169c_row13_col3\" class=\"data row13 col3\" >0.0171</td>\n",
                            "    </tr>\n",
                            "  </tbody>\n",
                            "</table>\n"
                        ],
                        "text/plain": [
                            "<pandas.io.formats.style.Styler at 0x1e800189730>"
                        ]
                    },
                    "execution_count": 51,
                    "metadata": {},
                    "output_type": "execute_result"
                }
            ],
            "source": [
                "df_summary = df_result.T.sort_values(\n",
                "    by=['Accuracy Mean', 'AUC Mean'],\n",
                "    ascending=False,\n",
                ").copy()\n",
                "df_summary.columns.name = ''\n",
                "df_summary.index.name = 'Model Name'\n",
                "df_summary.style.format('{:.4f}')\n"
            ]
        }
    ],
    "metadata": {
        "kernelspec": {
            "display_name": "Python 3.9.2 64-bit",
            "language": "python",
            "name": "python3"
        },
        "language_info": {
            "codemirror_mode": {
                "name": "ipython",
                "version": 3
            },
            "file_extension": ".py",
            "mimetype": "text/x-python",
            "name": "python",
            "nbconvert_exporter": "python",
            "pygments_lexer": "ipython3",
            "version": "3.9.2"
        },
        "orig_nbformat": 4,
        "vscode": {
            "interpreter": {
                "hash": "f7976576504ac6c456dadd405d7477574ca2a64265ee4724cfbc25daae5f6d94"
            }
        }
    },
    "nbformat": 4,
    "nbformat_minor": 2
}
