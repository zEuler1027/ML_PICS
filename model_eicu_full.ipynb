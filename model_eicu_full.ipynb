{
    "cells": [
        {
            "attachments": {},
            "cell_type": "markdown",
            "metadata": {},
            "source": [
                "# Models (sepsis-pics)\n"
            ]
        },
        {
            "attachments": {},
            "cell_type": "markdown",
            "metadata": {},
            "source": [
                "## Common\n"
            ]
        },
        {
            "cell_type": "code",
            "execution_count": 1,
            "metadata": {},
            "outputs": [],
            "source": [
                "import numpy as np\n",
                "import pandas as pd\n",
                "import matplotlib.pyplot as plt\n",
                "from sklearn.pipeline import make_pipeline\n",
                "from sklearn.preprocessing import StandardScaler, MinMaxScaler, OrdinalEncoder\n",
                "from common_eicu import KEY_IDENTITY, KEY_FLAG, CATEGORICAL_COLUMNS\n",
                "from common_model_eicu import SEED, SCORING, cv, get_full_data, test_model\n"
            ]
        },
        {
            "cell_type": "code",
            "execution_count": 2,
            "metadata": {},
            "outputs": [
                {
                    "name": "stdout",
                    "output_type": "stream",
                    "text": [
                        "Index         Accuracy Mean  Accuracy Std  AUC Mean   AUC Std\n",
                        "CatBoost           0.995598      0.001106  0.996067  0.001247\n",
                        "LightGB            0.995162      0.001381  0.996054  0.001477\n",
                        "XGBoost            0.995096      0.001093  0.994320  0.001801\n",
                        "HistGB             0.994351      0.001502  0.995599  0.001646\n",
                        "AdaBoost           0.992974      0.001921  0.994684  0.001718\n",
                        "DecisionTree       0.989201      0.001961  0.948664  0.012928\n",
                        "MLP                0.981605      0.003656  0.974707  0.008280\n",
                        "SVM                0.973136      0.003063  0.957260  0.010657\n",
                        "Logistic           0.965586      0.006560  0.955503  0.011602\n",
                        "ExtraTrees         0.961474      0.006486  0.977230  0.006083\n",
                        "NaiveBayes         0.961474      0.006486  0.688748  0.033740\n",
                        "Ridge              0.961398      0.006522  0.952498  0.013035\n",
                        "LDA                0.960830      0.009653  0.952497  0.013035\n",
                        "KNN                0.950638      0.005488  0.543913  0.024953\n"
                    ]
                }
            ],
            "source": [
                "MODEL_RESULT_PATH = './data/model_result.csv'\n",
                "\n",
                "# index: 'Accuracy Mean', 'Accuracy Std', 'AUC Mean', 'AUC Std'\n",
                "df_result = pd.read_csv(\n",
                "    MODEL_RESULT_PATH,\n",
                "    index_col='Index',\n",
                ")\n",
                "print(\n",
                "    df_result.T.sort_values(\n",
                "        by=['Accuracy Mean', 'AUC Mean'],\n",
                "        ascending=False,\n",
                "    )\n",
                ")\n",
                "\n",
                "def update_result(name, *, accuracy_mean, accuracy_std, auc_mean, auc_std):\n",
                "    df_result[name] = [accuracy_mean, accuracy_std, auc_mean, auc_std]\n"
            ]
        },
        {
            "cell_type": "code",
            "execution_count": 3,
            "metadata": {},
            "outputs": [],
            "source": [
                "def plot_roc_file(title, input_path, auc_mean, auc_std):\n",
                "\n",
                "    df_roc = pd.read_csv(input_path, sep='\\t')\n",
                "    fig = plt.figure(figsize=(7, 6))\n",
                "    ax = fig.add_subplot()\n",
                "\n",
                "    ax.set_title(title)\n",
                "    ax.set_xlabel('False Positive Rate')\n",
                "    ax.set_ylabel('True Positive Rate')\n",
                "\n",
                "    t = [0, 1]\n",
                "    ax.plot(t, t, '--', c='lightgray', label='chance level (AUC = 0.5)')\n",
                "\n",
                "    x = df_roc['FPR']\n",
                "    y = df_roc['TPR']\n",
                "    label = fr'ROC (AUC = {auc_mean:.2f} $\\pm$ {auc_std:.2f})'\n",
                "    ax.plot(x, y, 'b-', label=label)\n",
                "\n",
                "    ax.legend(loc='lower right')\n"
            ]
        },
        {
            "cell_type": "code",
            "execution_count": 4,
            "metadata": {},
            "outputs": [],
            "source": [
                "def test_and_update(name, model, *, encode=False, n_jobs=None):\n",
                "    '''\n",
                "    Test the given model using sklearn's\n",
                "    cross validation, print the result\n",
                "    and pass it to `update_result`.\n",
                "\n",
                "    Parameters\n",
                "    ----------\n",
                "    name : str\n",
                "        Model name.\n",
                "    model : scikit-learn compact model\n",
                "        The model to test.\n",
                "    encode : False, 'ordinal' or 'dummy', default=False\n",
                "        Category encoding option.\n",
                "        False - No encoding.\n",
                "        'ordinal' - Use ordinal encoder.\n",
                "        'dummy' - Use dummy encoder.\n",
                "    n_jobs : int or None, default=None\n",
                "        Number of jobs to run in parallel.\n",
                "    '''\n",
                "\n",
                "    if encode == 'dummy':\n",
                "        X = X_dummy\n",
                "    elif encode == 'ordinal':\n",
                "        X = X_ordinal\n",
                "    else:\n",
                "        X = X_raw\n",
                "\n",
                "    result = test_model(\n",
                "        model,\n",
                "        X,\n",
                "        y,\n",
                "        groups,\n",
                "        return_result=True,\n",
                "        n_jobs=n_jobs,\n",
                "    )\n",
                "\n",
                "    update_result(\n",
                "        name,\n",
                "        accuracy_mean=result['accuracy_mean'],\n",
                "        accuracy_std=result['accuracy_std'],\n",
                "        auc_mean=result['auc_mean'],\n",
                "        auc_std=result['auc_std'],\n",
                "    )\n"
            ]
        },
        {
            "cell_type": "markdown",
            "metadata": {},
            "source": [
                "## Prepare Data\n"
            ]
        },
        {
            "cell_type": "code",
            "execution_count": 5,
            "metadata": {},
            "outputs": [],
            "source": [
                "df_data = get_full_data()\n"
            ]
        },
        {
            "cell_type": "code",
            "execution_count": 6,
            "metadata": {},
            "outputs": [
                {
                    "name": "stdout",
                    "output_type": "stream",
                    "text": [
                        "<class 'pandas.core.frame.DataFrame'>\n",
                        "RangeIndex: 100308 entries, 0 to 100307\n",
                        "Data columns (total 57 columns):\n",
                        " #   Column              Non-Null Count   Dtype   \n",
                        "---  ------              --------------   -----   \n",
                        " 0   gender              100308 non-null  category\n",
                        " 1   age                 100308 non-null  float64 \n",
                        " 2   ethnicity           100308 non-null  category\n",
                        " 3   Apache-IV           100308 non-null  float64 \n",
                        " 4   offset              100308 non-null  int64   \n",
                        " 5   vasopressor         100308 non-null  category\n",
                        " 6   heparin             100308 non-null  category\n",
                        " 7   urine               100308 non-null  float64 \n",
                        " 8   PEEP                100308 non-null  float64 \n",
                        " 9   creatinine          100308 non-null  float64 \n",
                        " 10  platelet            100308 non-null  float64 \n",
                        " 11  INR                 100308 non-null  float64 \n",
                        " 12  PT                  100308 non-null  float64 \n",
                        " 13  PTT                 100308 non-null  float64 \n",
                        " 14  lactate             100308 non-null  float64 \n",
                        " 15  RDW                 100308 non-null  float64 \n",
                        " 16  total bilirubin     100308 non-null  float64 \n",
                        " 17  direct bilirubin    100308 non-null  float64 \n",
                        " 18  bicarbonate         100308 non-null  float64 \n",
                        " 19  CRP                 100308 non-null  float64 \n",
                        " 20  lymph               100308 non-null  float64 \n",
                        " 21  albumin             100308 non-null  float64 \n",
                        " 22  prealbumin          100308 non-null  float64 \n",
                        " 23  WBC                 100308 non-null  float64 \n",
                        " 24  total protein       100308 non-null  float64 \n",
                        " 25  anion gap           100308 non-null  float64 \n",
                        " 26  BUN                 100308 non-null  float64 \n",
                        " 27  fibrinogen          100308 non-null  float64 \n",
                        " 28  MCH                 100308 non-null  float64 \n",
                        " 29  MCHC                100308 non-null  float64 \n",
                        " 30  MCV                 100308 non-null  float64 \n",
                        " 31  ALT                 100308 non-null  float64 \n",
                        " 32  AST                 100308 non-null  float64 \n",
                        " 33  RBC                 100308 non-null  float64 \n",
                        " 34  pH                  100308 non-null  float64 \n",
                        " 35  paO2                100308 non-null  float64 \n",
                        " 36  paCO2               100308 non-null  float64 \n",
                        " 37  FiO2                100308 non-null  float64 \n",
                        " 38  Total CO2           100308 non-null  float64 \n",
                        " 39  chloride            100308 non-null  float64 \n",
                        " 40  calcium             100308 non-null  float64 \n",
                        " 41  potassium           100308 non-null  float64 \n",
                        " 42  sodium              100308 non-null  float64 \n",
                        " 43  glucose             100308 non-null  float64 \n",
                        " 44  Base Excess         100308 non-null  float64 \n",
                        " 45  Hct                 100308 non-null  float64 \n",
                        " 46  Methemoglobin       100308 non-null  float64 \n",
                        " 47  MAP                 100308 non-null  float64 \n",
                        " 48  heart rate          100308 non-null  float64 \n",
                        " 49  respiration rate    100308 non-null  float64 \n",
                        " 50  SpO2                100308 non-null  float64 \n",
                        " 51  temperature         100308 non-null  float64 \n",
                        " 52  BMI                 100308 non-null  float64 \n",
                        " 53  indirect bilirubin  100308 non-null  float64 \n",
                        " 54  PaO2/FiO2           100308 non-null  float64 \n",
                        " 55  SpO2/FiO2           100308 non-null  float64 \n",
                        " 56  ROX index           100308 non-null  float64 \n",
                        "dtypes: category(4), float64(52), int64(1)\n",
                        "memory usage: 40.9 MB\n"
                    ]
                }
            ],
            "source": [
                "X_raw = df_data.drop(columns=[KEY_IDENTITY, KEY_FLAG])\n",
                "X_raw.info()\n"
            ]
        },
        {
            "cell_type": "code",
            "execution_count": 7,
            "metadata": {},
            "outputs": [
                {
                    "name": "stdout",
                    "output_type": "stream",
                    "text": [
                        "<class 'pandas.core.frame.DataFrame'>\n",
                        "RangeIndex: 100308 entries, 0 to 100307\n",
                        "Data columns (total 57 columns):\n",
                        " #   Column              Non-Null Count   Dtype  \n",
                        "---  ------              --------------   -----  \n",
                        " 0   gender              100308 non-null  uint8  \n",
                        " 1   age                 100308 non-null  float64\n",
                        " 2   ethnicity           100308 non-null  uint8  \n",
                        " 3   Apache-IV           100308 non-null  float64\n",
                        " 4   offset              100308 non-null  int64  \n",
                        " 5   vasopressor         100308 non-null  uint8  \n",
                        " 6   heparin             100308 non-null  uint8  \n",
                        " 7   urine               100308 non-null  float64\n",
                        " 8   PEEP                100308 non-null  float64\n",
                        " 9   creatinine          100308 non-null  float64\n",
                        " 10  platelet            100308 non-null  float64\n",
                        " 11  INR                 100308 non-null  float64\n",
                        " 12  PT                  100308 non-null  float64\n",
                        " 13  PTT                 100308 non-null  float64\n",
                        " 14  lactate             100308 non-null  float64\n",
                        " 15  RDW                 100308 non-null  float64\n",
                        " 16  total bilirubin     100308 non-null  float64\n",
                        " 17  direct bilirubin    100308 non-null  float64\n",
                        " 18  bicarbonate         100308 non-null  float64\n",
                        " 19  CRP                 100308 non-null  float64\n",
                        " 20  lymph               100308 non-null  float64\n",
                        " 21  albumin             100308 non-null  float64\n",
                        " 22  prealbumin          100308 non-null  float64\n",
                        " 23  WBC                 100308 non-null  float64\n",
                        " 24  total protein       100308 non-null  float64\n",
                        " 25  anion gap           100308 non-null  float64\n",
                        " 26  BUN                 100308 non-null  float64\n",
                        " 27  fibrinogen          100308 non-null  float64\n",
                        " 28  MCH                 100308 non-null  float64\n",
                        " 29  MCHC                100308 non-null  float64\n",
                        " 30  MCV                 100308 non-null  float64\n",
                        " 31  ALT                 100308 non-null  float64\n",
                        " 32  AST                 100308 non-null  float64\n",
                        " 33  RBC                 100308 non-null  float64\n",
                        " 34  pH                  100308 non-null  float64\n",
                        " 35  paO2                100308 non-null  float64\n",
                        " 36  paCO2               100308 non-null  float64\n",
                        " 37  FiO2                100308 non-null  float64\n",
                        " 38  Total CO2           100308 non-null  float64\n",
                        " 39  chloride            100308 non-null  float64\n",
                        " 40  calcium             100308 non-null  float64\n",
                        " 41  potassium           100308 non-null  float64\n",
                        " 42  sodium              100308 non-null  float64\n",
                        " 43  glucose             100308 non-null  float64\n",
                        " 44  Base Excess         100308 non-null  float64\n",
                        " 45  Hct                 100308 non-null  float64\n",
                        " 46  Methemoglobin       100308 non-null  float64\n",
                        " 47  MAP                 100308 non-null  float64\n",
                        " 48  heart rate          100308 non-null  float64\n",
                        " 49  respiration rate    100308 non-null  float64\n",
                        " 50  SpO2                100308 non-null  float64\n",
                        " 51  temperature         100308 non-null  float64\n",
                        " 52  BMI                 100308 non-null  float64\n",
                        " 53  indirect bilirubin  100308 non-null  float64\n",
                        " 54  PaO2/FiO2           100308 non-null  float64\n",
                        " 55  SpO2/FiO2           100308 non-null  float64\n",
                        " 56  ROX index           100308 non-null  float64\n",
                        "dtypes: float64(52), int64(1), uint8(4)\n",
                        "memory usage: 40.9 MB\n"
                    ]
                }
            ],
            "source": [
                "ordinal_encoder = OrdinalEncoder(\n",
                "    dtype=np.uint8,\n",
                ")\n",
                "X_ordinal = X_raw.copy()\n",
                "X_ordinal[CATEGORICAL_COLUMNS] = \\\n",
                "    ordinal_encoder.fit_transform(X_ordinal[CATEGORICAL_COLUMNS])\n",
                "X_ordinal.info()\n"
            ]
        },
        {
            "cell_type": "code",
            "execution_count": 8,
            "metadata": {},
            "outputs": [
                {
                    "name": "stdout",
                    "output_type": "stream",
                    "text": [
                        "<class 'pandas.core.frame.DataFrame'>\n",
                        "RangeIndex: 100308 entries, 0 to 100307\n",
                        "Data columns (total 66 columns):\n",
                        " #   Column                      Non-Null Count   Dtype  \n",
                        "---  ------                      --------------   -----  \n",
                        " 0   age                         100308 non-null  float64\n",
                        " 1   Apache-IV                   100308 non-null  float64\n",
                        " 2   offset                      100308 non-null  int64  \n",
                        " 3   urine                       100308 non-null  float64\n",
                        " 4   PEEP                        100308 non-null  float64\n",
                        " 5   creatinine                  100308 non-null  float64\n",
                        " 6   platelet                    100308 non-null  float64\n",
                        " 7   INR                         100308 non-null  float64\n",
                        " 8   PT                          100308 non-null  float64\n",
                        " 9   PTT                         100308 non-null  float64\n",
                        " 10  lactate                     100308 non-null  float64\n",
                        " 11  RDW                         100308 non-null  float64\n",
                        " 12  total bilirubin             100308 non-null  float64\n",
                        " 13  direct bilirubin            100308 non-null  float64\n",
                        " 14  bicarbonate                 100308 non-null  float64\n",
                        " 15  CRP                         100308 non-null  float64\n",
                        " 16  lymph                       100308 non-null  float64\n",
                        " 17  albumin                     100308 non-null  float64\n",
                        " 18  prealbumin                  100308 non-null  float64\n",
                        " 19  WBC                         100308 non-null  float64\n",
                        " 20  total protein               100308 non-null  float64\n",
                        " 21  anion gap                   100308 non-null  float64\n",
                        " 22  BUN                         100308 non-null  float64\n",
                        " 23  fibrinogen                  100308 non-null  float64\n",
                        " 24  MCH                         100308 non-null  float64\n",
                        " 25  MCHC                        100308 non-null  float64\n",
                        " 26  MCV                         100308 non-null  float64\n",
                        " 27  ALT                         100308 non-null  float64\n",
                        " 28  AST                         100308 non-null  float64\n",
                        " 29  RBC                         100308 non-null  float64\n",
                        " 30  pH                          100308 non-null  float64\n",
                        " 31  paO2                        100308 non-null  float64\n",
                        " 32  paCO2                       100308 non-null  float64\n",
                        " 33  FiO2                        100308 non-null  float64\n",
                        " 34  Total CO2                   100308 non-null  float64\n",
                        " 35  chloride                    100308 non-null  float64\n",
                        " 36  calcium                     100308 non-null  float64\n",
                        " 37  potassium                   100308 non-null  float64\n",
                        " 38  sodium                      100308 non-null  float64\n",
                        " 39  glucose                     100308 non-null  float64\n",
                        " 40  Base Excess                 100308 non-null  float64\n",
                        " 41  Hct                         100308 non-null  float64\n",
                        " 42  Methemoglobin               100308 non-null  float64\n",
                        " 43  MAP                         100308 non-null  float64\n",
                        " 44  heart rate                  100308 non-null  float64\n",
                        " 45  respiration rate            100308 non-null  float64\n",
                        " 46  SpO2                        100308 non-null  float64\n",
                        " 47  temperature                 100308 non-null  float64\n",
                        " 48  BMI                         100308 non-null  float64\n",
                        " 49  indirect bilirubin          100308 non-null  float64\n",
                        " 50  PaO2/FiO2                   100308 non-null  float64\n",
                        " 51  SpO2/FiO2                   100308 non-null  float64\n",
                        " 52  ROX index                   100308 non-null  float64\n",
                        " 53  gender_Female               100308 non-null  uint8  \n",
                        " 54  gender_Male                 100308 non-null  uint8  \n",
                        " 55  gender_Other                100308 non-null  uint8  \n",
                        " 56  ethnicity_African American  100308 non-null  uint8  \n",
                        " 57  ethnicity_Asian             100308 non-null  uint8  \n",
                        " 58  ethnicity_Caucasian         100308 non-null  uint8  \n",
                        " 59  ethnicity_Hispanic          100308 non-null  uint8  \n",
                        " 60  ethnicity_Native American   100308 non-null  uint8  \n",
                        " 61  ethnicity_Other/Unknown     100308 non-null  uint8  \n",
                        " 62  vasopressor_0               100308 non-null  uint8  \n",
                        " 63  vasopressor_1               100308 non-null  uint8  \n",
                        " 64  heparin_0                   100308 non-null  uint8  \n",
                        " 65  heparin_1                   100308 non-null  uint8  \n",
                        "dtypes: float64(52), int64(1), uint8(13)\n",
                        "memory usage: 41.8 MB\n"
                    ]
                }
            ],
            "source": [
                "X_dummy = pd.get_dummies(X_raw)\n",
                "X_dummy.info()\n"
            ]
        },
        {
            "cell_type": "code",
            "execution_count": 9,
            "metadata": {},
            "outputs": [
                {
                    "data": {
                        "text/plain": [
                            "array([0, 0, 0, ..., 0, 0, 0], dtype=int64)"
                        ]
                    },
                    "execution_count": 9,
                    "metadata": {},
                    "output_type": "execute_result"
                }
            ],
            "source": [
                "y = df_data[KEY_FLAG].ravel()\n",
                "y\n"
            ]
        },
        {
            "cell_type": "code",
            "execution_count": 10,
            "metadata": {},
            "outputs": [
                {
                    "data": {
                        "text/plain": [
                            "array([ 141288,  141288,  141288, ..., 3353251, 3353251, 3353251],\n",
                            "      dtype=int64)"
                        ]
                    },
                    "execution_count": 10,
                    "metadata": {},
                    "output_type": "execute_result"
                }
            ],
            "source": [
                "groups = df_data[KEY_IDENTITY].ravel()\n",
                "groups\n"
            ]
        },
        {
            "attachments": {},
            "cell_type": "markdown",
            "metadata": {},
            "source": [
                "## CatBoost\n"
            ]
        },
        {
            "cell_type": "code",
            "execution_count": 13,
            "metadata": {},
            "outputs": [
                {
                    "name": "stdout",
                    "output_type": "stream",
                    "text": [
                        ">>> CV Result (CatBoost)\n",
                        "accuracy_mean: 0.9956\n",
                        "accuracy_std:  0.0011\n",
                        "auc_mean:      0.9961\n",
                        "auc_std:       0.0012\n",
                        "CPU times: total: 6min 5s\n",
                        "Wall time: 4min 32s\n"
                    ]
                }
            ],
            "source": [
                "%%time\n",
                "from catboost import CatBoostClassifier\n",
                "\n",
                "catboost_model = CatBoostClassifier(\n",
                "    cat_features=CATEGORICAL_COLUMNS,\n",
                "    task_type='GPU',\n",
                "    devices='0',\n",
                "    random_state=SEED,\n",
                "    verbose=False,\n",
                ")\n",
                "\n",
                "test_and_update(\n",
                "    'CatBoost',\n",
                "    catboost_model,\n",
                ")\n"
            ]
        },
        {
            "attachments": {},
            "cell_type": "markdown",
            "metadata": {},
            "source": [
                "## Light Gradient Boosting\n"
            ]
        },
        {
            "cell_type": "code",
            "execution_count": 11,
            "metadata": {},
            "outputs": [
                {
                    "name": "stdout",
                    "output_type": "stream",
                    "text": [
                        ">>> CV Result\n",
                        "accuracy_mean: 0.9952\n",
                        "accuracy_std:  0.0014\n",
                        "auc_mean:      0.9961\n",
                        "auc_std:       0.0015\n",
                        "CPU times: total: 1min 34s\n",
                        "Wall time: 19.1 s\n"
                    ]
                }
            ],
            "source": [
                "%%time\n",
                "from lightgbm import LGBMClassifier\n",
                "\n",
                "lgb_model = LGBMClassifier(\n",
                "    # Categorical features will be automatically detected.\n",
                "    random_state=SEED,\n",
                ")\n",
                "\n",
                "test_and_update(\n",
                "    'LightGB',\n",
                "    lgb_model,\n",
                ")\n"
            ]
        },
        {
            "attachments": {},
            "cell_type": "markdown",
            "metadata": {},
            "source": [
                "## Extreme Gradient Boosting\n"
            ]
        },
        {
            "cell_type": "code",
            "execution_count": 15,
            "metadata": {},
            "outputs": [
                {
                    "name": "stdout",
                    "output_type": "stream",
                    "text": [
                        ">>> CV Result (XGBoost)\n",
                        "accuracy_mean: 0.9951\n",
                        "accuracy_std:  0.0011\n",
                        "auc_mean:      0.9943\n",
                        "auc_std:       0.0018\n",
                        "CPU times: total: 1min 8s\n",
                        "Wall time: 22.3 s\n"
                    ]
                }
            ],
            "source": [
                "%%time\n",
                "from xgboost import XGBClassifier\n",
                "\n",
                "xgboost_model = XGBClassifier(\n",
                "    enable_categorical=True,\n",
                "    tree_method='gpu_hist',\n",
                "    random_state=SEED,\n",
                ")\n",
                "\n",
                "test_and_update(\n",
                "    'XGBoost',\n",
                "    xgboost_model,\n",
                ")\n"
            ]
        },
        {
            "attachments": {},
            "cell_type": "markdown",
            "metadata": {},
            "source": [
                "## Hist Gradient Boosting\n"
            ]
        },
        {
            "cell_type": "code",
            "execution_count": 16,
            "metadata": {},
            "outputs": [
                {
                    "name": "stdout",
                    "output_type": "stream",
                    "text": [
                        ">>> CV Result (HistGB)\n",
                        "accuracy_mean: 0.9944\n",
                        "accuracy_std:  0.0015\n",
                        "auc_mean:      0.9956\n",
                        "auc_std:       0.0016\n",
                        "CPU times: total: 2min 33s\n",
                        "Wall time: 28.6 s\n"
                    ]
                }
            ],
            "source": [
                "%%time\n",
                "from sklearn.ensemble import HistGradientBoostingClassifier\n",
                "\n",
                "histGB_model = HistGradientBoostingClassifier(\n",
                "    random_state=SEED,\n",
                "    categorical_features=CATEGORICAL_COLUMNS,\n",
                ")\n",
                "\n",
                "test_and_update(\n",
                "    'HistGB',\n",
                "    histGB_model,\n",
                "    encode='ordinal',\n",
                ")\n"
            ]
        },
        {
            "attachments": {},
            "cell_type": "markdown",
            "metadata": {},
            "source": [
                "## Extra Trees\n"
            ]
        },
        {
            "cell_type": "code",
            "execution_count": 17,
            "metadata": {},
            "outputs": [
                {
                    "name": "stdout",
                    "output_type": "stream",
                    "text": [
                        ">>> CV Result (ExtraTrees)\n",
                        "accuracy_mean: 0.9615\n",
                        "accuracy_std:  0.0065\n",
                        "auc_mean:      0.9772\n",
                        "auc_std:       0.0061\n",
                        "CPU times: total: 22.6 s\n",
                        "Wall time: 42.8 s\n"
                    ]
                }
            ],
            "source": [
                "%%time\n",
                "from sklearn.ensemble import ExtraTreesClassifier\n",
                "\n",
                "extra_trees_model = ExtraTreesClassifier(\n",
                "    class_weight='balanced',\n",
                "    random_state=SEED,\n",
                "    n_jobs=-1,  # use all processors\n",
                ")\n",
                "\n",
                "test_and_update(\n",
                "    'ExtraTrees',\n",
                "    extra_trees_model,\n",
                "    encode='dummy',\n",
                ")\n"
            ]
        },
        {
            "attachments": {},
            "cell_type": "markdown",
            "metadata": {},
            "source": [
                "## Ridge Classifier\n"
            ]
        },
        {
            "cell_type": "code",
            "execution_count": 18,
            "metadata": {},
            "outputs": [
                {
                    "name": "stdout",
                    "output_type": "stream",
                    "text": [
                        ">>> CV Result (Ridge)\n",
                        "accuracy_mean: 0.9614\n",
                        "accuracy_std:  0.0065\n",
                        "auc_mean:      0.9525\n",
                        "auc_std:       0.0130\n",
                        "CPU times: total: 13.9 s\n",
                        "Wall time: 12.8 s\n"
                    ]
                }
            ],
            "source": [
                "%%time\n",
                "from sklearn.linear_model import RidgeClassifier\n",
                "\n",
                "ridge_model = RidgeClassifier(\n",
                "    # class_weight='balanced',  # worse...\n",
                "    random_state=SEED,\n",
                ")\n",
                "\n",
                "test_and_update(\n",
                "    'Ridge',\n",
                "    ridge_model,\n",
                "    encode='dummy',\n",
                ")\n"
            ]
        },
        {
            "attachments": {},
            "cell_type": "markdown",
            "metadata": {},
            "source": [
                "## Logistic Regression\n"
            ]
        },
        {
            "cell_type": "code",
            "execution_count": 19,
            "metadata": {},
            "outputs": [
                {
                    "name": "stdout",
                    "output_type": "stream",
                    "text": [
                        ">>> CV Result (Logistic)\n",
                        "accuracy_mean: 0.9656\n",
                        "accuracy_std:  0.0066\n",
                        "auc_mean:      0.9555\n",
                        "auc_std:       0.0116\n",
                        "CPU times: total: 12.2 s\n",
                        "Wall time: 26.5 s\n"
                    ]
                }
            ],
            "source": [
                "%%time\n",
                "from sklearn.linear_model import LogisticRegression\n",
                "\n",
                "logistic_model = LogisticRegression(\n",
                "    solver='newton-cholesky',\n",
                "    # class_weight='balanced',  # worse...\n",
                "    random_state=SEED,\n",
                "    n_jobs=-1,  # use all processors\n",
                ")\n",
                "\n",
                "test_and_update(\n",
                "    'Logistic',\n",
                "    logistic_model,\n",
                "    encode='dummy',\n",
                ")\n"
            ]
        },
        {
            "attachments": {},
            "cell_type": "markdown",
            "metadata": {},
            "source": [
                "## K-Nearest Neighbors\n"
            ]
        },
        {
            "cell_type": "code",
            "execution_count": 21,
            "metadata": {},
            "outputs": [
                {
                    "name": "stdout",
                    "output_type": "stream",
                    "text": [
                        ">>> CV Result (KNN)\n",
                        "accuracy_mean: 0.9506\n",
                        "accuracy_std:  0.0055\n",
                        "auc_mean:      0.5439\n",
                        "auc_std:       0.0250\n",
                        "CPU times: total: 8min 35s\n",
                        "Wall time: 56 s\n"
                    ]
                }
            ],
            "source": [
                "%%time\n",
                "from sklearn.neighbors import KNeighborsClassifier\n",
                "\n",
                "KNN_model = KNeighborsClassifier(\n",
                "    n_jobs=-1,  # use all processors\n",
                ")\n",
                "\n",
                "test_and_update(\n",
                "    'KNN',\n",
                "    KNN_model,\n",
                "    encode='dummy',\n",
                ")\n"
            ]
        },
        {
            "attachments": {},
            "cell_type": "markdown",
            "metadata": {},
            "source": [
                "## AdaBoost\n"
            ]
        },
        {
            "cell_type": "code",
            "execution_count": 22,
            "metadata": {},
            "outputs": [
                {
                    "name": "stdout",
                    "output_type": "stream",
                    "text": [
                        ">>> CV Result (AdaBoost)\n",
                        "accuracy_mean: 0.9930\n",
                        "accuracy_std:  0.0019\n",
                        "auc_mean:      0.9947\n",
                        "auc_std:       0.0017\n",
                        "CPU times: total: 11.3 s\n",
                        "Wall time: 37.3 s\n"
                    ]
                }
            ],
            "source": [
                "%%time\n",
                "from sklearn.ensemble import AdaBoostClassifier\n",
                "from sklearn.tree import DecisionTreeClassifier\n",
                "\n",
                "adaboost_model = AdaBoostClassifier(\n",
                "    random_state=SEED,\n",
                ")\n",
                "\n",
                "test_and_update(\n",
                "    'AdaBoost',\n",
                "    adaboost_model,\n",
                "    encode='dummy',\n",
                "    n_jobs=-1,\n",
                ")\n"
            ]
        },
        {
            "attachments": {},
            "cell_type": "markdown",
            "metadata": {},
            "source": [
                "## Linear Discriminant Analysis\n"
            ]
        },
        {
            "cell_type": "code",
            "execution_count": 23,
            "metadata": {},
            "outputs": [
                {
                    "name": "stdout",
                    "output_type": "stream",
                    "text": [
                        ">>> CV Result (LDA)\n",
                        "accuracy_mean: 0.9608\n",
                        "accuracy_std:  0.0097\n",
                        "auc_mean:      0.9525\n",
                        "auc_std:       0.0130\n",
                        "CPU times: total: 11.2 s\n",
                        "Wall time: 17 s\n"
                    ]
                }
            ],
            "source": [
                "%%time\n",
                "from sklearn.discriminant_analysis import LinearDiscriminantAnalysis\n",
                "\n",
                "lda_model = LinearDiscriminantAnalysis()\n",
                "\n",
                "test_and_update(\n",
                "    'LDA',\n",
                "    lda_model,\n",
                "    encode='dummy',\n",
                "    n_jobs=-1,\n",
                ")\n"
            ]
        },
        {
            "attachments": {},
            "cell_type": "markdown",
            "metadata": {},
            "source": [
                "## MLP\n"
            ]
        },
        {
            "cell_type": "code",
            "execution_count": 24,
            "metadata": {},
            "outputs": [
                {
                    "name": "stdout",
                    "output_type": "stream",
                    "text": [
                        ">>> CV Result (MLP)\n",
                        "accuracy_mean: 0.9816\n",
                        "accuracy_std:  0.0037\n",
                        "auc_mean:      0.9747\n",
                        "auc_std:       0.0083\n",
                        "CPU times: total: 11.2 s\n",
                        "Wall time: 41 s\n"
                    ]
                }
            ],
            "source": [
                "%%time\n",
                "from sklearn.neural_network import MLPClassifier\n",
                "\n",
                "mlp_model = make_pipeline(\n",
                "    StandardScaler(),\n",
                "    MLPClassifier(\n",
                "        hidden_layer_sizes=(100,),\n",
                "        early_stopping=True,\n",
                "        max_iter=1000,\n",
                "        random_state=SEED,\n",
                "    ),\n",
                ")\n",
                "\n",
                "test_and_update(\n",
                "    'MLP',\n",
                "    mlp_model,\n",
                "    encode='dummy',\n",
                "    n_jobs=-1,\n",
                ")\n"
            ]
        },
        {
            "attachments": {},
            "cell_type": "markdown",
            "metadata": {},
            "source": [
                "## Decision Tree\n"
            ]
        },
        {
            "cell_type": "code",
            "execution_count": 25,
            "metadata": {},
            "outputs": [
                {
                    "name": "stdout",
                    "output_type": "stream",
                    "text": [
                        ">>> CV Result (DecisionTree)\n",
                        "accuracy_mean: 0.9892\n",
                        "accuracy_std:  0.0020\n",
                        "auc_mean:      0.9487\n",
                        "auc_std:       0.0129\n",
                        "CPU times: total: 11.2 s\n",
                        "Wall time: 14.4 s\n"
                    ]
                }
            ],
            "source": [
                "%%time\n",
                "from sklearn.tree import DecisionTreeClassifier\n",
                "\n",
                "decision_tree_model = DecisionTreeClassifier(\n",
                "    class_weight='balanced',\n",
                "    random_state=SEED,\n",
                ")\n",
                "\n",
                "test_and_update(\n",
                "    'DecisionTree',\n",
                "    decision_tree_model,\n",
                "    encode='dummy',\n",
                "    n_jobs=-1,\n",
                ")\n"
            ]
        },
        {
            "attachments": {},
            "cell_type": "markdown",
            "metadata": {},
            "source": [
                "## SVM (With RBF Kernel)\n"
            ]
        },
        {
            "cell_type": "code",
            "execution_count": 27,
            "metadata": {},
            "outputs": [
                {
                    "name": "stdout",
                    "output_type": "stream",
                    "text": [
                        ">>> CV Result (SVM)\n",
                        "accuracy_mean: 0.9731\n",
                        "accuracy_std:  0.0031\n",
                        "auc_mean:      0.9573\n",
                        "auc_std:       0.0107\n",
                        "CPU times: total: 11.2 s\n",
                        "Wall time: 3min 41s\n"
                    ]
                }
            ],
            "source": [
                "%%time\n",
                "from sklearn.svm import SVC\n",
                "\n",
                "svm_model = make_pipeline(\n",
                "    StandardScaler(),\n",
                "    SVC(\n",
                "        kernel='rbf',  # default\n",
                "        random_state=SEED,\n",
                "    ),\n",
                ")\n",
                "\n",
                "test_and_update(\n",
                "    'SVM',\n",
                "    svm_model,\n",
                "    encode='dummy',\n",
                "    n_jobs=-1,\n",
                ")\n"
            ]
        },
        {
            "attachments": {},
            "cell_type": "markdown",
            "metadata": {},
            "source": [
                "## Naive Bayes\n"
            ]
        },
        {
            "cell_type": "code",
            "execution_count": 28,
            "metadata": {},
            "outputs": [
                {
                    "name": "stdout",
                    "output_type": "stream",
                    "text": [
                        ">>> CV Result (NaiveBayes)\n",
                        "accuracy_mean: 0.9615\n",
                        "accuracy_std:  0.0065\n",
                        "auc_mean:      0.6887\n",
                        "auc_std:       0.0337\n",
                        "CPU times: total: 11.2 s\n",
                        "Wall time: 12 s\n"
                    ]
                }
            ],
            "source": [
                "%%time\n",
                "from sklearn.naive_bayes import MultinomialNB\n",
                "\n",
                "nb_model = make_pipeline(\n",
                "    MinMaxScaler(),\n",
                "    MultinomialNB(),\n",
                ")\n",
                "\n",
                "test_and_update(\n",
                "    'NaiveBayes',\n",
                "    nb_model,\n",
                "    encode='dummy',\n",
                "    n_jobs=-1,\n",
                ")\n"
            ]
        },
        {
            "attachments": {},
            "cell_type": "markdown",
            "metadata": {},
            "source": [
                "## Save Result\n"
            ]
        },
        {
            "cell_type": "code",
            "execution_count": 29,
            "metadata": {},
            "outputs": [],
            "source": [
                "df_result.to_csv(MODEL_RESULT_PATH)\n"
            ]
        },
        {
            "attachments": {},
            "cell_type": "markdown",
            "metadata": {},
            "source": [
                "## Summary\n"
            ]
        },
        {
            "cell_type": "code",
            "execution_count": 30,
            "metadata": {},
            "outputs": [
                {
                    "data": {
                        "text/html": [
                            "<style type=\"text/css\">\n",
                            "</style>\n",
                            "<table id=\"T_ecce1_\">\n",
                            "  <thead>\n",
                            "    <tr>\n",
                            "      <th class=\"index_name level0\" ></th>\n",
                            "      <th class=\"col_heading level0 col0\" >Accuracy Mean</th>\n",
                            "      <th class=\"col_heading level0 col1\" >Accuracy Std</th>\n",
                            "      <th class=\"col_heading level0 col2\" >AUC Mean</th>\n",
                            "      <th class=\"col_heading level0 col3\" >AUC Std</th>\n",
                            "    </tr>\n",
                            "    <tr>\n",
                            "      <th class=\"index_name level0\" >Model Name</th>\n",
                            "      <th class=\"blank col0\" >&nbsp;</th>\n",
                            "      <th class=\"blank col1\" >&nbsp;</th>\n",
                            "      <th class=\"blank col2\" >&nbsp;</th>\n",
                            "      <th class=\"blank col3\" >&nbsp;</th>\n",
                            "    </tr>\n",
                            "  </thead>\n",
                            "  <tbody>\n",
                            "    <tr>\n",
                            "      <th id=\"T_ecce1_level0_row0\" class=\"row_heading level0 row0\" >CatBoost</th>\n",
                            "      <td id=\"T_ecce1_row0_col0\" class=\"data row0 col0\" >0.9956</td>\n",
                            "      <td id=\"T_ecce1_row0_col1\" class=\"data row0 col1\" >0.0011</td>\n",
                            "      <td id=\"T_ecce1_row0_col2\" class=\"data row0 col2\" >0.9961</td>\n",
                            "      <td id=\"T_ecce1_row0_col3\" class=\"data row0 col3\" >0.0012</td>\n",
                            "    </tr>\n",
                            "    <tr>\n",
                            "      <th id=\"T_ecce1_level0_row1\" class=\"row_heading level0 row1\" >LightGB</th>\n",
                            "      <td id=\"T_ecce1_row1_col0\" class=\"data row1 col0\" >0.9952</td>\n",
                            "      <td id=\"T_ecce1_row1_col1\" class=\"data row1 col1\" >0.0014</td>\n",
                            "      <td id=\"T_ecce1_row1_col2\" class=\"data row1 col2\" >0.9961</td>\n",
                            "      <td id=\"T_ecce1_row1_col3\" class=\"data row1 col3\" >0.0015</td>\n",
                            "    </tr>\n",
                            "    <tr>\n",
                            "      <th id=\"T_ecce1_level0_row2\" class=\"row_heading level0 row2\" >XGBoost</th>\n",
                            "      <td id=\"T_ecce1_row2_col0\" class=\"data row2 col0\" >0.9951</td>\n",
                            "      <td id=\"T_ecce1_row2_col1\" class=\"data row2 col1\" >0.0011</td>\n",
                            "      <td id=\"T_ecce1_row2_col2\" class=\"data row2 col2\" >0.9943</td>\n",
                            "      <td id=\"T_ecce1_row2_col3\" class=\"data row2 col3\" >0.0018</td>\n",
                            "    </tr>\n",
                            "    <tr>\n",
                            "      <th id=\"T_ecce1_level0_row3\" class=\"row_heading level0 row3\" >HistGB</th>\n",
                            "      <td id=\"T_ecce1_row3_col0\" class=\"data row3 col0\" >0.9944</td>\n",
                            "      <td id=\"T_ecce1_row3_col1\" class=\"data row3 col1\" >0.0015</td>\n",
                            "      <td id=\"T_ecce1_row3_col2\" class=\"data row3 col2\" >0.9956</td>\n",
                            "      <td id=\"T_ecce1_row3_col3\" class=\"data row3 col3\" >0.0016</td>\n",
                            "    </tr>\n",
                            "    <tr>\n",
                            "      <th id=\"T_ecce1_level0_row4\" class=\"row_heading level0 row4\" >AdaBoost</th>\n",
                            "      <td id=\"T_ecce1_row4_col0\" class=\"data row4 col0\" >0.9930</td>\n",
                            "      <td id=\"T_ecce1_row4_col1\" class=\"data row4 col1\" >0.0019</td>\n",
                            "      <td id=\"T_ecce1_row4_col2\" class=\"data row4 col2\" >0.9947</td>\n",
                            "      <td id=\"T_ecce1_row4_col3\" class=\"data row4 col3\" >0.0017</td>\n",
                            "    </tr>\n",
                            "    <tr>\n",
                            "      <th id=\"T_ecce1_level0_row5\" class=\"row_heading level0 row5\" >DecisionTree</th>\n",
                            "      <td id=\"T_ecce1_row5_col0\" class=\"data row5 col0\" >0.9892</td>\n",
                            "      <td id=\"T_ecce1_row5_col1\" class=\"data row5 col1\" >0.0020</td>\n",
                            "      <td id=\"T_ecce1_row5_col2\" class=\"data row5 col2\" >0.9487</td>\n",
                            "      <td id=\"T_ecce1_row5_col3\" class=\"data row5 col3\" >0.0129</td>\n",
                            "    </tr>\n",
                            "    <tr>\n",
                            "      <th id=\"T_ecce1_level0_row6\" class=\"row_heading level0 row6\" >MLP</th>\n",
                            "      <td id=\"T_ecce1_row6_col0\" class=\"data row6 col0\" >0.9816</td>\n",
                            "      <td id=\"T_ecce1_row6_col1\" class=\"data row6 col1\" >0.0037</td>\n",
                            "      <td id=\"T_ecce1_row6_col2\" class=\"data row6 col2\" >0.9747</td>\n",
                            "      <td id=\"T_ecce1_row6_col3\" class=\"data row6 col3\" >0.0083</td>\n",
                            "    </tr>\n",
                            "    <tr>\n",
                            "      <th id=\"T_ecce1_level0_row7\" class=\"row_heading level0 row7\" >SVM</th>\n",
                            "      <td id=\"T_ecce1_row7_col0\" class=\"data row7 col0\" >0.9731</td>\n",
                            "      <td id=\"T_ecce1_row7_col1\" class=\"data row7 col1\" >0.0031</td>\n",
                            "      <td id=\"T_ecce1_row7_col2\" class=\"data row7 col2\" >0.9573</td>\n",
                            "      <td id=\"T_ecce1_row7_col3\" class=\"data row7 col3\" >0.0107</td>\n",
                            "    </tr>\n",
                            "    <tr>\n",
                            "      <th id=\"T_ecce1_level0_row8\" class=\"row_heading level0 row8\" >Logistic</th>\n",
                            "      <td id=\"T_ecce1_row8_col0\" class=\"data row8 col0\" >0.9656</td>\n",
                            "      <td id=\"T_ecce1_row8_col1\" class=\"data row8 col1\" >0.0066</td>\n",
                            "      <td id=\"T_ecce1_row8_col2\" class=\"data row8 col2\" >0.9555</td>\n",
                            "      <td id=\"T_ecce1_row8_col3\" class=\"data row8 col3\" >0.0116</td>\n",
                            "    </tr>\n",
                            "    <tr>\n",
                            "      <th id=\"T_ecce1_level0_row9\" class=\"row_heading level0 row9\" >ExtraTrees</th>\n",
                            "      <td id=\"T_ecce1_row9_col0\" class=\"data row9 col0\" >0.9615</td>\n",
                            "      <td id=\"T_ecce1_row9_col1\" class=\"data row9 col1\" >0.0065</td>\n",
                            "      <td id=\"T_ecce1_row9_col2\" class=\"data row9 col2\" >0.9772</td>\n",
                            "      <td id=\"T_ecce1_row9_col3\" class=\"data row9 col3\" >0.0061</td>\n",
                            "    </tr>\n",
                            "    <tr>\n",
                            "      <th id=\"T_ecce1_level0_row10\" class=\"row_heading level0 row10\" >NaiveBayes</th>\n",
                            "      <td id=\"T_ecce1_row10_col0\" class=\"data row10 col0\" >0.9615</td>\n",
                            "      <td id=\"T_ecce1_row10_col1\" class=\"data row10 col1\" >0.0065</td>\n",
                            "      <td id=\"T_ecce1_row10_col2\" class=\"data row10 col2\" >0.6887</td>\n",
                            "      <td id=\"T_ecce1_row10_col3\" class=\"data row10 col3\" >0.0337</td>\n",
                            "    </tr>\n",
                            "    <tr>\n",
                            "      <th id=\"T_ecce1_level0_row11\" class=\"row_heading level0 row11\" >Ridge</th>\n",
                            "      <td id=\"T_ecce1_row11_col0\" class=\"data row11 col0\" >0.9614</td>\n",
                            "      <td id=\"T_ecce1_row11_col1\" class=\"data row11 col1\" >0.0065</td>\n",
                            "      <td id=\"T_ecce1_row11_col2\" class=\"data row11 col2\" >0.9525</td>\n",
                            "      <td id=\"T_ecce1_row11_col3\" class=\"data row11 col3\" >0.0130</td>\n",
                            "    </tr>\n",
                            "    <tr>\n",
                            "      <th id=\"T_ecce1_level0_row12\" class=\"row_heading level0 row12\" >LDA</th>\n",
                            "      <td id=\"T_ecce1_row12_col0\" class=\"data row12 col0\" >0.9608</td>\n",
                            "      <td id=\"T_ecce1_row12_col1\" class=\"data row12 col1\" >0.0097</td>\n",
                            "      <td id=\"T_ecce1_row12_col2\" class=\"data row12 col2\" >0.9525</td>\n",
                            "      <td id=\"T_ecce1_row12_col3\" class=\"data row12 col3\" >0.0130</td>\n",
                            "    </tr>\n",
                            "    <tr>\n",
                            "      <th id=\"T_ecce1_level0_row13\" class=\"row_heading level0 row13\" >KNN</th>\n",
                            "      <td id=\"T_ecce1_row13_col0\" class=\"data row13 col0\" >0.9506</td>\n",
                            "      <td id=\"T_ecce1_row13_col1\" class=\"data row13 col1\" >0.0055</td>\n",
                            "      <td id=\"T_ecce1_row13_col2\" class=\"data row13 col2\" >0.5439</td>\n",
                            "      <td id=\"T_ecce1_row13_col3\" class=\"data row13 col3\" >0.0250</td>\n",
                            "    </tr>\n",
                            "  </tbody>\n",
                            "</table>\n"
                        ],
                        "text/plain": [
                            "<pandas.io.formats.style.Styler at 0x2170118d550>"
                        ]
                    },
                    "execution_count": 30,
                    "metadata": {},
                    "output_type": "execute_result"
                }
            ],
            "source": [
                "df_summary = df_result.T.sort_values(\n",
                "    by=['Accuracy Mean', 'AUC Mean'],\n",
                "    ascending=False,\n",
                ").copy()\n",
                "df_summary.columns.name = ''\n",
                "df_summary.index.name = 'Model Name'\n",
                "df_summary.style.format('{:.4f}')\n"
            ]
        }
    ],
    "metadata": {
        "kernelspec": {
            "display_name": "Python 3.9.2 64-bit",
            "language": "python",
            "name": "python3"
        },
        "language_info": {
            "codemirror_mode": {
                "name": "ipython",
                "version": 3
            },
            "file_extension": ".py",
            "mimetype": "text/x-python",
            "name": "python",
            "nbconvert_exporter": "python",
            "pygments_lexer": "ipython3",
            "version": "3.9.2 (tags/v3.9.2:1a79785, Feb 19 2021, 13:44:55) [MSC v.1928 64 bit (AMD64)]"
        },
        "orig_nbformat": 4,
        "vscode": {
            "interpreter": {
                "hash": "f7976576504ac6c456dadd405d7477574ca2a64265ee4724cfbc25daae5f6d94"
            }
        }
    },
    "nbformat": 4,
    "nbformat_minor": 2
}
