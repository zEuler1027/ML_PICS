{
 "cells": [
  {
   "attachments": {},
   "cell_type": "markdown",
   "metadata": {},
   "source": [
    "# Models (sepsis-pics)\n"
   ]
  },
  {
   "attachments": {},
   "cell_type": "markdown",
   "metadata": {},
   "source": [
    "## Common\n"
   ]
  },
  {
   "cell_type": "code",
   "execution_count": 14,
   "metadata": {},
   "outputs": [],
   "source": [
    "import numpy as np\n",
    "import pandas as pd\n",
    "import matplotlib.pyplot as plt\n",
    "from sklearn.model_selection import cross_validate\n",
    "from sklearn.pipeline import make_pipeline\n",
    "from sklearn.preprocessing import StandardScaler, MinMaxScaler\n",
    "from common_eicu import KEY_IDENTITY, KEY_FLAG, CATEGORICAL_COLUMNS_FULL\n",
    "from common_model import SEED, SCORING, cv\n"
   ]
  },
  {
   "cell_type": "code",
   "execution_count": 2,
   "metadata": {},
   "outputs": [
    {
     "name": "stdout",
     "output_type": "stream",
     "text": [
      "index                 accuracy mean  accuracy std  AUC mean   AUC std\n",
      "NaiveBayes                 0.355021      0.077871  0.847471  0.032685\n",
      "KNN                        0.951654      0.006188  0.538089  0.014292\n",
      "LDA                        0.960859      0.007866  0.952716  0.008640\n",
      "Ridge                      0.961338      0.006027  0.952718  0.008641\n",
      "ExtraTrees                 0.961367      0.006078  0.979020  0.005014\n",
      "Logistic                   0.965813      0.006286  0.954961  0.005054\n",
      "SVM                        0.973148      0.004429  0.956572  0.005167\n",
      "MLP                        0.980292      0.002775  0.971080  0.008732\n",
      "DecisionTree               0.990703      0.001290  0.949481  0.006011\n",
      "AdaBoost                   0.993110      0.001999  0.994568  0.002271\n",
      "HistGradientBoosting       0.994059      0.001413  0.995656  0.002128\n",
      "XGBoost                    0.995220      0.000405  0.995103  0.002424\n",
      "LightGB                    0.995400      0.000900  0.996000  0.001600\n",
      "CatBoost                   0.995700      0.000700  0.995700  0.002100\n"
     ]
    }
   ],
   "source": [
    "MODEL_RESULT_PATH = './data/model_result.csv'\n",
    "\n",
    "# index: 'accuracy mean', 'accuracy std', 'AUC mean', 'AUC std'\n",
    "df_result = pd.read_csv(\n",
    "    MODEL_RESULT_PATH,\n",
    "    index_col='index',\n",
    ")\n",
    "print(df_result.T.sort_values(by=['accuracy mean', 'AUC mean']))\n",
    "\n",
    "def update_result(name, *, accuracy_mean, accuracy_std, auc_mean, auc_std):\n",
    "    df_result[name] = [accuracy_mean, accuracy_std, auc_mean, auc_std]\n"
   ]
  },
  {
   "cell_type": "code",
   "execution_count": 3,
   "metadata": {},
   "outputs": [],
   "source": [
    "def plot_roc_file(title, input_path, auc_mean, auc_std):\n",
    "\n",
    "    df_roc = pd.read_csv(input_path, sep='\\t')\n",
    "    fig = plt.figure(figsize=(7, 6))\n",
    "    ax = fig.add_subplot()\n",
    "\n",
    "    ax.set_title(title)\n",
    "    ax.set_xlabel('False Positive Rate')\n",
    "    ax.set_ylabel('True Positive Rate')\n",
    "\n",
    "    t = [0, 1]\n",
    "    ax.plot(t, t, '--', c='lightgray', label='chance level (AUC = 0.5)')\n",
    "\n",
    "    x = df_roc['FPR']\n",
    "    y = df_roc['TPR']\n",
    "    label = fr'ROC (AUC = {auc_mean:.2f} $\\pm$ {auc_std:.2f})'\n",
    "    ax.plot(x, y, 'b-', label=label)\n",
    "\n",
    "    ax.legend(loc='lower right')\n"
   ]
  },
  {
   "cell_type": "code",
   "execution_count": 4,
   "metadata": {},
   "outputs": [],
   "source": [
    "def test_sklearn(name, model, *, encode=False, n_jobs=None):\n",
    "    '''\n",
    "    Test the given model using sklearn's\n",
    "    cross validation, print the result\n",
    "    and pass it to `update_result`.\n",
    "\n",
    "    Parameters\n",
    "    ----------\n",
    "    name : str\n",
    "        Model name.\n",
    "    model : scikit-learn compact model\n",
    "        The model to test.\n",
    "    encode : False, 'ordinal' or 'dummy', default=False\n",
    "        Category encoding option.\n",
    "        False - No encoding.\n",
    "        'ordinal' - Use ordinal encoder.\n",
    "        'dummy' - Use dummy encoder.\n",
    "    n_jobs : int or None, default=None\n",
    "        Number of jobs to run in parallel.\n",
    "    '''\n",
    "\n",
    "    if encode == 'dummy':\n",
    "        X = X_dummy\n",
    "    elif encode == 'ordinal':\n",
    "        X = X_ordinal\n",
    "    else:\n",
    "        X = X_raw\n",
    "\n",
    "    scores = cross_validate(\n",
    "        model,\n",
    "        X,\n",
    "        y,\n",
    "        cv=cv,\n",
    "        scoring=SCORING,\n",
    "        groups=groups,\n",
    "        n_jobs=n_jobs,\n",
    "    )\n",
    "\n",
    "    scores_accuracy = scores['test_accuracy']\n",
    "    accuracy_mean = scores_accuracy.mean()\n",
    "    accuracy_std = scores_accuracy.std()\n",
    "    scores_auc = scores['test_roc_auc']\n",
    "    auc_mean = scores_auc.mean()\n",
    "    auc_std = scores_auc.std()\n",
    "    update_result(\n",
    "        name,\n",
    "        accuracy_mean=accuracy_mean,\n",
    "        accuracy_std=accuracy_std,\n",
    "        auc_mean=auc_mean,\n",
    "        auc_std=auc_std,\n",
    "    )\n",
    "\n",
    "    print(f'>>> CV Result ({name})')\n",
    "    print(f'accuracy_mean: {accuracy_mean:.4f}')\n",
    "    print(f'accuracy_std:  {accuracy_std:.4f}')\n",
    "    print(f'auc_mean:      {auc_mean:.4f}')\n",
    "    print(f'auc_std:       {auc_std:.4f}')\n"
   ]
  },
  {
   "cell_type": "markdown",
   "metadata": {},
   "source": [
    "## Prepare Data\n"
   ]
  },
  {
   "cell_type": "code",
   "execution_count": 5,
   "metadata": {},
   "outputs": [],
   "source": [
    "df_data = pd.read_csv('./data/data_eicu_full.csv.gz')\n",
    "\n",
    "# clamp infinite values\n",
    "df_data.replace(np.inf, 9999, inplace=True)\n",
    "\n",
    "# set categorical columns\n",
    "for column_name in CATEGORICAL_COLUMNS_FULL:\n",
    "    df_data[column_name] = df_data[column_name].astype('category')\n"
   ]
  },
  {
   "cell_type": "code",
   "execution_count": 6,
   "metadata": {},
   "outputs": [
    {
     "name": "stdout",
     "output_type": "stream",
     "text": [
      "<class 'pandas.core.frame.DataFrame'>\n",
      "RangeIndex: 100133 entries, 0 to 100132\n",
      "Data columns (total 59 columns):\n",
      " #   Column              Non-Null Count   Dtype   \n",
      "---  ------              --------------   -----   \n",
      " 0   gender              100133 non-null  category\n",
      " 1   age                 100133 non-null  float64 \n",
      " 2   ethnicity           100133 non-null  category\n",
      " 3   offset              100133 non-null  int64   \n",
      " 4   vasopressor         100133 non-null  category\n",
      " 5   heparin             100133 non-null  category\n",
      " 6   urine               100133 non-null  float64 \n",
      " 7   PEEP                100133 non-null  float64 \n",
      " 8   creatinine          100133 non-null  float64 \n",
      " 9   platelet            100133 non-null  float64 \n",
      " 10  INR                 100133 non-null  float64 \n",
      " 11  PT                  100133 non-null  float64 \n",
      " 12  PTT                 100133 non-null  float64 \n",
      " 13  lactate             100133 non-null  float64 \n",
      " 14  RDW                 100133 non-null  float64 \n",
      " 15  total bilirubin     100133 non-null  float64 \n",
      " 16  direct bilirubin    100133 non-null  float64 \n",
      " 17  bicarbonate         100133 non-null  float64 \n",
      " 18  CRP                 100133 non-null  float64 \n",
      " 19  lymph               100133 non-null  float64 \n",
      " 20  albumin             100133 non-null  float64 \n",
      " 21  prealbumin          100133 non-null  float64 \n",
      " 22  WBC                 100133 non-null  float64 \n",
      " 23  total protein       100133 non-null  float64 \n",
      " 24  anion gap           100133 non-null  float64 \n",
      " 25  BUN                 100133 non-null  float64 \n",
      " 26  fibrinogen          100133 non-null  float64 \n",
      " 27  MCH                 100133 non-null  float64 \n",
      " 28  MCHC                100133 non-null  float64 \n",
      " 29  MCV                 100133 non-null  float64 \n",
      " 30  ALT                 100133 non-null  float64 \n",
      " 31  AST                 100133 non-null  float64 \n",
      " 32  RBC                 100133 non-null  float64 \n",
      " 33  pH                  100133 non-null  float64 \n",
      " 34  paO2                100133 non-null  float64 \n",
      " 35  paCO2               100133 non-null  float64 \n",
      " 36  FiO2                100133 non-null  float64 \n",
      " 37  Total CO2           100133 non-null  float64 \n",
      " 38  chloride            100133 non-null  float64 \n",
      " 39  calcium             100133 non-null  float64 \n",
      " 40  potassium           100133 non-null  float64 \n",
      " 41  sodium              100133 non-null  float64 \n",
      " 42  glucose             100133 non-null  float64 \n",
      " 43  Base Excess         100133 non-null  float64 \n",
      " 44  Hct                 100133 non-null  float64 \n",
      " 45  Methemoglobin       100133 non-null  float64 \n",
      " 46  MAP                 100133 non-null  float64 \n",
      " 47  heart rate          100133 non-null  float64 \n",
      " 48  respiration rate    100133 non-null  float64 \n",
      " 49  SpO2                100133 non-null  float64 \n",
      " 50  temperature         100133 non-null  float64 \n",
      " 51  RBC transfusion     100133 non-null  float64 \n",
      " 52  FFP transfusion     100133 non-null  float64 \n",
      " 53  PLT transfusion     100133 non-null  float64 \n",
      " 54  BMI                 100133 non-null  float64 \n",
      " 55  indirect bilirubin  100133 non-null  float64 \n",
      " 56  PaO2/FiO2           100133 non-null  float64 \n",
      " 57  SpO2/FiO2           100133 non-null  float64 \n",
      " 58  ROX index           100133 non-null  float64 \n",
      "dtypes: category(4), float64(54), int64(1)\n",
      "memory usage: 42.4 MB\n"
     ]
    }
   ],
   "source": [
    "X_raw = df_data.drop(columns=[KEY_IDENTITY, KEY_FLAG])\n",
    "X_raw.info()\n"
   ]
  },
  {
   "cell_type": "code",
   "execution_count": 7,
   "metadata": {},
   "outputs": [
    {
     "name": "stdout",
     "output_type": "stream",
     "text": [
      "<class 'pandas.core.frame.DataFrame'>\n",
      "RangeIndex: 100133 entries, 0 to 100132\n",
      "Data columns (total 68 columns):\n",
      " #   Column                      Non-Null Count   Dtype  \n",
      "---  ------                      --------------   -----  \n",
      " 0   age                         100133 non-null  float64\n",
      " 1   offset                      100133 non-null  int64  \n",
      " 2   urine                       100133 non-null  float64\n",
      " 3   PEEP                        100133 non-null  float64\n",
      " 4   creatinine                  100133 non-null  float64\n",
      " 5   platelet                    100133 non-null  float64\n",
      " 6   INR                         100133 non-null  float64\n",
      " 7   PT                          100133 non-null  float64\n",
      " 8   PTT                         100133 non-null  float64\n",
      " 9   lactate                     100133 non-null  float64\n",
      " 10  RDW                         100133 non-null  float64\n",
      " 11  total bilirubin             100133 non-null  float64\n",
      " 12  direct bilirubin            100133 non-null  float64\n",
      " 13  bicarbonate                 100133 non-null  float64\n",
      " 14  CRP                         100133 non-null  float64\n",
      " 15  lymph                       100133 non-null  float64\n",
      " 16  albumin                     100133 non-null  float64\n",
      " 17  prealbumin                  100133 non-null  float64\n",
      " 18  WBC                         100133 non-null  float64\n",
      " 19  total protein               100133 non-null  float64\n",
      " 20  anion gap                   100133 non-null  float64\n",
      " 21  BUN                         100133 non-null  float64\n",
      " 22  fibrinogen                  100133 non-null  float64\n",
      " 23  MCH                         100133 non-null  float64\n",
      " 24  MCHC                        100133 non-null  float64\n",
      " 25  MCV                         100133 non-null  float64\n",
      " 26  ALT                         100133 non-null  float64\n",
      " 27  AST                         100133 non-null  float64\n",
      " 28  RBC                         100133 non-null  float64\n",
      " 29  pH                          100133 non-null  float64\n",
      " 30  paO2                        100133 non-null  float64\n",
      " 31  paCO2                       100133 non-null  float64\n",
      " 32  FiO2                        100133 non-null  float64\n",
      " 33  Total CO2                   100133 non-null  float64\n",
      " 34  chloride                    100133 non-null  float64\n",
      " 35  calcium                     100133 non-null  float64\n",
      " 36  potassium                   100133 non-null  float64\n",
      " 37  sodium                      100133 non-null  float64\n",
      " 38  glucose                     100133 non-null  float64\n",
      " 39  Base Excess                 100133 non-null  float64\n",
      " 40  Hct                         100133 non-null  float64\n",
      " 41  Methemoglobin               100133 non-null  float64\n",
      " 42  MAP                         100133 non-null  float64\n",
      " 43  heart rate                  100133 non-null  float64\n",
      " 44  respiration rate            100133 non-null  float64\n",
      " 45  SpO2                        100133 non-null  float64\n",
      " 46  temperature                 100133 non-null  float64\n",
      " 47  RBC transfusion             100133 non-null  float64\n",
      " 48  FFP transfusion             100133 non-null  float64\n",
      " 49  PLT transfusion             100133 non-null  float64\n",
      " 50  BMI                         100133 non-null  float64\n",
      " 51  indirect bilirubin          100133 non-null  float64\n",
      " 52  PaO2/FiO2                   100133 non-null  float64\n",
      " 53  SpO2/FiO2                   100133 non-null  float64\n",
      " 54  ROX index                   100133 non-null  float64\n",
      " 55  gender_Female               100133 non-null  uint8  \n",
      " 56  gender_Male                 100133 non-null  uint8  \n",
      " 57  gender_Other                100133 non-null  uint8  \n",
      " 58  ethnicity_African American  100133 non-null  uint8  \n",
      " 59  ethnicity_Asian             100133 non-null  uint8  \n",
      " 60  ethnicity_Caucasian         100133 non-null  uint8  \n",
      " 61  ethnicity_Hispanic          100133 non-null  uint8  \n",
      " 62  ethnicity_Native American   100133 non-null  uint8  \n",
      " 63  ethnicity_Other/Unknown     100133 non-null  uint8  \n",
      " 64  vasopressor_0               100133 non-null  uint8  \n",
      " 65  vasopressor_1               100133 non-null  uint8  \n",
      " 66  heparin_0                   100133 non-null  uint8  \n",
      " 67  heparin_1                   100133 non-null  uint8  \n",
      "dtypes: float64(54), int64(1), uint8(13)\n",
      "memory usage: 43.3 MB\n"
     ]
    }
   ],
   "source": [
    "X_dummy = pd.get_dummies(X_raw)\n",
    "X_dummy.info()\n"
   ]
  },
  {
   "cell_type": "code",
   "execution_count": 8,
   "metadata": {},
   "outputs": [
    {
     "data": {
      "text/plain": [
       "array([0, 0, 0, ..., 0, 0, 0], dtype=int64)"
      ]
     },
     "execution_count": 8,
     "metadata": {},
     "output_type": "execute_result"
    }
   ],
   "source": [
    "y = df_data[KEY_FLAG].ravel()\n",
    "y\n"
   ]
  },
  {
   "cell_type": "code",
   "execution_count": 9,
   "metadata": {},
   "outputs": [
    {
     "data": {
      "text/plain": [
       "array([ 141288,  141288,  141288, ..., 3353251, 3353251, 3353251],\n",
       "      dtype=int64)"
      ]
     },
     "execution_count": 9,
     "metadata": {},
     "output_type": "execute_result"
    }
   ],
   "source": [
    "groups = df_data[KEY_IDENTITY].ravel()\n",
    "groups\n"
   ]
  },
  {
   "attachments": {},
   "cell_type": "markdown",
   "metadata": {},
   "source": [
    "## CatBoost\n"
   ]
  },
  {
   "cell_type": "code",
   "execution_count": 18,
   "metadata": {},
   "outputs": [
    {
     "name": "stdout",
     "output_type": "stream",
     "text": [
      ">>> CV Result (CatBoost)\n",
      "accuracy_mean: 0.9957\n",
      "accuracy_std:  0.0007\n",
      "auc_mean:      0.9957\n",
      "auc_std:       0.0021\n",
      "CPU times: total: 5min 54s\n",
      "Wall time: 4min 28s\n"
     ]
    }
   ],
   "source": [
    "%%time\n",
    "from catboost import CatBoostClassifier\n",
    "\n",
    "catboost_model = CatBoostClassifier(\n",
    "    cat_features=CATEGORICAL_COLUMNS_FULL,\n",
    "    task_type='GPU',\n",
    "    devices='0',\n",
    "    random_state=SEED,\n",
    "    verbose=False,\n",
    ")\n",
    "\n",
    "test_sklearn(\n",
    "    'CatBoost',\n",
    "    catboost_model,\n",
    ")\n"
   ]
  },
  {
   "attachments": {},
   "cell_type": "markdown",
   "metadata": {},
   "source": [
    "## Light Gradient Boosting\n"
   ]
  },
  {
   "cell_type": "code",
   "execution_count": 28,
   "metadata": {},
   "outputs": [
    {
     "name": "stdout",
     "output_type": "stream",
     "text": [
      ">>> CV Result (LightGB)\n",
      "accuracy_mean: 0.9954\n",
      "accuracy_std:  0.0009\n",
      "auc_mean:      0.9960\n",
      "auc_std:       0.0016\n",
      "CPU times: total: 1min 37s\n",
      "Wall time: 18.8 s\n"
     ]
    }
   ],
   "source": [
    "%%time\n",
    "from lightgbm import LGBMClassifier\n",
    "\n",
    "lgb_model = LGBMClassifier(\n",
    "    # Categorical features will be automatically detected.\n",
    "    random_state=SEED,\n",
    ")\n",
    "\n",
    "test_sklearn(\n",
    "    'LightGB',\n",
    "    lgb_model,\n",
    ")\n"
   ]
  },
  {
   "attachments": {},
   "cell_type": "markdown",
   "metadata": {},
   "source": [
    "## Extreme Gradient Boosting\n"
   ]
  },
  {
   "cell_type": "code",
   "execution_count": 22,
   "metadata": {},
   "outputs": [
    {
     "name": "stdout",
     "output_type": "stream",
     "text": [
      ">>> CV Result (XGBoost)\n",
      "accuracy_mean: 0.9952\n",
      "accuracy_std:  0.0004\n",
      "auc_mean:      0.9951\n",
      "auc_std:       0.0024\n",
      "CPU times: total: 1min 15s\n",
      "Wall time: 22.8 s\n"
     ]
    }
   ],
   "source": [
    "%%time\n",
    "from xgboost import XGBClassifier\n",
    "\n",
    "xgboost_model = XGBClassifier(\n",
    "    enable_categorical=True,\n",
    "    tree_method='gpu_hist',\n",
    "    random_state=SEED,\n",
    ")\n",
    "\n",
    "test_sklearn(\n",
    "    'XGBoost',\n",
    "    xgboost_model,\n",
    ")\n"
   ]
  },
  {
   "attachments": {},
   "cell_type": "markdown",
   "metadata": {},
   "source": [
    "## Hist Gradient Boosting\n"
   ]
  },
  {
   "cell_type": "code",
   "execution_count": 24,
   "metadata": {},
   "outputs": [
    {
     "name": "stdout",
     "output_type": "stream",
     "text": [
      ">>> CV Result (GradientBoosting)\n",
      "accuracy_mean: 0.9941\n",
      "accuracy_std:  0.0014\n",
      "auc_mean:      0.9957\n",
      "auc_std:       0.0021\n",
      "CPU times: total: 2min 31s\n",
      "Wall time: 28.2 s\n"
     ]
    }
   ],
   "source": [
    "%%time\n",
    "from sklearn.ensemble import HistGradientBoostingClassifier\n",
    "\n",
    "histGB_model = HistGradientBoostingClassifier(\n",
    "    random_state=SEED,\n",
    "    categorical_features=CATEGORICAL_COLUMNS_FULL,\n",
    ")\n",
    "\n",
    "test_sklearn(\n",
    "    'HistGradientBoosting',\n",
    "    histGB_model,\n",
    "    encode='ordinal',\n",
    ")\n"
   ]
  },
  {
   "attachments": {},
   "cell_type": "markdown",
   "metadata": {},
   "source": [
    "## Extra Trees\n"
   ]
  },
  {
   "cell_type": "code",
   "execution_count": 34,
   "metadata": {},
   "outputs": [
    {
     "name": "stdout",
     "output_type": "stream",
     "text": [
      ">>> CV Result (ExtraTrees)\n",
      "accuracy_mean: 0.9614\n",
      "accuracy_std:  0.0061\n",
      "auc_mean:      0.9790\n",
      "auc_std:       0.0050\n",
      "CPU times: total: 24.1 s\n",
      "Wall time: 43.1 s\n"
     ]
    }
   ],
   "source": [
    "%%time\n",
    "from sklearn.ensemble import ExtraTreesClassifier\n",
    "\n",
    "extra_trees_model = ExtraTreesClassifier(\n",
    "    class_weight='balanced',\n",
    "    random_state=SEED,\n",
    "    n_jobs=-1,  # use all processors\n",
    ")\n",
    "\n",
    "test_sklearn(\n",
    "    'ExtraTrees',\n",
    "    extra_trees_model,\n",
    "    encode='dummy',\n",
    ")\n"
   ]
  },
  {
   "attachments": {},
   "cell_type": "markdown",
   "metadata": {},
   "source": [
    "## Ridge Classifier\n"
   ]
  },
  {
   "cell_type": "code",
   "execution_count": 39,
   "metadata": {},
   "outputs": [
    {
     "name": "stdout",
     "output_type": "stream",
     "text": [
      ">>> CV Result (Ridge)\n",
      "accuracy_mean: 0.9613\n",
      "accuracy_std:  0.0060\n",
      "auc_mean:      0.9527\n",
      "auc_std:       0.0086\n",
      "CPU times: total: 14.6 s\n",
      "Wall time: 13.5 s\n"
     ]
    }
   ],
   "source": [
    "%%time\n",
    "from sklearn.linear_model import RidgeClassifier\n",
    "\n",
    "ridge_model = RidgeClassifier(\n",
    "    # class_weight='balanced',  # worse...\n",
    "    random_state=SEED,\n",
    ")\n",
    "\n",
    "test_sklearn(\n",
    "    'Ridge',\n",
    "    ridge_model,\n",
    "    encode='dummy',\n",
    ")\n"
   ]
  },
  {
   "attachments": {},
   "cell_type": "markdown",
   "metadata": {},
   "source": [
    "## Logistic Regression\n"
   ]
  },
  {
   "cell_type": "code",
   "execution_count": 43,
   "metadata": {},
   "outputs": [
    {
     "name": "stdout",
     "output_type": "stream",
     "text": [
      ">>> CV Result (Logistic)\n",
      "accuracy_mean: 0.9658\n",
      "accuracy_std:  0.0063\n",
      "auc_mean:      0.9550\n",
      "auc_std:       0.0051\n",
      "CPU times: total: 13 s\n",
      "Wall time: 27.7 s\n"
     ]
    }
   ],
   "source": [
    "%%time\n",
    "from sklearn.linear_model import LogisticRegression\n",
    "\n",
    "logistic_model = LogisticRegression(\n",
    "    solver='newton-cholesky',\n",
    "    # class_weight='balanced',  # worse...\n",
    "    random_state=SEED,\n",
    "    n_jobs=-1,  # use all processors\n",
    ")\n",
    "\n",
    "test_sklearn(\n",
    "    'Logistic',\n",
    "    logistic_model,\n",
    "    encode='dummy',\n",
    ")\n"
   ]
  },
  {
   "attachments": {},
   "cell_type": "markdown",
   "metadata": {},
   "source": [
    "## K-Nearest Neighbors\n"
   ]
  },
  {
   "cell_type": "code",
   "execution_count": 44,
   "metadata": {},
   "outputs": [
    {
     "name": "stdout",
     "output_type": "stream",
     "text": [
      ">>> CV Result (KNN)\n",
      "accuracy_mean: 0.9517\n",
      "accuracy_std:  0.0062\n",
      "auc_mean:      0.5381\n",
      "auc_std:       0.0143\n",
      "CPU times: total: 8min 22s\n",
      "Wall time: 56 s\n"
     ]
    }
   ],
   "source": [
    "%%time\n",
    "from sklearn.neighbors import KNeighborsClassifier\n",
    "\n",
    "KNN_model = KNeighborsClassifier(\n",
    "    n_jobs=-1,  # use all processors\n",
    ")\n",
    "\n",
    "test_sklearn(\n",
    "    'KNN',\n",
    "    KNN_model,\n",
    "    encode='dummy',\n",
    ")\n"
   ]
  },
  {
   "attachments": {},
   "cell_type": "markdown",
   "metadata": {},
   "source": [
    "## AdaBoost\n"
   ]
  },
  {
   "cell_type": "code",
   "execution_count": 47,
   "metadata": {},
   "outputs": [
    {
     "name": "stdout",
     "output_type": "stream",
     "text": [
      ">>> CV Result (AdaBoost)\n",
      "accuracy_mean: 0.9931\n",
      "accuracy_std:  0.0020\n",
      "auc_mean:      0.9946\n",
      "auc_std:       0.0023\n",
      "CPU times: total: 2min 25s\n",
      "Wall time: 2min 25s\n"
     ]
    }
   ],
   "source": [
    "%%time\n",
    "from sklearn.ensemble import AdaBoostClassifier\n",
    "from sklearn.tree import DecisionTreeClassifier\n",
    "\n",
    "adaboost_model = AdaBoostClassifier(\n",
    "    random_state=SEED,\n",
    ")\n",
    "\n",
    "test_sklearn(\n",
    "    'AdaBoost',\n",
    "    adaboost_model,\n",
    "    encode='dummy',\n",
    ")\n"
   ]
  },
  {
   "attachments": {},
   "cell_type": "markdown",
   "metadata": {},
   "source": [
    "## Linear Discriminant Analysis\n"
   ]
  },
  {
   "cell_type": "code",
   "execution_count": 49,
   "metadata": {},
   "outputs": [
    {
     "name": "stdout",
     "output_type": "stream",
     "text": [
      ">>> CV Result (LDA)\n",
      "accuracy_mean: 0.9609\n",
      "accuracy_std:  0.0079\n",
      "auc_mean:      0.9527\n",
      "auc_std:       0.0086\n",
      "CPU times: total: 53 s\n",
      "Wall time: 22 s\n"
     ]
    }
   ],
   "source": [
    "%%time\n",
    "from sklearn.discriminant_analysis import LinearDiscriminantAnalysis\n",
    "\n",
    "lda_model = LinearDiscriminantAnalysis()\n",
    "\n",
    "test_sklearn(\n",
    "    'LDA',\n",
    "    lda_model,\n",
    "    encode='dummy',\n",
    ")\n"
   ]
  },
  {
   "attachments": {},
   "cell_type": "markdown",
   "metadata": {},
   "source": [
    "## MLP\n"
   ]
  },
  {
   "cell_type": "code",
   "execution_count": 52,
   "metadata": {},
   "outputs": [
    {
     "name": "stdout",
     "output_type": "stream",
     "text": [
      ">>> CV Result (MLP)\n",
      "accuracy_mean: 0.9803\n",
      "accuracy_std:  0.0028\n",
      "auc_mean:      0.9711\n",
      "auc_std:       0.0087\n",
      "CPU times: total: 23min 41s\n",
      "Wall time: 11min 35s\n"
     ]
    }
   ],
   "source": [
    "%%time\n",
    "from sklearn.neural_network import MLPClassifier\n",
    "\n",
    "mlp_model = make_pipeline(\n",
    "    StandardScaler(),\n",
    "    MLPClassifier(\n",
    "        hidden_layer_sizes=(100,),\n",
    "        max_iter=1000,\n",
    "        random_state=SEED,\n",
    "    ),\n",
    ")\n",
    "\n",
    "test_sklearn(\n",
    "    'MLP',\n",
    "    mlp_model,\n",
    "    encode='dummy',\n",
    "    n_jobs=6,\n",
    ")\n"
   ]
  },
  {
   "attachments": {},
   "cell_type": "markdown",
   "metadata": {},
   "source": [
    "## Decision Tree\n"
   ]
  },
  {
   "cell_type": "code",
   "execution_count": 56,
   "metadata": {},
   "outputs": [
    {
     "name": "stdout",
     "output_type": "stream",
     "text": [
      ">>> CV Result (DecisionTree)\n",
      "accuracy_mean: 0.9907\n",
      "accuracy_std:  0.0013\n",
      "auc_mean:      0.9495\n",
      "auc_std:       0.0060\n",
      "CPU times: total: 11.3 s\n",
      "Wall time: 19.2 s\n"
     ]
    }
   ],
   "source": [
    "%%time\n",
    "from sklearn.tree import DecisionTreeClassifier\n",
    "\n",
    "decision_tree_model = DecisionTreeClassifier(\n",
    "    class_weight='balanced',\n",
    "    random_state=SEED,\n",
    ")\n",
    "\n",
    "test_sklearn(\n",
    "    'DecisionTree',\n",
    "    decision_tree_model,\n",
    "    encode='dummy',\n",
    "    n_jobs=6,\n",
    ")\n"
   ]
  },
  {
   "attachments": {},
   "cell_type": "markdown",
   "metadata": {},
   "source": [
    "## SVM (With RBF Kernel)\n"
   ]
  },
  {
   "cell_type": "code",
   "execution_count": 57,
   "metadata": {},
   "outputs": [
    {
     "name": "stdout",
     "output_type": "stream",
     "text": [
      ">>> CV Result (SVM)\n",
      "accuracy_mean: 0.9731\n",
      "accuracy_std:  0.0044\n",
      "auc_mean:      0.9566\n",
      "auc_std:       0.0052\n",
      "CPU times: total: 11.3 s\n",
      "Wall time: 6min 5s\n"
     ]
    }
   ],
   "source": [
    "%%time\n",
    "from sklearn.svm import SVC\n",
    "\n",
    "svm_model = make_pipeline(\n",
    "    StandardScaler(),\n",
    "    SVC(\n",
    "        kernel='rbf',  # default\n",
    "        random_state=SEED,\n",
    "    ),\n",
    ")\n",
    "\n",
    "test_sklearn(\n",
    "    'SVM',\n",
    "    svm_model,\n",
    "    encode='dummy',\n",
    "    n_jobs=6,\n",
    ")\n"
   ]
  },
  {
   "attachments": {},
   "cell_type": "markdown",
   "metadata": {},
   "source": [
    "## Naive Bayes\n"
   ]
  },
  {
   "cell_type": "code",
   "execution_count": 16,
   "metadata": {},
   "outputs": [
    {
     "name": "stdout",
     "output_type": "stream",
     "text": [
      ">>> CV Result (NaiveBayes)\n",
      "accuracy_mean: 0.9614\n",
      "accuracy_std:  0.0061\n",
      "auc_mean:      0.6899\n",
      "auc_std:       0.0657\n",
      "CPU times: total: 11.3 s\n",
      "Wall time: 12 s\n"
     ]
    }
   ],
   "source": [
    "%%time\n",
    "from sklearn.naive_bayes import MultinomialNB\n",
    "\n",
    "nb_model = make_pipeline(\n",
    "    MinMaxScaler(),\n",
    "    MultinomialNB(),\n",
    ")\n",
    "\n",
    "test_sklearn(\n",
    "    'NaiveBayes',\n",
    "    nb_model,\n",
    "    encode='dummy',\n",
    "    n_jobs=6,\n",
    ")\n"
   ]
  },
  {
   "attachments": {},
   "cell_type": "markdown",
   "metadata": {},
   "source": [
    "## Save Result\n"
   ]
  },
  {
   "cell_type": "code",
   "execution_count": 18,
   "metadata": {},
   "outputs": [],
   "source": [
    "df_result.to_csv(MODEL_RESULT_PATH)\n"
   ]
  },
  {
   "attachments": {},
   "cell_type": "markdown",
   "metadata": {},
   "source": [
    "## Summary\n"
   ]
  },
  {
   "cell_type": "code",
   "execution_count": 17,
   "metadata": {},
   "outputs": [
    {
     "data": {
      "text/html": [
       "<style type=\"text/css\">\n",
       "</style>\n",
       "<table id=\"T_4421f_\">\n",
       "  <thead>\n",
       "    <tr>\n",
       "      <th class=\"index_name level0\" >index</th>\n",
       "      <th class=\"col_heading level0 col0\" >accuracy mean</th>\n",
       "      <th class=\"col_heading level0 col1\" >accuracy std</th>\n",
       "      <th class=\"col_heading level0 col2\" >AUC mean</th>\n",
       "      <th class=\"col_heading level0 col3\" >AUC std</th>\n",
       "    </tr>\n",
       "  </thead>\n",
       "  <tbody>\n",
       "    <tr>\n",
       "      <th id=\"T_4421f_level0_row0\" class=\"row_heading level0 row0\" >CatBoost</th>\n",
       "      <td id=\"T_4421f_row0_col0\" class=\"data row0 col0\" >0.9957</td>\n",
       "      <td id=\"T_4421f_row0_col1\" class=\"data row0 col1\" >0.0007</td>\n",
       "      <td id=\"T_4421f_row0_col2\" class=\"data row0 col2\" >0.9957</td>\n",
       "      <td id=\"T_4421f_row0_col3\" class=\"data row0 col3\" >0.0021</td>\n",
       "    </tr>\n",
       "    <tr>\n",
       "      <th id=\"T_4421f_level0_row1\" class=\"row_heading level0 row1\" >LightGB</th>\n",
       "      <td id=\"T_4421f_row1_col0\" class=\"data row1 col0\" >0.9954</td>\n",
       "      <td id=\"T_4421f_row1_col1\" class=\"data row1 col1\" >0.0009</td>\n",
       "      <td id=\"T_4421f_row1_col2\" class=\"data row1 col2\" >0.9960</td>\n",
       "      <td id=\"T_4421f_row1_col3\" class=\"data row1 col3\" >0.0016</td>\n",
       "    </tr>\n",
       "    <tr>\n",
       "      <th id=\"T_4421f_level0_row2\" class=\"row_heading level0 row2\" >XGBoost</th>\n",
       "      <td id=\"T_4421f_row2_col0\" class=\"data row2 col0\" >0.9952</td>\n",
       "      <td id=\"T_4421f_row2_col1\" class=\"data row2 col1\" >0.0004</td>\n",
       "      <td id=\"T_4421f_row2_col2\" class=\"data row2 col2\" >0.9951</td>\n",
       "      <td id=\"T_4421f_row2_col3\" class=\"data row2 col3\" >0.0024</td>\n",
       "    </tr>\n",
       "    <tr>\n",
       "      <th id=\"T_4421f_level0_row3\" class=\"row_heading level0 row3\" >HistGradientBoosting</th>\n",
       "      <td id=\"T_4421f_row3_col0\" class=\"data row3 col0\" >0.9941</td>\n",
       "      <td id=\"T_4421f_row3_col1\" class=\"data row3 col1\" >0.0014</td>\n",
       "      <td id=\"T_4421f_row3_col2\" class=\"data row3 col2\" >0.9957</td>\n",
       "      <td id=\"T_4421f_row3_col3\" class=\"data row3 col3\" >0.0021</td>\n",
       "    </tr>\n",
       "    <tr>\n",
       "      <th id=\"T_4421f_level0_row4\" class=\"row_heading level0 row4\" >AdaBoost</th>\n",
       "      <td id=\"T_4421f_row4_col0\" class=\"data row4 col0\" >0.9931</td>\n",
       "      <td id=\"T_4421f_row4_col1\" class=\"data row4 col1\" >0.0020</td>\n",
       "      <td id=\"T_4421f_row4_col2\" class=\"data row4 col2\" >0.9946</td>\n",
       "      <td id=\"T_4421f_row4_col3\" class=\"data row4 col3\" >0.0023</td>\n",
       "    </tr>\n",
       "    <tr>\n",
       "      <th id=\"T_4421f_level0_row5\" class=\"row_heading level0 row5\" >DecisionTree</th>\n",
       "      <td id=\"T_4421f_row5_col0\" class=\"data row5 col0\" >0.9907</td>\n",
       "      <td id=\"T_4421f_row5_col1\" class=\"data row5 col1\" >0.0013</td>\n",
       "      <td id=\"T_4421f_row5_col2\" class=\"data row5 col2\" >0.9495</td>\n",
       "      <td id=\"T_4421f_row5_col3\" class=\"data row5 col3\" >0.0060</td>\n",
       "    </tr>\n",
       "    <tr>\n",
       "      <th id=\"T_4421f_level0_row6\" class=\"row_heading level0 row6\" >MLP</th>\n",
       "      <td id=\"T_4421f_row6_col0\" class=\"data row6 col0\" >0.9803</td>\n",
       "      <td id=\"T_4421f_row6_col1\" class=\"data row6 col1\" >0.0028</td>\n",
       "      <td id=\"T_4421f_row6_col2\" class=\"data row6 col2\" >0.9711</td>\n",
       "      <td id=\"T_4421f_row6_col3\" class=\"data row6 col3\" >0.0087</td>\n",
       "    </tr>\n",
       "    <tr>\n",
       "      <th id=\"T_4421f_level0_row7\" class=\"row_heading level0 row7\" >SVM</th>\n",
       "      <td id=\"T_4421f_row7_col0\" class=\"data row7 col0\" >0.9731</td>\n",
       "      <td id=\"T_4421f_row7_col1\" class=\"data row7 col1\" >0.0044</td>\n",
       "      <td id=\"T_4421f_row7_col2\" class=\"data row7 col2\" >0.9566</td>\n",
       "      <td id=\"T_4421f_row7_col3\" class=\"data row7 col3\" >0.0052</td>\n",
       "    </tr>\n",
       "    <tr>\n",
       "      <th id=\"T_4421f_level0_row8\" class=\"row_heading level0 row8\" >Logistic</th>\n",
       "      <td id=\"T_4421f_row8_col0\" class=\"data row8 col0\" >0.9658</td>\n",
       "      <td id=\"T_4421f_row8_col1\" class=\"data row8 col1\" >0.0063</td>\n",
       "      <td id=\"T_4421f_row8_col2\" class=\"data row8 col2\" >0.9550</td>\n",
       "      <td id=\"T_4421f_row8_col3\" class=\"data row8 col3\" >0.0051</td>\n",
       "    </tr>\n",
       "    <tr>\n",
       "      <th id=\"T_4421f_level0_row9\" class=\"row_heading level0 row9\" >ExtraTrees</th>\n",
       "      <td id=\"T_4421f_row9_col0\" class=\"data row9 col0\" >0.9614</td>\n",
       "      <td id=\"T_4421f_row9_col1\" class=\"data row9 col1\" >0.0061</td>\n",
       "      <td id=\"T_4421f_row9_col2\" class=\"data row9 col2\" >0.9790</td>\n",
       "      <td id=\"T_4421f_row9_col3\" class=\"data row9 col3\" >0.0050</td>\n",
       "    </tr>\n",
       "    <tr>\n",
       "      <th id=\"T_4421f_level0_row10\" class=\"row_heading level0 row10\" >NaiveBayes</th>\n",
       "      <td id=\"T_4421f_row10_col0\" class=\"data row10 col0\" >0.9614</td>\n",
       "      <td id=\"T_4421f_row10_col1\" class=\"data row10 col1\" >0.0061</td>\n",
       "      <td id=\"T_4421f_row10_col2\" class=\"data row10 col2\" >0.6899</td>\n",
       "      <td id=\"T_4421f_row10_col3\" class=\"data row10 col3\" >0.0657</td>\n",
       "    </tr>\n",
       "    <tr>\n",
       "      <th id=\"T_4421f_level0_row11\" class=\"row_heading level0 row11\" >Ridge</th>\n",
       "      <td id=\"T_4421f_row11_col0\" class=\"data row11 col0\" >0.9613</td>\n",
       "      <td id=\"T_4421f_row11_col1\" class=\"data row11 col1\" >0.0060</td>\n",
       "      <td id=\"T_4421f_row11_col2\" class=\"data row11 col2\" >0.9527</td>\n",
       "      <td id=\"T_4421f_row11_col3\" class=\"data row11 col3\" >0.0086</td>\n",
       "    </tr>\n",
       "    <tr>\n",
       "      <th id=\"T_4421f_level0_row12\" class=\"row_heading level0 row12\" >LDA</th>\n",
       "      <td id=\"T_4421f_row12_col0\" class=\"data row12 col0\" >0.9609</td>\n",
       "      <td id=\"T_4421f_row12_col1\" class=\"data row12 col1\" >0.0079</td>\n",
       "      <td id=\"T_4421f_row12_col2\" class=\"data row12 col2\" >0.9527</td>\n",
       "      <td id=\"T_4421f_row12_col3\" class=\"data row12 col3\" >0.0086</td>\n",
       "    </tr>\n",
       "    <tr>\n",
       "      <th id=\"T_4421f_level0_row13\" class=\"row_heading level0 row13\" >KNN</th>\n",
       "      <td id=\"T_4421f_row13_col0\" class=\"data row13 col0\" >0.9517</td>\n",
       "      <td id=\"T_4421f_row13_col1\" class=\"data row13 col1\" >0.0062</td>\n",
       "      <td id=\"T_4421f_row13_col2\" class=\"data row13 col2\" >0.5381</td>\n",
       "      <td id=\"T_4421f_row13_col3\" class=\"data row13 col3\" >0.0143</td>\n",
       "    </tr>\n",
       "  </tbody>\n",
       "</table>\n"
      ],
      "text/plain": [
       "<pandas.io.formats.style.Styler at 0x1de8019e490>"
      ]
     },
     "execution_count": 17,
     "metadata": {},
     "output_type": "execute_result"
    }
   ],
   "source": [
    "df_summary = df_result.T.sort_values(\n",
    "    by=['accuracy mean', 'AUC mean'],\n",
    "    ascending=False,\n",
    ")\n",
    "\n",
    "df_summary.style.format('{:.4f}')\n"
   ]
  }
 ],
 "metadata": {
  "kernelspec": {
   "display_name": "Python 3.9.2 64-bit",
   "language": "python",
   "name": "python3"
  },
  "language_info": {
   "codemirror_mode": {
    "name": "ipython",
    "version": 3
   },
   "file_extension": ".py",
   "mimetype": "text/x-python",
   "name": "python",
   "nbconvert_exporter": "python",
   "pygments_lexer": "ipython3",
   "version": "3.9.2"
  },
  "orig_nbformat": 4,
  "vscode": {
   "interpreter": {
    "hash": "f7976576504ac6c456dadd405d7477574ca2a64265ee4724cfbc25daae5f6d94"
   }
  }
 },
 "nbformat": 4,
 "nbformat_minor": 2
}
